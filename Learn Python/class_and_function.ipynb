{
 "cells": [
  {
   "cell_type": "markdown",
   "id": "a5523291-81da-4436-a078-15df10b3b9d3",
   "metadata": {},
   "source": [
    "# Class"
   ]
  },
  {
   "cell_type": "markdown",
   "id": "450319bf-7a4c-4c55-891e-ee5a88f3fb40",
   "metadata": {},
   "source": [
    "- In Python, a class is a blueprint for creating objects. \n",
    "- It defines a set of attributes (variables) and methods (functions) that describe the properties and behaviors of the objects that will be created from it. \n",
    "- Classes are the foundation of object-oriented programming (OOP) in Python."
   ]
  },
  {
   "cell_type": "code",
   "execution_count": 3,
   "id": "afc5e9ce-6bce-4a74-b207-42d8dbd11546",
   "metadata": {},
   "outputs": [],
   "source": [
    "#  Class => Template \n",
    "#  Object => Our data which are placed in template and what we recive after add thing data (Instance of class )"
   ]
  },
  {
   "cell_type": "code",
   "execution_count": 7,
   "id": "bc90458a-3220-4f57-85bd-b152280d69dd",
   "metadata": {},
   "outputs": [],
   "source": [
    "# class => My name is ______ and my roll number is  _____\n",
    "# data =>  Jay , 19\n",
    "# objects => My name is Jay and my roll number is  19"
   ]
  },
  {
   "cell_type": "code",
   "execution_count": 8,
   "id": "d9bd0fb3-d9e4-49b8-a203-080ce3896a17",
   "metadata": {},
   "outputs": [],
   "source": [
    "# we can not update change class varibale using object instance\n",
    "#  Class Data change only Class method not with object\n",
    "#  we only access class variable uing object instance "
   ]
  },
  {
   "cell_type": "code",
   "execution_count": 9,
   "id": "4a5f9b77-6e14-4bea-bd50-b05213ec43da",
   "metadata": {},
   "outputs": [],
   "source": [
    "#  Self atle je object thi apde  koy method (funvtion use karva mangta hoy to te object self hoy )"
   ]
  },
  {
   "cell_type": "code",
   "execution_count": 23,
   "id": "73d2d9c8-104e-4575-be6f-e8e64156cd67",
   "metadata": {},
   "outputs": [
    {
     "name": "stdout",
     "output_type": "stream",
     "text": [
      "My Name is  Jay Patel\n"
     ]
    }
   ],
   "source": [
    "#  basic Class\n",
    "class MyData:\n",
    "    #  We create on function in class and here self is our instance \n",
    "    def mydetails(self):\n",
    "        print(\"My Name is \",self.name)\n",
    "jay = MyData() # we create one Instance Using Class\n",
    "jay.name = \"Jay Patel\" # we add a name is instrance\n",
    "# atle ke je pan object (instance) banaviyo te ma apde name = name add kariyu je darek data self ni madad thi acess thase kem ke jay ej self chhe\n",
    "jay.mydetails()  # we use function and in function our name is print using our instance (self)"
   ]
  },
  {
   "cell_type": "markdown",
   "id": "de8980aa-a656-4728-8dd6-9c91c651eee1",
   "metadata": {},
   "source": [
    "# Dunder Methods "
   ]
  },
  {
   "cell_type": "markdown",
   "id": "5a55240e-9954-48ff-b328-d791fcbe2e5f",
   "metadata": {},
   "source": [
    "- Dunder methods, also known as magic methods or special methods, are methods in Python that have double underscores (__) both at the beginning and the end of their names. \n",
    "- These methods provide special behavior to classes and allow you to define custom functionality for built-in operators or operations in Python."
   ]
  },
  {
   "cell_type": "code",
   "execution_count": 135,
   "id": "fca72990-0b6c-4ea2-a971-1e499eee5af7",
   "metadata": {},
   "outputs": [
    {
     "name": "stdout",
     "output_type": "stream",
     "text": [
      "Im Run When Class create object\n",
      "Im Run When Class create object\n",
      "Im Run When Class create object\n",
      "im __str__ method\n"
     ]
    }
   ],
   "source": [
    "class Test:\n",
    "    def __init__(self,name):\n",
    "        \"\"\"Hi im Document \"\"\"\n",
    "        self.name =name\n",
    "        self.age = 22\n",
    "        print(\"Im Run When Class create object\")\n",
    "    def __str__(self):\n",
    "        return \"im __str__ method\"\n",
    "        #  if we dont use __str__ then class return a object of instance and this is not readable formate \n",
    "    def __eq__(self,name):\n",
    "        return \" I m running when some on try to compare with other \",self.name\n",
    "        #  wen some try to campare two class obj with each other (==)\n",
    "    def __format__(self,name):\n",
    "        return \"I m running when some on try to formate me \"\n",
    "        # if some one use formating tool for class obj __formate__ are called\n",
    "    def __ge__(self,name):\n",
    "        return \" I m running when some on try to compare with other \",self.name\n",
    "        #  wen some try to campare two class obj with each other (>=,<=)\n",
    "    # def __getattribute__(self,data):\n",
    "    #     return \"some on try to get a object details \",object.__getattribute__(self, data)\n",
    "    def test_fun():\n",
    "        return \" Basic Function\"\n",
    "obj =Test(\"jay\")\n",
    "obj1 =Test(\"jay\")\n",
    "obj2 =Test(\"jay\")\n",
    "print(obj)"
   ]
  },
  {
   "cell_type": "code",
   "execution_count": 136,
   "id": "c27fc1bb-65b5-4431-ae3e-82d02ca8a536",
   "metadata": {},
   "outputs": [
    {
     "data": {
      "text/plain": [
       "['__class__',\n",
       " '__delattr__',\n",
       " '__dict__',\n",
       " '__dir__',\n",
       " '__doc__',\n",
       " '__eq__',\n",
       " '__format__',\n",
       " '__ge__',\n",
       " '__getattribute__',\n",
       " '__getstate__',\n",
       " '__gt__',\n",
       " '__hash__',\n",
       " '__init__',\n",
       " '__init_subclass__',\n",
       " '__le__',\n",
       " '__lt__',\n",
       " '__module__',\n",
       " '__ne__',\n",
       " '__new__',\n",
       " '__reduce__',\n",
       " '__reduce_ex__',\n",
       " '__repr__',\n",
       " '__setattr__',\n",
       " '__sizeof__',\n",
       " '__str__',\n",
       " '__subclasshook__',\n",
       " '__weakref__',\n",
       " 'age',\n",
       " 'name',\n",
       " 'test_fun']"
      ]
     },
     "execution_count": 136,
     "metadata": {},
     "output_type": "execute_result"
    }
   ],
   "source": [
    "dir(obj) # return all object in our class "
   ]
  },
  {
   "cell_type": "code",
   "execution_count": 137,
   "id": "ef064b50-1eb9-4f87-8350-9a9bbb0d5c22",
   "metadata": {},
   "outputs": [
    {
     "data": {
      "text/plain": [
       "<bound method Test.__init__ of <__main__.Test object at 0x0000028026B9D650>>"
      ]
     },
     "execution_count": 137,
     "metadata": {},
     "output_type": "execute_result"
    }
   ],
   "source": [
    "obj.__init__#(Authometicly Call When class object are created)"
   ]
  },
  {
   "cell_type": "code",
   "execution_count": 138,
   "id": "2c5fa28c-02ee-4065-8705-8e5a4e84e0c9",
   "metadata": {},
   "outputs": [
    {
     "data": {
      "text/plain": [
       "__main__.Test"
      ]
     },
     "execution_count": 138,
     "metadata": {},
     "output_type": "execute_result"
    }
   ],
   "source": [
    "obj.__class__ # return class name "
   ]
  },
  {
   "cell_type": "code",
   "execution_count": 139,
   "id": "6b2f8fbe-dceb-4bb6-8cf3-d9437189622d",
   "metadata": {},
   "outputs": [
    {
     "data": {
      "text/plain": [
       "<method-wrapper '__delattr__' of Test object at 0x0000028026B9D650>"
      ]
     },
     "execution_count": 139,
     "metadata": {},
     "output_type": "execute_result"
    }
   ],
   "source": [
    "obj.__delattr__ # try to delete of any instance (No idea )"
   ]
  },
  {
   "cell_type": "code",
   "execution_count": 140,
   "id": "e1937378-c31e-436d-a076-964c9afdf8b1",
   "metadata": {},
   "outputs": [
    {
     "data": {
      "text/plain": [
       "{'name': 'jay', 'age': 22}"
      ]
     },
     "execution_count": 140,
     "metadata": {},
     "output_type": "execute_result"
    }
   ],
   "source": [
    "obj.__dict__"
   ]
  },
  {
   "cell_type": "code",
   "execution_count": 141,
   "id": "93e22600-9e19-46fb-af6e-c0484c39b850",
   "metadata": {},
   "outputs": [],
   "source": [
    "obj.__doc__ # return the comment in the object function "
   ]
  },
  {
   "cell_type": "code",
   "execution_count": 142,
   "id": "894d4c45-f8c3-44d8-ba35-683c3052595a",
   "metadata": {},
   "outputs": [
    {
     "data": {
      "text/plain": [
       "(' I m running when some on try to compare with other ', 'jay')"
      ]
     },
     "execution_count": 142,
     "metadata": {},
     "output_type": "execute_result"
    }
   ],
   "source": [
    "obj.__eq__\n",
    "obj1==obj2 "
   ]
  },
  {
   "cell_type": "code",
   "execution_count": 143,
   "id": "67fa7269-f317-4cfd-a1de-8ed93a7d6db3",
   "metadata": {},
   "outputs": [
    {
     "data": {
      "text/plain": [
       "'hi jayI m running when some on try to formate me  '"
      ]
     },
     "execution_count": 143,
     "metadata": {},
     "output_type": "execute_result"
    }
   ],
   "source": [
    "obj.__format__\n",
    "f\"hi jay{obj} \" # if some one use formating tool for class obj __formate__ are called"
   ]
  },
  {
   "cell_type": "code",
   "execution_count": 144,
   "id": "d9fa5759-ab42-49b2-a24d-2aeec5f24d7b",
   "metadata": {},
   "outputs": [
    {
     "data": {
      "text/plain": [
       "(' I m running when some on try to compare with other ', 'jay')"
      ]
     },
     "execution_count": 144,
     "metadata": {},
     "output_type": "execute_result"
    }
   ],
   "source": [
    "obj1.__ge__\n",
    "obj1>=obj2 # obj1<=obj2 "
   ]
  },
  {
   "cell_type": "code",
   "execution_count": 145,
   "id": "33c3f4a4-3d85-4405-805e-7e452a453d43",
   "metadata": {},
   "outputs": [],
   "source": [
    "# __lt__ (less than)\n",
    "# __ge__ (greater than or equal to)\n",
    "# __le__ (less than or equal to)\n",
    "# __eq__ (equal to), \n",
    "# __ne__ (not equal to)"
   ]
  },
  {
   "cell_type": "code",
   "execution_count": 146,
   "id": "19184d7b-74b9-4d11-949d-431fbf01584d",
   "metadata": {},
   "outputs": [
    {
     "data": {
      "text/plain": [
       "22"
      ]
     },
     "execution_count": 146,
     "metadata": {},
     "output_type": "execute_result"
    }
   ],
   "source": [
    "obj.age #obj.name \n",
    "# when some one try to get a object data then __getattribute__ initialize"
   ]
  },
  {
   "cell_type": "code",
   "execution_count": 147,
   "id": "ff275856-47e4-4905-9c27-8364ccad4a2e",
   "metadata": {},
   "outputs": [],
   "source": [
    "# obj.__getstate__ (NO ides)"
   ]
  },
  {
   "cell_type": "code",
   "execution_count": 148,
   "id": "6f734118-4cdd-4c21-bbaa-2460ebeaa760",
   "metadata": {},
   "outputs": [],
   "source": [
    "obj.__hash__#( when some one try to compare (==) object hash this methods initialize )"
   ]
  },
  {
   "cell_type": "code",
   "execution_count": 149,
   "id": "10235c36-a5d7-4407-a5a0-fe44094aab30",
   "metadata": {},
   "outputs": [
    {
     "data": {
      "text/plain": [
       "'__main__'"
      ]
     },
     "execution_count": 149,
     "metadata": {},
     "output_type": "execute_result"
    }
   ],
   "source": [
    "obj.__module__ # return the obj modul name "
   ]
  },
  {
   "cell_type": "code",
   "execution_count": 150,
   "id": "6da1bd0c-c954-41a9-a837-d25c25967d81",
   "metadata": {},
   "outputs": [
    {
     "data": {
      "text/plain": [
       "<function object.__new__(*args, **kwargs)>"
      ]
     },
     "execution_count": 150,
     "metadata": {},
     "output_type": "execute_result"
    }
   ],
   "source": [
    "obj.__new__ # when new instance are created "
   ]
  },
  {
   "cell_type": "code",
   "execution_count": 315,
   "id": "286b089e-1cbe-4726-8492-6bfaa1083fed",
   "metadata": {},
   "outputs": [],
   "source": [
    "class Jay:\n",
    "    def __init__(self,name):\n",
    "        self.name =name\n",
    "        print(\"Im Init\")\n",
    "    def __setattr__(self,name,value):\n",
    "        print(\"Some one chnage me \",name,value)\n",
    "        \n",
    "    # def __new__(self,name):\n",
    "    #     print(\"Im New \",self)\n",
    "    #     return \"jay\"\n",
    "    # new are inistiate when some try to creat new instance \n",
    "\n",
    "    def __repr__(self):\n",
    "        return f\"Hi Jay\"\n",
    "        # when some on call the object then repr and str are return the string value "
   ]
  },
  {
   "cell_type": "code",
   "execution_count": 316,
   "id": "69f0e5f8-54e5-4060-8fa6-0dfaa1c90c76",
   "metadata": {},
   "outputs": [
    {
     "name": "stdout",
     "output_type": "stream",
     "text": [
      "Some one chnage me  name jay\n",
      "Some one chnage me  age 25\n",
      "Im Init\n"
     ]
    },
    {
     "data": {
      "text/plain": [
       "Hi Jay"
      ]
     },
     "execution_count": 316,
     "metadata": {},
     "output_type": "execute_result"
    }
   ],
   "source": [
    "obj = Jay(\"jay\")\n",
    "obj"
   ]
  },
  {
   "cell_type": "code",
   "execution_count": 317,
   "id": "574775d5-290f-436d-b847-8fa1ac62c90a",
   "metadata": {},
   "outputs": [],
   "source": [
    "# here  first init run and then __new__"
   ]
  },
  {
   "cell_type": "code",
   "execution_count": 318,
   "id": "972686b5-2658-49e6-9364-0932465cfb68",
   "metadata": {},
   "outputs": [
    {
     "data": {
      "text/plain": [
       "'Hi Jay'"
      ]
     },
     "execution_count": 318,
     "metadata": {},
     "output_type": "execute_result"
    }
   ],
   "source": [
    "str(obj)"
   ]
  },
  {
   "cell_type": "code",
   "execution_count": 319,
   "id": "0f943fb9-b75d-47d6-aefc-9550355bf4d0",
   "metadata": {},
   "outputs": [],
   "source": [
    "# str and repr are same for returning string data but repr most use "
   ]
  },
  {
   "cell_type": "code",
   "execution_count": 320,
   "id": "0befa2e4-375c-4398-947d-4b7e2f9dcccb",
   "metadata": {},
   "outputs": [
    {
     "name": "stdout",
     "output_type": "stream",
     "text": [
      "Some one chnage me  name Jay\n"
     ]
    }
   ],
   "source": [
    "obj.name = \"Jay\" # when someone change the value of object __setattr__  is called  (__setattr__  not return value )"
   ]
  },
  {
   "cell_type": "code",
   "execution_count": 321,
   "id": "377341a2-656d-4c2b-9d24-478bbae44459",
   "metadata": {},
   "outputs": [
    {
     "data": {
      "text/plain": [
       "24"
      ]
     },
     "execution_count": 321,
     "metadata": {},
     "output_type": "execute_result"
    }
   ],
   "source": [
    "obj.__sizeof__() # return the our class memory size in bytes "
   ]
  },
  {
   "cell_type": "code",
   "execution_count": null,
   "id": "ccebaa88-134b-4bb0-9f17-dca77112d726",
   "metadata": {},
   "outputs": [],
   "source": []
  },
  {
   "cell_type": "markdown",
   "id": "8f7e42a8-fd4f-4b05-8006-6a444b1e96ec",
   "metadata": {},
   "source": []
  },
  {
   "cell_type": "markdown",
   "id": "71fbb67d-9628-4011-97ff-82f9a8ea24b1",
   "metadata": {},
   "source": [
    "# Super Function super()"
   ]
  },
  {
   "cell_type": "code",
   "execution_count": 347,
   "id": "627f1362-675e-4f9d-9877-e3b8fc7c6ba6",
   "metadata": {},
   "outputs": [
    {
     "name": "stdout",
     "output_type": "stream",
     "text": [
      "The ID is: 103\n",
      "The Name is: Jay\n",
      "The Address is: Valsad\n",
      "The Emails is: jay36@gmail.com\n"
     ]
    }
   ],
   "source": [
    "class Emp():\n",
    "\tdef __init__(self, id, name, Add):\n",
    "\t\tself.id = id\n",
    "\t\tself.name = name\n",
    "\t\tself.Add = Add\n",
    "# Class freelancer inherits EMP\n",
    "class Freelance(Emp):\n",
    "\tdef __init__(self, id, name, Add, Emails):\n",
    "\t\tsuper().__init__(id, name, Add)\n",
    "\t\tself.Emails = Emails\n",
    "\n",
    "Emp_1 = Freelance(103, \"Jay\", \"Valsad\" , \"jay36@gmail.com\")\n",
    "print('The ID is:', Emp_1.id)\n",
    "print('The Name is:', Emp_1.name)\n",
    "print('The Address is:', Emp_1.Add)\n",
    "print('The Emails is:', Emp_1.Emails)\n"
   ]
  },
  {
   "cell_type": "code",
   "execution_count": 348,
   "id": "5d7b74e5-bac9-47ea-8eb4-61cb4f9b1fa1",
   "metadata": {},
   "outputs": [],
   "source": [
    "# here we need id name and add in freeleace class but also thos data are present in our base class Emp "
   ]
  },
  {
   "cell_type": "code",
   "execution_count": 349,
   "id": "ce00a7af-e3e6-4b37-8c89-1fb2a52e2240",
   "metadata": {},
   "outputs": [],
   "source": [
    "#  So using of super() function we access any function in our baseclassed "
   ]
  },
  {
   "cell_type": "code",
   "execution_count": 351,
   "id": "8bd1825e-b1f7-4787-9511-cf5d3c27b404",
   "metadata": {},
   "outputs": [],
   "source": [
    "#  example  we need __init__ function data on our child class we we use \n",
    "# super().__init__ \n",
    "#  all init data are accessed here using super() function "
   ]
  },
  {
   "cell_type": "code",
   "execution_count": null,
   "id": "dcf31279-9b2a-4354-a57a-f875aa738212",
   "metadata": {},
   "outputs": [],
   "source": []
  },
  {
   "cell_type": "markdown",
   "id": "b072c7f0-2c92-4912-a251-97dbb2e2acd7",
   "metadata": {},
   "source": [
    "# Function"
   ]
  },
  {
   "cell_type": "code",
   "execution_count": 357,
   "id": "e3d43962-6aab-4e7f-81b3-460acc66a436",
   "metadata": {},
   "outputs": [],
   "source": [
    "def jaypatel():\n",
    "    print(\"Im Employee of it idol \")\n",
    "    return \"jay\""
   ]
  },
  {
   "cell_type": "code",
   "execution_count": 358,
   "id": "bf7dd02b-8fe9-4974-b8dd-a1cd78af3a67",
   "metadata": {},
   "outputs": [
    {
     "name": "stdout",
     "output_type": "stream",
     "text": [
      "Im Employee of it idol \n"
     ]
    },
    {
     "data": {
      "text/plain": [
       "'jay'"
      ]
     },
     "execution_count": 358,
     "metadata": {},
     "output_type": "execute_result"
    }
   ],
   "source": [
    "jaypatel()"
   ]
  },
  {
   "cell_type": "code",
   "execution_count": 359,
   "id": "edc29d85-1511-4e71-8ff7-8e12a75b754d",
   "metadata": {},
   "outputs": [],
   "source": [
    "# return is the value of jaypate() where print is simple our logic of function"
   ]
  },
  {
   "cell_type": "code",
   "execution_count": 362,
   "id": "d2e29188-3a54-441c-b379-6d79659f0854",
   "metadata": {},
   "outputs": [],
   "source": [
    "def jaypatel(data):\n",
    "    return f\"My name is {data}\""
   ]
  },
  {
   "cell_type": "code",
   "execution_count": 363,
   "id": "212c2aae-d6fc-4f72-8add-6eec94cdcc05",
   "metadata": {},
   "outputs": [
    {
     "data": {
      "text/plain": [
       "'My name is Jay'"
      ]
     },
     "execution_count": 363,
     "metadata": {},
     "output_type": "execute_result"
    }
   ],
   "source": [
    "jaypatel(\"Jay\")"
   ]
  },
  {
   "cell_type": "code",
   "execution_count": 364,
   "id": "2db7efd4-9a58-4ad2-b46d-90fbf16e1396",
   "metadata": {},
   "outputs": [],
   "source": [
    "# if we need unknow number of argument we use *arg\n",
    "# if we need unknow number of argument with key we use *kwarg"
   ]
  },
  {
   "cell_type": "code",
   "execution_count": 377,
   "id": "873f5f97-573d-477b-b306-db8cc3253d58",
   "metadata": {},
   "outputs": [],
   "source": [
    "def jaypatel(*data1,**data2):\n",
    "    return f\"My name is {data2}\""
   ]
  },
  {
   "cell_type": "code",
   "execution_count": 378,
   "id": "a3ce557a-1261-4504-b408-cec0afe4afd9",
   "metadata": {},
   "outputs": [
    {
     "data": {
      "text/plain": [
       "\"My name is {'name': 'Jay'}\""
      ]
     },
     "execution_count": 378,
     "metadata": {},
     "output_type": "execute_result"
    }
   ],
   "source": [
    "jaypatel(\"jay\",\"ajay\",\"salmankhan\" , name = \"Jay\")"
   ]
  },
  {
   "cell_type": "code",
   "execution_count": 379,
   "id": "44b06221-3d3b-48cd-b6b4-fe58cfff16f7",
   "metadata": {},
   "outputs": [],
   "source": [
    "#  function ni andar function banavi sakiye "
   ]
  },
  {
   "cell_type": "markdown",
   "id": "da49b891-a413-45b0-bb8b-caa02ca0321b",
   "metadata": {},
   "source": [
    "# Inharitance"
   ]
  },
  {
   "cell_type": "markdown",
   "id": "1228ddf1-46f9-42bc-8a64-b7b2f71b7e9d",
   "metadata": {},
   "source": [
    "- Single Inheritance.\n",
    "- Multiple Inheritance.\n",
    "- Multilevel Inheritance.\n",
    "- Hierarchical Inheritance.\n",
    "- Hybrid Inheritance."
   ]
  },
  {
   "cell_type": "code",
   "execution_count": 380,
   "id": "3cb9aa74-f192-4709-b9b5-1fb01157bc86",
   "metadata": {},
   "outputs": [],
   "source": [
    "# Single Inheritance."
   ]
  },
  {
   "cell_type": "code",
   "execution_count": 393,
   "id": "41373e9a-ebd4-405c-9f48-f0415b9e8e02",
   "metadata": {},
   "outputs": [],
   "source": [
    "class User():\n",
    "    pass\n",
    "class Student(User):\n",
    "    pass"
   ]
  },
  {
   "cell_type": "code",
   "execution_count": 394,
   "id": "01f1adf5-a4a2-480c-894c-8e6be39544a3",
   "metadata": {},
   "outputs": [],
   "source": [
    "# Multiple Inheritance."
   ]
  },
  {
   "cell_type": "code",
   "execution_count": 395,
   "id": "ceb47376-45d9-411e-848a-2c273d06e8e4",
   "metadata": {},
   "outputs": [],
   "source": [
    "class User():\n",
    "    pass\n",
    "class Student():\n",
    "    pass\n",
    "class Teacher(User,Student):\n",
    "    pass"
   ]
  },
  {
   "cell_type": "code",
   "execution_count": 396,
   "id": "631ac35b-4149-4b12-8d41-812bb6406aea",
   "metadata": {},
   "outputs": [],
   "source": [
    "# Multilevel Inheritance."
   ]
  },
  {
   "cell_type": "code",
   "execution_count": 397,
   "id": "c2c93f40-c6ec-44a0-8087-3ca19946b1b4",
   "metadata": {},
   "outputs": [],
   "source": [
    "class User():\n",
    "    pass\n",
    "class Student(User):\n",
    "    pass\n",
    "class Teacher(Student):\n",
    "    pass"
   ]
  },
  {
   "cell_type": "code",
   "execution_count": 398,
   "id": "c2068b50-b5c4-46fb-8704-628b3d92508d",
   "metadata": {},
   "outputs": [],
   "source": [
    "#  Hierarchical Inheritance."
   ]
  },
  {
   "cell_type": "code",
   "execution_count": 399,
   "id": "fbe2647f-b530-49ae-8b42-5685320c4bdc",
   "metadata": {},
   "outputs": [],
   "source": [
    "class User():\n",
    "    pass\n",
    "class Student(User):\n",
    "    pass\n",
    "class Teacher(User):\n",
    "    pass"
   ]
  },
  {
   "cell_type": "code",
   "execution_count": 400,
   "id": "e742efac-dcf4-478c-97a4-c9d68f1e48bd",
   "metadata": {},
   "outputs": [],
   "source": [
    "# Hybrid Inheritance."
   ]
  },
  {
   "cell_type": "code",
   "execution_count": 404,
   "id": "e3a53207-b7dd-498e-b734-fb13589210a7",
   "metadata": {},
   "outputs": [],
   "source": [
    "class User():\n",
    "    pass\n",
    "class Student(User):\n",
    "    pass\n",
    "class Teacher(User):\n",
    "    pass\n",
    "class Principal(Student,Teacher):\n",
    "    pass"
   ]
  },
  {
   "cell_type": "code",
   "execution_count": null,
   "id": "16220ddc-d8cd-417c-8ea7-3a059c7a4eae",
   "metadata": {},
   "outputs": [],
   "source": []
  },
  {
   "cell_type": "markdown",
   "id": "f40b8875-56db-44af-bcd2-13c12ef05eb3",
   "metadata": {},
   "source": [
    "# Class Methods"
   ]
  },
  {
   "cell_type": "markdown",
   "id": "184266dc-a4db-486f-955c-c447ffbe65cf",
   "metadata": {},
   "source": [
    "#### @classmethod"
   ]
  },
  {
   "cell_type": "code",
   "execution_count": 38,
   "id": "d22c014e-9f0b-40e6-b28e-11e9685b559f",
   "metadata": {},
   "outputs": [],
   "source": [
    "class Test:\n",
    "    def __init__(self,name):\n",
    "        self.name = name \n",
    "        print(\"My name is\",self.name)\n",
    "    @classmethod # return karse class \n",
    "    def XYZ(cls,name):\n",
    "        return cls(name)"
   ]
  },
  {
   "cell_type": "code",
   "execution_count": 39,
   "id": "a9e1828f-1467-4032-baaf-d3caa692f939",
   "metadata": {},
   "outputs": [
    {
     "name": "stdout",
     "output_type": "stream",
     "text": [
      "My name is jay\n"
     ]
    }
   ],
   "source": [
    "obj = Test.XYZ(\"jay\")"
   ]
  },
  {
   "cell_type": "code",
   "execution_count": 40,
   "id": "245f478f-2cd6-426d-bdd8-35b7feac9dde",
   "metadata": {},
   "outputs": [],
   "source": [
    "# EXPLAIN : jab object banaviyo tab apda pase self = obj aviyu\n",
    "#  pan apde obj create karva class ni ek method no use kariyo atle te khali te method no object banavse je thi class acess ni thase \n",
    "#  aa problem ne solv karva apde @classmethod use kari su jethi  call kari methd ma instance nahi pan puro class avi jase and function class return karse\n",
    "#  je return karela data pachi class ma jase je rite apde class no object banaviye e rite \n",
    "#  je thi method na clal karva ni method ni sathe sathe class pan accesseble thase "
   ]
  },
  {
   "cell_type": "markdown",
   "id": "28f56e3c-be20-4f22-8b57-5983960a2dd3",
   "metadata": {},
   "source": [
    "### @staticmethod"
   ]
  },
  {
   "cell_type": "code",
   "execution_count": 42,
   "id": "99950069-1378-4d1e-bacb-ffe3aab7e52d",
   "metadata": {},
   "outputs": [],
   "source": [
    "#  static method ni andar na to apde self use karisu na to apde cls use karis "
   ]
  },
  {
   "cell_type": "code",
   "execution_count": 43,
   "id": "a1771e19-a9aa-4157-a456-269b605e77a9",
   "metadata": {},
   "outputs": [],
   "source": [
    "#  static methiod badha thi independent hoy chhe"
   ]
  },
  {
   "cell_type": "code",
   "execution_count": 44,
   "id": "b06b156a-2432-43fd-886d-001cd187db1f",
   "metadata": {},
   "outputs": [],
   "source": [
    "class Test:\n",
    "    @staticmethod\n",
    "    def XYZ(name):\n",
    "        print(\"Im Static Mtheod\")\n",
    "        return name"
   ]
  },
  {
   "cell_type": "code",
   "execution_count": 47,
   "id": "dacbb68d-cc10-4837-ac95-e318a870f077",
   "metadata": {},
   "outputs": [
    {
     "name": "stdout",
     "output_type": "stream",
     "text": [
      "Im Static Mtheod\n"
     ]
    },
    {
     "data": {
      "text/plain": [
       "'Jay Patel'"
      ]
     },
     "execution_count": 47,
     "metadata": {},
     "output_type": "execute_result"
    }
   ],
   "source": [
    "Jay = Test.XYZ(\"Jay Patel\")\n",
    "Jay"
   ]
  },
  {
   "cell_type": "code",
   "execution_count": 48,
   "id": "ffe6aa3a-f763-43b4-8f8e-43519167b4df",
   "metadata": {},
   "outputs": [
    {
     "name": "stdout",
     "output_type": "stream",
     "text": [
      "Im Static Mtheod\n"
     ]
    },
    {
     "data": {
      "text/plain": [
       "'Hi Jay'"
      ]
     },
     "execution_count": 48,
     "metadata": {},
     "output_type": "execute_result"
    }
   ],
   "source": [
    "Jay = Test()\n",
    "Jay.XYZ(\"Hi Jay\")"
   ]
  },
  {
   "cell_type": "code",
   "execution_count": null,
   "id": "d31ed7cb-3bea-4d7a-8efd-5bff9f6f4574",
   "metadata": {},
   "outputs": [],
   "source": []
  }
 ],
 "metadata": {
  "kernelspec": {
   "display_name": "Python 3 (ipykernel)",
   "language": "python",
   "name": "python3"
  },
  "language_info": {
   "codemirror_mode": {
    "name": "ipython",
    "version": 3
   },
   "file_extension": ".py",
   "mimetype": "text/x-python",
   "name": "python",
   "nbconvert_exporter": "python",
   "pygments_lexer": "ipython3",
   "version": "3.11.4"
  }
 },
 "nbformat": 4,
 "nbformat_minor": 5
}
