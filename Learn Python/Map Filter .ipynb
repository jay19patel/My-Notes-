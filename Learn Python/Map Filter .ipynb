{
 "cells": [
  {
   "cell_type": "markdown",
   "id": "f2983e04-96f7-4865-9f64-e2615b15f787",
   "metadata": {},
   "source": [
    "# Map"
   ]
  },
  {
   "cell_type": "code",
   "execution_count": 9,
   "id": "880c2bf3-f8e8-4f34-b98a-a2cc418e3fa8",
   "metadata": {},
   "outputs": [],
   "source": [
    "def sumdata(i):\n",
    "    return i+10"
   ]
  },
  {
   "cell_type": "code",
   "execution_count": 11,
   "id": "5335f5fc-8ef7-4707-ae14-89338d85a71c",
   "metadata": {},
   "outputs": [],
   "source": [
    "data = [1,2,3,4,5,6]"
   ]
  },
  {
   "cell_type": "code",
   "execution_count": 16,
   "id": "b6876b53-092e-40a8-83ce-51f238cb2462",
   "metadata": {},
   "outputs": [
    {
     "data": {
      "text/plain": [
       "<map at 0x2d51c8e2aa0>"
      ]
     },
     "execution_count": 16,
     "metadata": {},
     "output_type": "execute_result"
    }
   ],
   "source": [
    "(map(sumdata,data))"
   ]
  },
  {
   "cell_type": "code",
   "execution_count": 17,
   "id": "f0803545-48f3-4af6-b8b8-42a494dafdd3",
   "metadata": {},
   "outputs": [
    {
     "data": {
      "text/plain": [
       "[11, 12, 13, 14, 15, 16]"
      ]
     },
     "execution_count": 17,
     "metadata": {},
     "output_type": "execute_result"
    }
   ],
   "source": [
    "list(map(sumdata,data))"
   ]
  },
  {
   "cell_type": "code",
   "execution_count": 14,
   "id": "d28e6fc2-aff8-40e7-be84-01b160596be9",
   "metadata": {},
   "outputs": [],
   "source": [
    "#  function and data ne map karavi sakiye \n",
    "#  our data and function are repsat so we use map to combine them and passs those data in function using map\n",
    "#  map provide the object of data so we need to convert into list or any kind of data type "
   ]
  },
  {
   "cell_type": "markdown",
   "id": "a9f0f274-8f8d-4f3a-afcf-e253be8ba2db",
   "metadata": {},
   "source": [
    "# Filter"
   ]
  },
  {
   "cell_type": "code",
   "execution_count": 28,
   "id": "abee7d8e-5b2f-4cb1-bb62-4ee2c3f52d2c",
   "metadata": {},
   "outputs": [],
   "source": [
    "def sumdata(i):\n",
    "    return i==5"
   ]
  },
  {
   "cell_type": "code",
   "execution_count": 29,
   "id": "33565ef0-2d3d-4505-b273-d7dd10e4cbc8",
   "metadata": {},
   "outputs": [],
   "source": [
    "data = [1,2,3,4,5,6]"
   ]
  },
  {
   "cell_type": "code",
   "execution_count": 30,
   "id": "7571cafd-c111-4d1a-8f65-4380d2f51f32",
   "metadata": {},
   "outputs": [
    {
     "data": {
      "text/plain": [
       "<filter at 0x2d51c8e1660>"
      ]
     },
     "execution_count": 30,
     "metadata": {},
     "output_type": "execute_result"
    }
   ],
   "source": [
    "(filter(sumdata,data))"
   ]
  },
  {
   "cell_type": "code",
   "execution_count": 31,
   "id": "fa801bbf-12be-458a-8bee-49594fff8157",
   "metadata": {},
   "outputs": [
    {
     "data": {
      "text/plain": [
       "[5]"
      ]
     },
     "execution_count": 31,
     "metadata": {},
     "output_type": "execute_result"
    }
   ],
   "source": [
    "list(filter(sumdata,data))"
   ]
  },
  {
   "cell_type": "code",
   "execution_count": 32,
   "id": "e0b6e2e8-0ae7-437c-b53c-89784a9d01df",
   "metadata": {},
   "outputs": [],
   "source": [
    "#  filter use where condition is true then filter is give the data other vise bot return\n",
    "#  so final data are which who is true in functions "
   ]
  },
  {
   "cell_type": "markdown",
   "id": "d6a121dd-df17-4a76-9f0d-8c291184a372",
   "metadata": {},
   "source": [
    "# lambda"
   ]
  },
  {
   "cell_type": "code",
   "execution_count": 33,
   "id": "ac793bde-4dfe-4a76-9e2e-056132e6d5b8",
   "metadata": {},
   "outputs": [],
   "source": [
    "# A lambda function is a small anonymous function.\n",
    "# A lambda function can take any number of arguments, but can only have one expression."
   ]
  },
  {
   "cell_type": "code",
   "execution_count": 37,
   "id": "1f16e120-d69e-4b75-82a5-7daf6b7e899b",
   "metadata": {},
   "outputs": [],
   "source": [
    "#  normal function\n",
    "def myfunc(data):\n",
    "    for i in data:\n",
    "        if i == 5:\n",
    "            return  \"find\"\n",
    "    "
   ]
  },
  {
   "cell_type": "code",
   "execution_count": 45,
   "id": "fd64d075-43d2-4ea4-9a19-54d0b69314e9",
   "metadata": {},
   "outputs": [
    {
     "data": {
      "text/plain": [
       "'find'"
      ]
     },
     "execution_count": 45,
     "metadata": {},
     "output_type": "execute_result"
    }
   ],
   "source": [
    "myfunc([1,2,3,4,6,6,5])"
   ]
  },
  {
   "cell_type": "code",
   "execution_count": 49,
   "id": "00703f84-7be8-4dfc-867f-437efb0eff9f",
   "metadata": {},
   "outputs": [],
   "source": [
    "func = lambda data: [\"find\" for i in data if i==5]"
   ]
  },
  {
   "cell_type": "code",
   "execution_count": 50,
   "id": "7c6129d4-c1d4-4d09-b2ca-6f10974354c6",
   "metadata": {},
   "outputs": [
    {
     "data": {
      "text/plain": [
       "['find']"
      ]
     },
     "execution_count": 50,
     "metadata": {},
     "output_type": "execute_result"
    }
   ],
   "source": [
    "func([1,2,3,4,6,6,5])"
   ]
  },
  {
   "cell_type": "markdown",
   "id": "d5605827-30ce-422d-ac90-e1f7b831180d",
   "metadata": {},
   "source": [
    "# Combine all "
   ]
  },
  {
   "cell_type": "code",
   "execution_count": 52,
   "id": "ad336a09-1ebe-4f73-a718-44bc47924fb4",
   "metadata": {},
   "outputs": [],
   "source": [
    "numbers = [1, 2, 3, 4, 5, 6, 7, 8, 9, 10]"
   ]
  },
  {
   "cell_type": "code",
   "execution_count": 55,
   "id": "8a590364-dc7a-454f-b26c-8fa286bb6a02",
   "metadata": {},
   "outputs": [],
   "source": [
    "data = list(filter(lambda x: x%2==0,numbers))"
   ]
  },
  {
   "cell_type": "code",
   "execution_count": 56,
   "id": "7ac6a7ac-f960-4e30-a98b-8f4fcdc744fc",
   "metadata": {},
   "outputs": [
    {
     "data": {
      "text/plain": [
       "[2, 4, 6, 8, 10]"
      ]
     },
     "execution_count": 56,
     "metadata": {},
     "output_type": "execute_result"
    }
   ],
   "source": [
    "data"
   ]
  },
  {
   "cell_type": "code",
   "execution_count": 57,
   "id": "fd5c204d-7bf1-49dd-b321-50e1f520a5da",
   "metadata": {},
   "outputs": [],
   "source": [
    "# mainly lambda use in filter and map function for changing  data quickly"
   ]
  },
  {
   "cell_type": "code",
   "execution_count": null,
   "id": "c948cf1b-931b-424d-81bc-c27fee548e46",
   "metadata": {},
   "outputs": [],
   "source": []
  }
 ],
 "metadata": {
  "kernelspec": {
   "display_name": "Python 3 (ipykernel)",
   "language": "python",
   "name": "python3"
  },
  "language_info": {
   "codemirror_mode": {
    "name": "ipython",
    "version": 3
   },
   "file_extension": ".py",
   "mimetype": "text/x-python",
   "name": "python",
   "nbconvert_exporter": "python",
   "pygments_lexer": "ipython3",
   "version": "3.11.4"
  }
 },
 "nbformat": 4,
 "nbformat_minor": 5
}
