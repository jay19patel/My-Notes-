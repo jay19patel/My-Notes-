{
 "cells": [
  {
   "cell_type": "markdown",
   "id": "f23ac9ae-7b28-41ed-936d-ddc486786b84",
   "metadata": {},
   "source": [
    "# continue, break, and pass"
   ]
  },
  {
   "cell_type": "raw",
   "id": "2ebf3387-6895-46c5-a605-271fa28a1e50",
   "metadata": {},
   "source": [
    "continue: \n",
    "The continue statement is used inside loops to skip the remaining code inside the loop for the current iteration and move to the next iteration."
   ]
  },
  {
   "cell_type": "code",
   "execution_count": 4,
   "id": "604e77e6-0397-41af-beca-e371f39f153d",
   "metadata": {},
   "outputs": [
    {
     "name": "stdout",
     "output_type": "stream",
     "text": [
      "1\n",
      "2\n",
      "3\n",
      "4\n",
      "6\n",
      "7\n",
      "8\n",
      "9\n"
     ]
    }
   ],
   "source": [
    "data = [1,2,3,4,5,6,7,8,9]\n",
    "for i in data:\n",
    "    if i == 5:\n",
    "        continue\n",
    "    else:\n",
    "        print(i)\n",
    "        # 5 are not printed "
   ]
  },
  {
   "cell_type": "raw",
   "id": "5e741906-e22c-4625-82f3-f397a8c2b5a0",
   "metadata": {},
   "source": [
    "break: \n",
    "The break statement is used inside loops to immediately exit the loop and continue executing the code outside the loop."
   ]
  },
  {
   "cell_type": "code",
   "execution_count": 6,
   "id": "50727a9b-86e9-4266-8d58-9110afb107ba",
   "metadata": {},
   "outputs": [
    {
     "name": "stdout",
     "output_type": "stream",
     "text": [
      "1\n",
      "2\n",
      "3\n",
      "4\n"
     ]
    }
   ],
   "source": [
    "data = [1,2,3,4,5,6,7,8,9]\n",
    "for i in data:\n",
    "    if i == 5:\n",
    "        break\n",
    "        # if  contidition are true (i=5) then break are brack the loop and exit from the loop\n",
    "    else:\n",
    "        print(i)"
   ]
  },
  {
   "cell_type": "raw",
   "id": "5289d8e9-789b-4110-8cff-4ea0519658d4",
   "metadata": {},
   "source": [
    "pass: \n",
    "The pass statement is a null operation. It is used as a placeholder when a statement is syntactically required, but no action is desired or needed."
   ]
  },
  {
   "cell_type": "code",
   "execution_count": 7,
   "id": "67ba70f4-0f54-4ce1-b010-9d58fef48e8f",
   "metadata": {},
   "outputs": [],
   "source": [
    "def myfunct():\n",
    "    pass"
   ]
  },
  {
   "cell_type": "code",
   "execution_count": 8,
   "id": "b4a15fef-9005-4576-8d5e-08b4689d8b87",
   "metadata": {},
   "outputs": [],
   "source": [
    "for i in data:\n",
    "    pass"
   ]
  },
  {
   "cell_type": "code",
   "execution_count": null,
   "id": "2bd33ff3-326c-47f8-85e2-b221e0e9259d",
   "metadata": {},
   "outputs": [],
   "source": []
  }
 ],
 "metadata": {
  "kernelspec": {
   "display_name": "Python 3 (ipykernel)",
   "language": "python",
   "name": "python3"
  },
  "language_info": {
   "codemirror_mode": {
    "name": "ipython",
    "version": 3
   },
   "file_extension": ".py",
   "mimetype": "text/x-python",
   "name": "python",
   "nbconvert_exporter": "python",
   "pygments_lexer": "ipython3",
   "version": "3.11.4"
  }
 },
 "nbformat": 4,
 "nbformat_minor": 5
}
