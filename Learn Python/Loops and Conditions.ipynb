{
 "cells": [
  {
   "cell_type": "markdown",
   "id": "ab66069e-730f-4df4-8a31-e1638dd02dfc",
   "metadata": {},
   "source": [
    "## For Loop"
   ]
  },
  {
   "cell_type": "code",
   "execution_count": 3,
   "id": "ec8c25d5-c224-4db6-a415-37ff556080c9",
   "metadata": {},
   "outputs": [
    {
     "name": "stdout",
     "output_type": "stream",
     "text": [
      "apple\n",
      "banana\n",
      "orange\n"
     ]
    }
   ],
   "source": [
    "fruits = ['apple', 'banana', 'orange']\n",
    "for fruit in fruits:\n",
    "    print(fruit)"
   ]
  },
  {
   "cell_type": "code",
   "execution_count": 6,
   "id": "b1d29d56-82fd-44c7-99f0-1084449e604c",
   "metadata": {},
   "outputs": [],
   "source": [
    "# vara farti ek pachi ek element avi ne i ma add thay "
   ]
  },
  {
   "cell_type": "markdown",
   "id": "42f9b005-9200-42ac-a3eb-5c3a19c765f3",
   "metadata": {},
   "source": [
    "##  While Loops"
   ]
  },
  {
   "cell_type": "code",
   "execution_count": 5,
   "id": "871d1576-0574-4781-a8fe-e71d61eddbd6",
   "metadata": {},
   "outputs": [
    {
     "name": "stdout",
     "output_type": "stream",
     "text": [
      "0\n",
      "1\n",
      "2\n",
      "3\n",
      "4\n",
      "5\n"
     ]
    }
   ],
   "source": [
    "count=0\n",
    "while count <= 5:\n",
    "    print(count)\n",
    "    count += 1"
   ]
  },
  {
   "cell_type": "code",
   "execution_count": 7,
   "id": "1803c25c-3553-43a8-9fbc-b4184986ede1",
   "metadata": {},
   "outputs": [],
   "source": [
    "#  jya sudhi sachu chhe tya sudhi farse loop if count 5 karta moti thay atle loop tuti jay "
   ]
  },
  {
   "cell_type": "code",
   "execution_count": 9,
   "id": "1bacf0f9-6c4d-4fcf-8e9e-d6a58032f624",
   "metadata": {},
   "outputs": [],
   "source": [
    "# while => jya sudhi "
   ]
  },
  {
   "cell_type": "markdown",
   "id": "84880e0c-6d4d-4ff9-84d7-0183b11b93d4",
   "metadata": {},
   "source": [
    "# Conditions"
   ]
  },
  {
   "cell_type": "code",
   "execution_count": 12,
   "id": "8882d5bf-6edf-453c-87bd-73c30051711b",
   "metadata": {},
   "outputs": [
    {
     "name": "stdin",
     "output_type": "stream",
     "text": [
      " Jay\n"
     ]
    },
    {
     "name": "stdout",
     "output_type": "stream",
     "text": [
      "Hi Jay\n"
     ]
    }
   ],
   "source": [
    "data = \"Jay\"\n",
    "n  = input(str())\n",
    "if n == data:\n",
    "    print(f\"Hi {n}\")\n",
    "else:\n",
    "    print(\"You are not Authenticated\")"
   ]
  },
  {
   "cell_type": "markdown",
   "id": "e791cccc-b27d-486f-989d-b41f0112f834",
   "metadata": {},
   "source": [
    "# Swicth Function "
   ]
  },
  {
   "cell_type": "markdown",
   "id": "254de0bf-7538-42a8-9b97-a69e9e0e6683",
   "metadata": {},
   "source": [
    "#### Match-case function base "
   ]
  },
  {
   "cell_type": "code",
   "execution_count": 19,
   "id": "1886902d-2205-41a1-ad39-1581f4a5462f",
   "metadata": {},
   "outputs": [
    {
     "name": "stdout",
     "output_type": "stream",
     "text": [
      "Hi Jay \n"
     ]
    }
   ],
   "source": [
    "match \"Jay\":\n",
    "    case \"Ajay\":\n",
    "        print(\"Jay Ajay\")\n",
    "    case \"Jay\":\n",
    "        print(\"Hi Jay \")\n",
    "        \n",
    "#  here match ni andar apdu data store rey and match a darek case sathe compare kare \n",
    "#  Jo compare karta karta jhe case sathe match  true thay te case run thay "
   ]
  },
  {
   "cell_type": "markdown",
   "id": "484bf925-3097-47a6-9693-120fb4bb502b",
   "metadata": {},
   "source": [
    "### Dictionary Base Switch Case "
   ]
  },
  {
   "cell_type": "code",
   "execution_count": 63,
   "id": "38724e9c-6e20-4466-9ca3-80f740ea5d6b",
   "metadata": {},
   "outputs": [],
   "source": [
    "mydi = {\n",
    "    \"jay\":\"my name is jay\",\n",
    "    \"ajay\":\"my name is ajay\",\n",
    "    \"kinjal\":\"my name is kinjal\",\n",
    "    \"sanket\":\"my name is sanket\",\n",
    "    \"ayush\":\"my name is ayush\"\n",
    "}"
   ]
  },
  {
   "cell_type": "code",
   "execution_count": 64,
   "id": "8b667ede-8ed2-4b9b-90b3-2a52e780800b",
   "metadata": {},
   "outputs": [
    {
     "data": {
      "text/plain": [
       "'Notfound'"
      ]
     },
     "execution_count": 64,
     "metadata": {},
     "output_type": "execute_result"
    }
   ],
   "source": [
    "mydi.get(\"salllu\",\"Notfound\")"
   ]
  },
  {
   "cell_type": "code",
   "execution_count": 65,
   "id": "f1b1b656-6c69-42e0-a8cc-e193c188ac95",
   "metadata": {},
   "outputs": [],
   "source": [
    "#  dictionary ma key and value no use kari ne apde condition chek kari sakiye \n",
    "#  all case add in dict \n",
    "# mydi.get(data,else part)\n",
    " # if data are find in dict then return value other vise else part run and return the else value "
   ]
  },
  {
   "cell_type": "code",
   "execution_count": null,
   "id": "647de8d1-ffc5-4884-b450-60a6d09fa3e0",
   "metadata": {},
   "outputs": [],
   "source": []
  },
  {
   "cell_type": "code",
   "execution_count": null,
   "id": "28131fcf-6066-4faf-a81d-f3196de33019",
   "metadata": {},
   "outputs": [],
   "source": []
  },
  {
   "cell_type": "code",
   "execution_count": null,
   "id": "4da21424-9479-4dbf-bd8b-3cfcec0a6abd",
   "metadata": {},
   "outputs": [],
   "source": []
  },
  {
   "cell_type": "code",
   "execution_count": null,
   "id": "ae6ba978-7e97-415b-9790-8b64d3f1af8e",
   "metadata": {},
   "outputs": [],
   "source": []
  }
 ],
 "metadata": {
  "kernelspec": {
   "display_name": "Python 3 (ipykernel)",
   "language": "python",
   "name": "python3"
  },
  "language_info": {
   "codemirror_mode": {
    "name": "ipython",
    "version": 3
   },
   "file_extension": ".py",
   "mimetype": "text/x-python",
   "name": "python",
   "nbconvert_exporter": "python",
   "pygments_lexer": "ipython3",
   "version": "3.11.4"
  }
 },
 "nbformat": 4,
 "nbformat_minor": 5
}
