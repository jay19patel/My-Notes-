{
 "cells": [
  {
   "cell_type": "markdown",
   "id": "84832eb2-0413-4fee-9c55-a182433f78d3",
   "metadata": {},
   "source": [
    "# Date Time Module"
   ]
  },
  {
   "cell_type": "code",
   "execution_count": 1,
   "id": "4efa5127-9933-4844-ba38-d0a6f9337ff7",
   "metadata": {},
   "outputs": [],
   "source": [
    "import datetime"
   ]
  },
  {
   "cell_type": "code",
   "execution_count": 2,
   "id": "cd7228b4-54a1-4984-bd2e-c330d316c029",
   "metadata": {},
   "outputs": [
    {
     "data": {
      "text/plain": [
       "datetime.datetime(2023, 8, 5, 12, 53, 9, 204514)"
      ]
     },
     "execution_count": 2,
     "metadata": {},
     "output_type": "execute_result"
    }
   ],
   "source": [
    "datetime.datetime.now()"
   ]
  },
  {
   "cell_type": "code",
   "execution_count": 6,
   "id": "71291062-377c-4871-9f12-a9861ce1598e",
   "metadata": {},
   "outputs": [
    {
     "data": {
      "text/plain": [
       "12"
      ]
     },
     "execution_count": 6,
     "metadata": {},
     "output_type": "execute_result"
    }
   ],
   "source": [
    "datetime.datetime.now().hour"
   ]
  },
  {
   "cell_type": "code",
   "execution_count": 9,
   "id": "513b4807-ecb0-4b5f-aefe-d55ee3401794",
   "metadata": {},
   "outputs": [
    {
     "data": {
      "text/plain": [
       "53"
      ]
     },
     "execution_count": 9,
     "metadata": {},
     "output_type": "execute_result"
    }
   ],
   "source": [
    "datetime.datetime.now().minute"
   ]
  },
  {
   "cell_type": "code",
   "execution_count": 21,
   "id": "616d4ace-ec43-44ac-b540-4bab46e28e79",
   "metadata": {},
   "outputs": [
    {
     "data": {
      "text/plain": [
       "datetime.date(2023, 8, 5)"
      ]
     },
     "execution_count": 21,
     "metadata": {},
     "output_type": "execute_result"
    }
   ],
   "source": [
    "datetime.datetime.now().date()"
   ]
  },
  {
   "cell_type": "markdown",
   "id": "854f129f-5c27-4cb3-9b96-2c955f4f6697",
   "metadata": {},
   "source": [
    "### Formating Date time"
   ]
  },
  {
   "cell_type": "raw",
   "id": "e6de720e-1872-4d84-beea-91e896af02aa",
   "metadata": {},
   "source": [
    "%a\tWeekday, short version\tWed\t\n",
    "%A\tWeekday, full version\tWednesday\t\n",
    "%w\tWeekday as a number 0-6, 0 is Sunday\t3\t\n",
    "%d\tDay of month 01-31\t31\t\n",
    "%b\tMonth name, short version\tDec\t\n",
    "%B\tMonth name, full version\tDecember\t\n",
    "%m\tMonth as a number 01-12\t12\t\n",
    "%y\tYear, short version, without century\t18\t\n",
    "%Y\tYear, full version\t2018\t\n",
    "%H\tHour 00-23\t17\t\n",
    "%I\tHour 00-12\t05\t\n",
    "%p\tAM/PM\tPM\t\n",
    "%M\tMinute 00-59\t41\t\n",
    "%S\tSecond 00-59\t08\t\n",
    "%f\tMicrosecond 000000-999999\t548513\t\n",
    "%z\tUTC offset\t+0100\t\n",
    "%Z\tTimezone\tCST\t\n",
    "%j\tDay number of year 001-366\t365\t\n",
    "%U\tWeek number of year, Sunday as the first day of week, 00-53\t52\t\n",
    "%W\tWeek number of year, Monday as the first day of week, 00-53\t52\t\n",
    "%c\tLocal version of date and time\tMon Dec 31 17:41:00 2018\t\n",
    "%C\tCentury\t20\t\n",
    "%x\tLocal version of date\t12/31/18\t\n",
    "%X\tLocal version of time\t17:41:00\t\n",
    "%%\tA % character\t%\t\n",
    "%G\tISO 8601 year\t2018\t\n",
    "%u\tISO 8601 weekday (1-7)\t1\t\n",
    "%V\tISO 8601 weeknumber (01-53)\t01"
   ]
  },
  {
   "cell_type": "code",
   "execution_count": 47,
   "id": "8330c268-4d60-47cb-8f5b-078a80fd743f",
   "metadata": {},
   "outputs": [
    {
     "data": {
      "text/plain": [
       "datetime.datetime(2023, 8, 5, 13, 18, 25, 597658)"
      ]
     },
     "execution_count": 47,
     "metadata": {},
     "output_type": "execute_result"
    }
   ],
   "source": [
    "now  = datetime.datetime.now()\n",
    "now"
   ]
  },
  {
   "cell_type": "code",
   "execution_count": 48,
   "id": "34f1e547-4ff2-401b-ac9c-9511ac342daa",
   "metadata": {},
   "outputs": [
    {
     "data": {
      "text/plain": [
       "'Sat'"
      ]
     },
     "execution_count": 48,
     "metadata": {},
     "output_type": "execute_result"
    }
   ],
   "source": [
    "now.strftime(\"%a\")"
   ]
  },
  {
   "cell_type": "code",
   "execution_count": 49,
   "id": "0d441372-615b-47a1-a64f-a6021460e104",
   "metadata": {},
   "outputs": [
    {
     "data": {
      "text/plain": [
       "'Saturday'"
      ]
     },
     "execution_count": 49,
     "metadata": {},
     "output_type": "execute_result"
    }
   ],
   "source": [
    "now.strftime(\"%A\")"
   ]
  },
  {
   "cell_type": "code",
   "execution_count": 50,
   "id": "a55bc432-1fbd-4f3a-877f-51596f192c48",
   "metadata": {},
   "outputs": [
    {
     "data": {
      "text/plain": [
       "'01'"
      ]
     },
     "execution_count": 50,
     "metadata": {},
     "output_type": "execute_result"
    }
   ],
   "source": [
    "now.strftime(\"%I\")"
   ]
  },
  {
   "cell_type": "code",
   "execution_count": 51,
   "id": "0fc193a3-4245-4a8b-a310-ee7bfaab823b",
   "metadata": {},
   "outputs": [
    {
     "data": {
      "text/plain": [
       "'2023-08-05 13:18:25'"
      ]
     },
     "execution_count": 51,
     "metadata": {},
     "output_type": "execute_result"
    }
   ],
   "source": [
    "formatted_string = now.strftime('%Y-%m-%d %H:%M:%S')\n",
    "formatted_string"
   ]
  },
  {
   "cell_type": "code",
   "execution_count": 55,
   "id": "6705aa5a-1dfd-4dcb-82cd-cee3a4b8a53d",
   "metadata": {},
   "outputs": [
    {
     "data": {
      "text/plain": [
       "datetime.datetime(2023, 8, 5, 12, 30)"
      ]
     },
     "execution_count": 55,
     "metadata": {},
     "output_type": "execute_result"
    }
   ],
   "source": [
    "date_string = '2023-08-05 12:30:00'\n",
    "parsed_datetime = datetime.datetime.strptime(date_string, '%Y-%m-%d %H:%M:%S')\n",
    "parsed_datetime"
   ]
  },
  {
   "cell_type": "code",
   "execution_count": 60,
   "id": "03a2832c-458c-48dd-9e0b-8863f53f9665",
   "metadata": {},
   "outputs": [
    {
     "data": {
      "text/plain": [
       "'2002-08-08'"
      ]
     },
     "execution_count": 60,
     "metadata": {},
     "output_type": "execute_result"
    }
   ],
   "source": [
    "original_date_string = \"aug-8-2002\"\n",
    "original_date = datetime.datetime.strptime(original_date_string, \"%b-%d-%Y\") # je type ma data rey te type thi  convert karvu\n",
    "original_date.strftime(\"%Y-%m-%d\") # je tyope joye te type mi formate lagavi devani \n",
    "\n"
   ]
  },
  {
   "cell_type": "markdown",
   "id": "22e82883-5893-48b3-b45a-42c50e061ab6",
   "metadata": {},
   "source": [
    "# Time Moduls"
   ]
  },
  {
   "cell_type": "code",
   "execution_count": 12,
   "id": "6e73750c-49a6-4eaa-a996-37f3ba00ab2f",
   "metadata": {},
   "outputs": [],
   "source": [
    "import time"
   ]
  },
  {
   "cell_type": "code",
   "execution_count": 17,
   "id": "09f05ff3-c6f6-4615-ac4e-f47cd37477ec",
   "metadata": {},
   "outputs": [
    {
     "data": {
      "text/plain": [
       "1691221065.0382087"
      ]
     },
     "execution_count": 17,
     "metadata": {},
     "output_type": "execute_result"
    }
   ],
   "source": [
    "time.time() # time apse "
   ]
  },
  {
   "cell_type": "code",
   "execution_count": 18,
   "id": "577710c4-fcaf-4aae-9e32-9dc3f5181110",
   "metadata": {},
   "outputs": [
    {
     "data": {
      "text/plain": [
       "-19800"
      ]
     },
     "execution_count": 18,
     "metadata": {},
     "output_type": "execute_result"
    }
   ],
   "source": [
    "time.timezone # time zone return karse "
   ]
  },
  {
   "cell_type": "code",
   "execution_count": 19,
   "id": "59dc81db-c606-4c98-954c-4899a4a7dae6",
   "metadata": {},
   "outputs": [],
   "source": [
    "time.sleep(1) # 1 second pachi agadi vadhs se"
   ]
  },
  {
   "cell_type": "code",
   "execution_count": null,
   "id": "2787b112-9ec5-4359-9e25-068f15848de1",
   "metadata": {},
   "outputs": [],
   "source": []
  },
  {
   "cell_type": "code",
   "execution_count": null,
   "id": "1fd97ee0-8faa-445f-976c-699eb88d5913",
   "metadata": {},
   "outputs": [],
   "source": []
  }
 ],
 "metadata": {
  "kernelspec": {
   "display_name": "Python 3 (ipykernel)",
   "language": "python",
   "name": "python3"
  },
  "language_info": {
   "codemirror_mode": {
    "name": "ipython",
    "version": 3
   },
   "file_extension": ".py",
   "mimetype": "text/x-python",
   "name": "python",
   "nbconvert_exporter": "python",
   "pygments_lexer": "ipython3",
   "version": "3.11.4"
  }
 },
 "nbformat": 4,
 "nbformat_minor": 5
}
