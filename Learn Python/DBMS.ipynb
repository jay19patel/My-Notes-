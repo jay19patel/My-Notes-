{
 "cells": [
  {
   "cell_type": "markdown",
   "id": "adde8800-6da8-44b7-b46a-40238a0ae9d8",
   "metadata": {},
   "source": [
    "# Normalization"
   ]
  },
  {
   "cell_type": "markdown",
   "id": "3102306f-c45b-42ac-a135-f19274dda450",
   "metadata": {},
   "source": [
    "- Normalization in DBMS (Database Management System) is a process used to design and organize a relational database to reduce redundancy and improve data integrity.\n",
    "- It involves breaking down a large table into smaller, more manageable tables and establishing relationships between them.\n",
    "- The goal of normalization is to eliminate data anomalies and inconsistencies that can arise due to redundant or duplicate data."
   ]
  },
  {
   "cell_type": "markdown",
   "id": "da74e60b-86c5-4212-8c4e-042eab48d5aa",
   "metadata": {},
   "source": [
    "# Normal Form "
   ]
  },
  {
   "cell_type": "markdown",
   "id": "4771008a-0c30-428b-b24b-00fb7c4f8380",
   "metadata": {},
   "source": [
    "- 1NF\tA relation is in 1NF if it contains an atomic value.\n",
    "- 2NF\tA relation will be in 2NF if it is in 1NF and all non-key attributes are fully functional dependent on the primary key.\n",
    "- 3NF\tA relation will be in 3NF if it is in 2NF and no transition dependency exists.\n",
    "- BCNF\tA stronger definition of 3NF is known as Boyce Codd's normal form.\n",
    "- 4NF\tA relation will be in 4NF if it is in Boyce Codd's normal form and has no multi-valued dependency.\n",
    "- 5NF\tA relation is in 5NF. If it is in 4NF and does not contain any join dependency, joining should be lossless."
   ]
  },
  {
   "cell_type": "code",
   "execution_count": 11,
   "id": "e4f0a348-dd7a-4ba0-ac06-f5f749090bda",
   "metadata": {},
   "outputs": [],
   "source": [
    "# Customer name || Item name || Shiping Addres || Newslatter || Supplier || seler Info || Price"
   ]
  },
  {
   "cell_type": "markdown",
   "id": "4387080c-a17d-4610-8bf8-e5fafd4f3189",
   "metadata": {},
   "source": [
    "# 1 NF"
   ]
  },
  {
   "cell_type": "markdown",
   "id": "145f470e-dab4-4249-bcc3-98f42a8e3c0a",
   "metadata": {},
   "source": [
    "- Each Cell be single values\n",
    "- columns are same data type\n",
    "- Row uniquely identified (Add Unicue ID,Primary Key)"
   ]
  },
  {
   "cell_type": "code",
   "execution_count": 5,
   "id": "430e5040-7f46-41a4-9bf4-718cd05538ed",
   "metadata": {},
   "outputs": [],
   "source": [
    "# Ex = create ID ,or user id for each row are uniquely identify\n",
    "#  if any row are conatining multiple data then seprate them (User jay have 2 mobile number)\n"
   ]
  },
  {
   "cell_type": "code",
   "execution_count": 12,
   "id": "c594e303-5bd6-4e57-a838-52cec87ec064",
   "metadata": {},
   "outputs": [],
   "source": [
    "# Custermer Id || Customer name || Item name || Shiping Addres || Newslatter || Supplier || seler Info || Price"
   ]
  },
  {
   "cell_type": "markdown",
   "id": "834c539a-dacb-4981-917a-fbbf9de74b73",
   "metadata": {},
   "source": [
    "\n",
    "# 2 NF |"
   ]
  },
  {
   "cell_type": "markdown",
   "id": "24a09d1a-bc69-4e84-949a-d1bc3cb1a759",
   "metadata": {},
   "source": [
    "- All Attributes depenent on the key\n",
    "- If any Group of item independent of other group then seprate using primary and foreign key (if any group data are contining same data for multiple time for referance)"
   ]
  },
  {
   "cell_type": "code",
   "execution_count": 6,
   "id": "da21438b-fe1a-49db-a8a1-eb68fc38287e",
   "metadata": {},
   "outputs": [],
   "source": [
    "#  one group of table for user data \n",
    "#  second grup data table for containing order details "
   ]
  },
  {
   "cell_type": "code",
   "execution_count": 13,
   "id": "99d44488-bad5-46f6-9edd-cde9c5838fb5",
   "metadata": {},
   "outputs": [],
   "source": [
    "#  Custermer ID || Customer Name  ||  Address || Newsletter \n",
    "#  Item || Supplier || Suplier Info || Price "
   ]
  },
  {
   "cell_type": "markdown",
   "id": "9c7915f4-c61e-4d45-b86f-27a9d72186af",
   "metadata": {},
   "source": [
    "# 3 NF\n"
   ]
  },
  {
   "cell_type": "markdown",
   "id": "d7c1c709-aaab-42dc-8f5b-2c56fabd87da",
   "metadata": {},
   "source": [
    "- All Fields Columsn can be determined only by the key in the table and no other columns\n",
    "-  if table are conatinging Multiple values in columns then seprate them "
   ]
  },
  {
   "cell_type": "code",
   "execution_count": null,
   "id": "04e1fffb-90e9-4fa9-ba4d-2e018127bda9",
   "metadata": {},
   "outputs": [],
   "source": [
    "#  X -> Y -> Z  X = Primary key Y = None Primary and None Unique  Z = None Primary and None Unique\n",
    "# that means \n",
    "# X->Z \n",
    "# is Not valid "
   ]
  },
  {
   "cell_type": "code",
   "execution_count": null,
   "id": "f82e3261-0c3a-4c73-9261-fb5e816624b4",
   "metadata": {},
   "outputs": [],
   "source": [
    "#  Seprate X and Z columsn "
   ]
  },
  {
   "cell_type": "code",
   "execution_count": null,
   "id": "2f2d6a3a-252c-4854-9d9f-42a9436ea53b",
   "metadata": {},
   "outputs": [],
   "source": [
    "#  Custermer ID || Customer Name  ||  Address || Newsletter \n",
    "#  Item || Supplier || Price \n",
    "# Supplier || Suplier Info "
   ]
  },
  {
   "cell_type": "markdown",
   "id": "4a362903-828d-4e14-a054-ab0881a2091b",
   "metadata": {},
   "source": [
    "# 4 NF"
   ]
  },
  {
   "cell_type": "markdown",
   "id": "ceee5a8c-02fd-46c2-baec-e7969aca1737",
   "metadata": {},
   "source": [
    "- No Multi Valued dependencies\n",
    "-  Columns not identifyu directly for other columns ()"
   ]
  },
  {
   "cell_type": "code",
   "execution_count": 14,
   "id": "7a6e351e-decf-4cf7-a68f-5bb930c5b31c",
   "metadata": {},
   "outputs": [],
   "source": [
    "# Customer table \n",
    "# Custermer ID || Customer Name  ||  Address \n",
    "\n",
    "# Subsvribe table\n",
    "# Custermer ID || Newsletter \n",
    "\n",
    "# Item table\n",
    "# Item || Supplier || Price \n",
    "\n",
    "# Seller table\n",
    "# Supplier || Suplier Info "
   ]
  },
  {
   "cell_type": "markdown",
   "id": "f5b157a0-ebf7-41b3-9ce9-868d48d3a374",
   "metadata": {},
   "source": [
    "# Stored procedure"
   ]
  },
  {
   "cell_type": "markdown",
   "id": "f10e353e-6e40-4771-9998-c654c4a8ff16",
   "metadata": {},
   "source": [
    "- Stored procedure is a reusable collection of SQL statements and procedural logic\n",
    "- We save a queary and create one varibale, also we use this varibale to execute the saved query\n",
    "- this is like function (we create one set of querys and use again an again using  variable name )"
   ]
  },
  {
   "cell_type": "raw",
   "id": "20c913ae-e383-4fff-a823-91f7704b0f0c",
   "metadata": {},
   "source": [
    "DELIMITER && # atle ke jya sudhi end thay tya sudhi execute na karvu (multiple querys add karvi rey tab )\n",
    "CREATE PROCEDURE `name` (IN/OUT/INOUT parameter_name parameter_type)\n",
    "BEGIN\n",
    "    --- QUERIES ---\n",
    "END\n",
    "DELIMITER ; # ahiya avse pachi execute karse querie ne "
   ]
  },
  {
   "cell_type": "raw",
   "id": "7176244e-31f6-41ec-9545-7659d0820583",
   "metadata": {},
   "source": [
    "CREATE PROCEDURE `new_procedure` ()\n",
    "BEGIN\n",
    "SELECT * FROM tablename ;\n",
    "END\n",
    "\n",
    "call new_procedure ; # for run this "
   ]
  },
  {
   "cell_type": "raw",
   "id": "76b6a429-1b92-4a43-8f0b-a0034e5abed3",
   "metadata": {},
   "source": [
    "CREATE DEFINER=`root`@`localhost` PROCEDURE `findme`(in id int)\n",
    "BEGIN\n",
    "select *from test where test.id = id ;\n",
    "END\n",
    "\n",
    "call jay.findme(1); # for run this with pass id "
   ]
  },
  {
   "cell_type": "raw",
   "id": "9d5cf00d-3c7f-4e63-b0e9-72d95c967426",
   "metadata": {},
   "source": [
    "CREATE DEFINER=`root`@`localhost` PROCEDURE `new_procedure`(out data int)\n",
    "BEGIN\n",
    "select count(*) into data from test where test.id = 1 ;\n",
    "END\n",
    "\n",
    "call new_procedure(@data); # call procedure\n",
    "select @data as total; #print procedure return data"
   ]
  },
  {
   "cell_type": "code",
   "execution_count": 5,
   "id": "6f7155e9-9d15-4f3c-963f-7806decaf525",
   "metadata": {},
   "outputs": [],
   "source": [
    "#  in means input \n",
    "# out for returning data\n",
    "# inout for both pass and return "
   ]
  },
  {
   "cell_type": "code",
   "execution_count": null,
   "id": "b7ab460e-c5ff-4079-a042-051bd737a86c",
   "metadata": {},
   "outputs": [],
   "source": []
  },
  {
   "cell_type": "code",
   "execution_count": null,
   "id": "6bc32711-15b8-46be-86ab-760f3d44b58d",
   "metadata": {},
   "outputs": [],
   "source": []
  },
  {
   "cell_type": "code",
   "execution_count": null,
   "id": "49bd43c2-da3e-4eac-b8e3-e3e310a731c8",
   "metadata": {},
   "outputs": [],
   "source": []
  }
 ],
 "metadata": {
  "kernelspec": {
   "display_name": "Python 3 (ipykernel)",
   "language": "python",
   "name": "python3"
  },
  "language_info": {
   "codemirror_mode": {
    "name": "ipython",
    "version": 3
   },
   "file_extension": ".py",
   "mimetype": "text/x-python",
   "name": "python",
   "nbconvert_exporter": "python",
   "pygments_lexer": "ipython3",
   "version": "3.11.4"
  }
 },
 "nbformat": 4,
 "nbformat_minor": 5
}
