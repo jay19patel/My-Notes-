{
 "cells": [
  {
   "cell_type": "markdown",
   "id": "e5702770-a728-45b1-8381-28e0937087f5",
   "metadata": {},
   "source": [
    "# Arithmetic Operators:"
   ]
  },
  {
   "cell_type": "raw",
   "id": "798f9589-6179-4ad3-a5cb-957b7000ccb3",
   "metadata": {},
   "source": [
    "\n",
    "+ : Addition\n",
    "- : Subtraction\n",
    "* : Multiplication\n",
    "/ : Division (float result)\n",
    "// : Floor Division (integer result)\n",
    "% : Modulus (remainder of the division)\n",
    "** : Exponentiation\n"
   ]
  },
  {
   "cell_type": "code",
   "execution_count": 2,
   "id": "523f84cf-273f-468f-aed5-3465d0207813",
   "metadata": {},
   "outputs": [
    {
     "data": {
      "text/plain": [
       "10"
      ]
     },
     "execution_count": 2,
     "metadata": {},
     "output_type": "execute_result"
    }
   ],
   "source": [
    "5+5"
   ]
  },
  {
   "cell_type": "code",
   "execution_count": 3,
   "id": "856873d6-3112-43ad-8e4b-a3f868139b7f",
   "metadata": {},
   "outputs": [
    {
     "data": {
      "text/plain": [
       "1"
      ]
     },
     "execution_count": 3,
     "metadata": {},
     "output_type": "execute_result"
    }
   ],
   "source": [
    "5//5"
   ]
  },
  {
   "cell_type": "code",
   "execution_count": 4,
   "id": "151d3a17-41d9-41f0-8027-d08b0a49b86b",
   "metadata": {},
   "outputs": [
    {
     "data": {
      "text/plain": [
       "25"
      ]
     },
     "execution_count": 4,
     "metadata": {},
     "output_type": "execute_result"
    }
   ],
   "source": [
    "5**2 # 5 no varg "
   ]
  },
  {
   "cell_type": "markdown",
   "id": "d17148e8-e858-4462-9617-e0569e05acb4",
   "metadata": {},
   "source": [
    "# Assignment Operators:"
   ]
  },
  {
   "cell_type": "raw",
   "id": "19a53580-92ec-4c2d-9cd1-7d7ac9386a27",
   "metadata": {},
   "source": [
    "=: Assigns the value on the right to the variable on the left\n",
    "+=, -=, *=, /=, //=, %=: Perform the corresponding operation and assign the result to the left variable."
   ]
  },
  {
   "cell_type": "code",
   "execution_count": 30,
   "id": "a4985db9-a0df-4fc7-a948-a965b3e45683",
   "metadata": {},
   "outputs": [],
   "source": [
    "a = 5"
   ]
  },
  {
   "cell_type": "code",
   "execution_count": 31,
   "id": "6a2c7111-7320-4630-9da0-c49055cd4f53",
   "metadata": {},
   "outputs": [
    {
     "data": {
      "text/plain": [
       "6"
      ]
     },
     "execution_count": 31,
     "metadata": {},
     "output_type": "execute_result"
    }
   ],
   "source": [
    "a +=1\n",
    "a"
   ]
  },
  {
   "cell_type": "code",
   "execution_count": 33,
   "id": "c7b28e47-cd82-4182-bede-3e6742928b73",
   "metadata": {},
   "outputs": [
    {
     "data": {
      "text/plain": [
       "1.5"
      ]
     },
     "execution_count": 33,
     "metadata": {},
     "output_type": "execute_result"
    }
   ],
   "source": [
    "a/=2 # 5/2 (float) #5 //2 (int)\n",
    "a"
   ]
  },
  {
   "cell_type": "markdown",
   "id": "5b357a78-c38a-4cfc-9952-9a2fac32b352",
   "metadata": {},
   "source": [
    "# Comparison Operators:"
   ]
  },
  {
   "cell_type": "raw",
   "id": "a6a9def1-1997-452a-a700-85df2200cd20",
   "metadata": {},
   "source": [
    "==: Equal to\n",
    "!=: Not equal to\n",
    "<: Less than\n",
    ">: Greater than\n",
    "<=: Less than or equal to\n",
    ">=: Greater than or equal to"
   ]
  },
  {
   "cell_type": "code",
   "execution_count": 34,
   "id": "0da3c026-d656-4a96-9c08-cdb0c2aec070",
   "metadata": {},
   "outputs": [
    {
     "data": {
      "text/plain": [
       "True"
      ]
     },
     "execution_count": 34,
     "metadata": {},
     "output_type": "execute_result"
    }
   ],
   "source": [
    "5==5"
   ]
  },
  {
   "cell_type": "code",
   "execution_count": 35,
   "id": "4874afde-2033-4de8-b5d4-d0770fc6fda5",
   "metadata": {},
   "outputs": [
    {
     "data": {
      "text/plain": [
       "False"
      ]
     },
     "execution_count": 35,
     "metadata": {},
     "output_type": "execute_result"
    }
   ],
   "source": [
    "5!=5"
   ]
  },
  {
   "cell_type": "code",
   "execution_count": 37,
   "id": "f87f64dc-7905-446b-b4db-b97fb09d3669",
   "metadata": {},
   "outputs": [
    {
     "data": {
      "text/plain": [
       "True"
      ]
     },
     "execution_count": 37,
     "metadata": {},
     "output_type": "execute_result"
    }
   ],
   "source": [
    "5>=4"
   ]
  },
  {
   "cell_type": "code",
   "execution_count": 47,
   "id": "f7dbab91-2041-4c4d-a4ec-09d0fb7291fb",
   "metadata": {},
   "outputs": [
    {
     "data": {
      "text/plain": [
       "True"
      ]
     },
     "execution_count": 47,
     "metadata": {},
     "output_type": "execute_result"
    }
   ],
   "source": [
    "\"b\">\"a\""
   ]
  },
  {
   "cell_type": "markdown",
   "id": "212a103a-a233-431a-b157-10ca9c4641e9",
   "metadata": {},
   "source": [
    "# Logical Operators:"
   ]
  },
  {
   "cell_type": "raw",
   "id": "67c10040-9dc8-46a9-98e3-e96ab7cc7e7c",
   "metadata": {},
   "source": [
    "and: Logical AND\n",
    "or: Logical OR\n",
    "not: Logical NOT"
   ]
  },
  {
   "cell_type": "code",
   "execution_count": 64,
   "id": "20e762c4-9a02-4d61-bcb7-15c2dbe6592b",
   "metadata": {},
   "outputs": [
    {
     "name": "stdout",
     "output_type": "stream",
     "text": [
      "jay\n",
      "salman\n"
     ]
    }
   ],
   "source": [
    "data = [\"jay\",\"salman\",\"aksay\",\"virat\"]\n",
    "for i in data:\n",
    "    if i==\"jay\" or i==\"salman\":\n",
    "        print(i)\n",
    "# i kya to jay hova joyye kya to salman hova joyye , be mathi ek sachu padva joye "
   ]
  },
  {
   "cell_type": "code",
   "execution_count": 66,
   "id": "62390043-6d90-4925-8529-26420d496b90",
   "metadata": {},
   "outputs": [],
   "source": [
    "data = [\"jay\",\"salman\",\"aksay\",\"virat\"]\n",
    "for i in data:\n",
    "    if i==\"jay\" and i==\"salman\":\n",
    "        print(i)\n",
    "# banne condition true thay to j print thase \n",
    "#  need to be both are true "
   ]
  },
  {
   "cell_type": "markdown",
   "id": "f43f0c2e-b1fd-4040-a82f-0bc31de13b50",
   "metadata": {},
   "source": [
    "# Membership Operators:"
   ]
  },
  {
   "cell_type": "raw",
   "id": "973a76a7-80a8-4729-85ab-449c0ffcb6a6",
   "metadata": {},
   "source": [
    "\n",
    "in: Returns True if a value is found in a sequence\n",
    "not in: Returns True if a value is not found in a sequence"
   ]
  },
  {
   "cell_type": "code",
   "execution_count": 67,
   "id": "55e608f2-5cd1-4b65-b8fe-4271433f7190",
   "metadata": {},
   "outputs": [],
   "source": [
    "data = [1,2,3,4,5,6,7]"
   ]
  },
  {
   "cell_type": "code",
   "execution_count": 68,
   "id": "2e4cad75-5380-4376-bf9c-854e41da2d03",
   "metadata": {},
   "outputs": [
    {
     "data": {
      "text/plain": [
       "True"
      ]
     },
     "execution_count": 68,
     "metadata": {},
     "output_type": "execute_result"
    }
   ],
   "source": [
    "5 in data"
   ]
  },
  {
   "cell_type": "code",
   "execution_count": 70,
   "id": "330986cb-b6de-4e88-8066-453f79d49b8e",
   "metadata": {},
   "outputs": [
    {
     "data": {
      "text/plain": [
       "True"
      ]
     },
     "execution_count": 70,
     "metadata": {},
     "output_type": "execute_result"
    }
   ],
   "source": [
    "10 not in data "
   ]
  },
  {
   "cell_type": "markdown",
   "id": "2810a5a7-e2f1-41f5-bd33-e242cc65aa2e",
   "metadata": {},
   "source": [
    "# Identity Operators:"
   ]
  },
  {
   "cell_type": "raw",
   "id": "27768f6e-4f35-481f-a968-4b77b97b4e84",
   "metadata": {},
   "source": [
    "is: Returns True if two variables refer to the same object\n",
    "is not: Returns True if two variables refer to different objects"
   ]
  },
  {
   "cell_type": "code",
   "execution_count": 77,
   "id": "04e50832-5d55-40f7-b85c-91d831ddb926",
   "metadata": {},
   "outputs": [
    {
     "data": {
      "text/plain": [
       "True"
      ]
     },
     "execution_count": 77,
     "metadata": {},
     "output_type": "execute_result"
    }
   ],
   "source": [
    "a = 5\n",
    "b = 5\n",
    "a is b\n",
    "#  is => identity comparison\n",
    "#  == => identity values "
   ]
  },
  {
   "cell_type": "markdown",
   "id": "c64ad972-56b8-40c9-838d-eb82fdfd1f7c",
   "metadata": {},
   "source": [
    "# Bitwise Operators:"
   ]
  },
  {
   "cell_type": "raw",
   "id": "ea091e8c-642e-4b25-865f-5b3266f113a1",
   "metadata": {},
   "source": [
    "&: Bitwise AND\n",
    "|: Bitwise OR\n",
    "^: Bitwise XOR\n",
    "~: Bitwise NOT\n",
    "<<: Left shift\n",
    ">>: Right shift"
   ]
  },
  {
   "cell_type": "code",
   "execution_count": 100,
   "id": "0b905aa4-d515-4975-9726-354ca03ecff7",
   "metadata": {},
   "outputs": [],
   "source": [
    "# NO idia"
   ]
  },
  {
   "cell_type": "code",
   "execution_count": null,
   "id": "daf3a6c7-aaa2-49a7-a9ac-a8173c134695",
   "metadata": {},
   "outputs": [],
   "source": []
  },
  {
   "cell_type": "code",
   "execution_count": null,
   "id": "7c595368-c3c0-4bc9-959a-e319f5f2b631",
   "metadata": {},
   "outputs": [],
   "source": []
  }
 ],
 "metadata": {
  "kernelspec": {
   "display_name": "Python 3 (ipykernel)",
   "language": "python",
   "name": "python3"
  },
  "language_info": {
   "codemirror_mode": {
    "name": "ipython",
    "version": 3
   },
   "file_extension": ".py",
   "mimetype": "text/x-python",
   "name": "python",
   "nbconvert_exporter": "python",
   "pygments_lexer": "ipython3",
   "version": "3.11.4"
  }
 },
 "nbformat": 4,
 "nbformat_minor": 5
}
