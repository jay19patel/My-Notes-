{
 "cells": [
  {
   "cell_type": "code",
   "execution_count": 2,
   "id": "cd7ee327-81e2-434e-a164-adf2d0125b0a",
   "metadata": {},
   "outputs": [],
   "source": [
    "# Input: l1 = [2,4,3], l2 = [5,6,4]\n",
    "# Output: [7,0,8]\n",
    "# Explanation: 342 + 465 = 807."
   ]
  },
  {
   "cell_type": "code",
   "execution_count": 10,
   "id": "cba9c00c-e635-4c23-931b-6bfa30b22e4f",
   "metadata": {},
   "outputs": [],
   "source": [
    "l1 = [2,4,3]\n",
    "l2 = [5,6,4]"
   ]
  },
  {
   "cell_type": "code",
   "execution_count": 11,
   "id": "4b267680-886b-46d9-893f-43759b9d3703",
   "metadata": {},
   "outputs": [],
   "source": [
    "L1 = l1[::-1]\n",
    "L2 = l2[::-1]"
   ]
  },
  {
   "cell_type": "code",
   "execution_count": 14,
   "id": "b5f37d9f-4c4b-4ca0-9281-bf56a0bdff40",
   "metadata": {},
   "outputs": [],
   "source": [
    "def getint(l):\n",
    "    ml =\"\"\n",
    "    for i in l:\n",
    "        ml+=str(i)\n",
    "    return int(ml)"
   ]
  },
  {
   "cell_type": "code",
   "execution_count": 16,
   "id": "c15c8074-d337-4dd5-bc0a-663cf986d7bd",
   "metadata": {},
   "outputs": [
    {
     "data": {
      "text/plain": [
       "807"
      ]
     },
     "execution_count": 16,
     "metadata": {},
     "output_type": "execute_result"
    }
   ],
   "source": [
    "sum = getint(L1)+getint(L2)\n",
    "sum"
   ]
  },
  {
   "cell_type": "code",
   "execution_count": 9,
   "id": "fca2de2a-4ab3-4515-828b-44a77144570f",
   "metadata": {},
   "outputs": [],
   "source": [
    "# Input: s = \"abcabcbb\"\n",
    "# Output: 3\n",
    "# Explanation: The answer is \"abc\", with the length of 3."
   ]
  },
  {
   "cell_type": "code",
   "execution_count": 47,
   "id": "345352b2-3ea4-44ef-85cb-d1bfae2a0fef",
   "metadata": {},
   "outputs": [
    {
     "data": {
      "text/plain": [
       "4"
      ]
     },
     "execution_count": 47,
     "metadata": {},
     "output_type": "execute_result"
    }
   ],
   "source": [
    "myset = set()\n",
    "s = \"pwwkew\"\n",
    "for i in s:\n",
    "    myset.add(i)\n",
    "    \n",
    "len(myset)    "
   ]
  },
  {
   "cell_type": "code",
   "execution_count": 61,
   "id": "4181d13a-4e89-474e-b047-71c12b874923",
   "metadata": {},
   "outputs": [],
   "source": [
    "continues=[]\n",
    "s = \"pwwkew\"\n",
    "count,temp=0,0\n",
    "for i in s:\n",
    "    while(i in continues):\n",
    "        continues.pop(0)\n",
    "        temp-=1\n",
    "    else:\n",
    "        continues.append(i)\n",
    "        temp+=1\n",
    "        count=max(count,temp)"
   ]
  },
  {
   "cell_type": "code",
   "execution_count": 62,
   "id": "c4756a11-7e04-4e92-a463-3ba3d232eed6",
   "metadata": {},
   "outputs": [
    {
     "data": {
      "text/plain": [
       "3"
      ]
     },
     "execution_count": 62,
     "metadata": {},
     "output_type": "execute_result"
    }
   ],
   "source": [
    "count"
   ]
  },
  {
   "cell_type": "code",
   "execution_count": 63,
   "id": "8d796808-d145-441d-b612-7175c04ed429",
   "metadata": {},
   "outputs": [],
   "source": [
    "# Input: nums1 = [1,3], nums2 = [2]\n",
    "# Output: 2.00000\n",
    "# Explanation: merged array = [1,2,3] and median is 2."
   ]
  },
  {
   "cell_type": "code",
   "execution_count": 4,
   "id": "edfd9f14-a593-43d1-9c7e-7262d6a70f66",
   "metadata": {},
   "outputs": [
    {
     "data": {
      "text/plain": [
       "[1, 3, 2]"
      ]
     },
     "execution_count": 4,
     "metadata": {},
     "output_type": "execute_result"
    }
   ],
   "source": [
    "import statistics\n",
    "nums1 = [1,3]\n",
    "nums2 = [2]\n"
   ]
  },
  {
   "cell_type": "code",
   "execution_count": 6,
   "id": "e2334f36-12a6-4ed7-aee1-ee17af23bb61",
   "metadata": {},
   "outputs": [
    {
     "data": {
      "text/plain": [
       "2"
      ]
     },
     "execution_count": 6,
     "metadata": {},
     "output_type": "execute_result"
    }
   ],
   "source": [
    "statistics.median(nums1+nums2)"
   ]
  },
  {
   "cell_type": "code",
   "execution_count": 7,
   "id": "391c9e03-24d5-4bde-9b9f-57581b1fc1be",
   "metadata": {},
   "outputs": [],
   "source": [
    "# Input: s = \"babad\"\n",
    "# Output: \"bab\"\n",
    "# Explanation: \"aba\" is also a valid answer."
   ]
  },
  {
   "cell_type": "code",
   "execution_count": 20,
   "id": "ce2222cd-e6e9-4bef-9e0b-29c3156860da",
   "metadata": {},
   "outputs": [],
   "source": [
    "s = \"babad\""
   ]
  },
  {
   "cell_type": "code",
   "execution_count": 22,
   "id": "c7a88b95-821d-4c95-b928-f3298da025b3",
   "metadata": {},
   "outputs": [],
   "source": [
    "for i in range(0,len(s)-1):\n",
    "    if s[i] == s[i+1] or s[i] == s[::-1]:\n",
    "        print(s[i])"
   ]
  },
  {
   "cell_type": "code",
   "execution_count": null,
   "id": "10ec939c-2ae9-45fb-8b5e-e4cdd4f5aca8",
   "metadata": {},
   "outputs": [],
   "source": [
    "# Input: s = \"aa\", p = \"a*\"\n",
    "# Output: true\n",
    "# Explanation: '*' means zero or more of the preceding element, 'a'. Therefore, by repeating 'a' once, it becomes \"aa\"."
   ]
  },
  {
   "cell_type": "code",
   "execution_count": 40,
   "id": "f8e9c7c6-7dcd-4a40-bc98-0e2b03bc88a3",
   "metadata": {},
   "outputs": [],
   "source": [
    "# Input: height = [1,8,6,2,5,4,8,3,7]\n",
    "# Output: 49\n",
    "# Explanation: The above vertical lines are represented by array [1,8,6,2,5,4,8,3,7]. \n",
    "# In this case, the max area of water (blue section) the container can contain is 49."
   ]
  },
  {
   "cell_type": "code",
   "execution_count": 64,
   "id": "21ede4a3-f82d-423b-97a9-daea25a7ff63",
   "metadata": {},
   "outputs": [
    {
     "name": "stdout",
     "output_type": "stream",
     "text": [
      "8\n"
     ]
    },
    {
     "data": {
      "text/plain": [
       "5"
      ]
     },
     "execution_count": 64,
     "metadata": {},
     "output_type": "execute_result"
    }
   ],
   "source": [
    "h = [1,8,6,2,5,4,8,3,7]\n",
    "a = (max(h))\n",
    "h.pop(h.index(8))\n",
    "print(a)\n",
    "b= h.index(max(hh))\n",
    "b"
   ]
  },
  {
   "cell_type": "code",
   "execution_count": 66,
   "id": "d5553a19-0048-4ca0-b1d0-d7f3d1e334b7",
   "metadata": {},
   "outputs": [
    {
     "data": {
      "text/plain": [
       "40"
      ]
     },
     "execution_count": 66,
     "metadata": {},
     "output_type": "execute_result"
    }
   ],
   "source": [
    "\n",
    "h = [1,8,6,2,5,4,8,3,7]\n",
    "a = (max(h))\n",
    "h.pop(h.index(8))\n",
    "a = (max(h))\n",
    "b= h.index(max(hh))\n",
    "a*b    "
   ]
  },
  {
   "cell_type": "code",
   "execution_count": 35,
   "id": "f801f4dd-0ba8-4bb1-b458-474d37dc2745",
   "metadata": {},
   "outputs": [
    {
     "name": "stdout",
     "output_type": "stream",
     "text": [
      "9\n"
     ]
    }
   ],
   "source": [
    "\n",
    "h = [1,8,6,2,5,4,8,3,7]\n",
    "n= len(h)\n",
    "print(n)\n",
    "l = 0\n",
    "r =n-1\n",
    "maxi = 0"
   ]
  },
  {
   "cell_type": "code",
   "execution_count": null,
   "id": "b4b63fe5-fa6e-442b-bf44-10780c2350b8",
   "metadata": {},
   "outputs": [],
   "source": []
  },
  {
   "cell_type": "code",
   "execution_count": 32,
   "id": "23b6a2a0-9d12-45de-b416-2bcc81b90703",
   "metadata": {},
   "outputs": [],
   "source": [
    "while l < r:\n",
    "    ar = min(h[l],h[r]) * (r-l)\n",
    "    if ar > maxi:\n",
    "        maxi = ar\n",
    "    if h[l] > h[r]:\n",
    "        r -= 1\n",
    "    else:\n",
    "        l += 1\n"
   ]
  },
  {
   "cell_type": "code",
   "execution_count": 33,
   "id": "2c61b825-69b3-43e8-86e7-1464d56d7c08",
   "metadata": {},
   "outputs": [
    {
     "data": {
      "text/plain": [
       "49"
      ]
     },
     "execution_count": 33,
     "metadata": {},
     "output_type": "execute_result"
    }
   ],
   "source": [
    "maxi"
   ]
  },
  {
   "cell_type": "code",
   "execution_count": null,
   "id": "eb941723-3ab4-4fc8-b05a-97bb799157be",
   "metadata": {},
   "outputs": [],
   "source": []
  },
  {
   "cell_type": "code",
   "execution_count": 1,
   "id": "2b305c65-8a23-445f-b5ca-41199803cd92",
   "metadata": {},
   "outputs": [],
   "source": [
    "# Input: target = 7, nums = [2,3,1,2,4,3]\n",
    "# Output: 2\n",
    "# Explanation: The subarray [4,3] has the minimal length under the problem constraint."
   ]
  },
  {
   "cell_type": "code",
   "execution_count": 34,
   "id": "a5db1f70-2c8b-4ddf-8218-d4cf769d1f99",
   "metadata": {},
   "outputs": [],
   "source": [
    "nums = [1,2,3,4,5]\n",
    "j = nums[0]\n",
    "maxn =11\n",
    "data = []\n",
    "for i in range(1,len(nums)):\n",
    "    if maxn == j:\n",
    "        data.append((j))\n",
    "    elif maxn == j+nums[i]:\n",
    "        data.extend([j,nums[i]])\n",
    "    elif maxn == i:\n",
    "        data.append((i))\n",
    "    else :\n",
    "        j = nums[i]\n",
    "    "
   ]
  },
  {
   "cell_type": "code",
   "execution_count": 35,
   "id": "861a64a8-c430-422e-ac43-b4dffa0235f8",
   "metadata": {},
   "outputs": [
    {
     "data": {
      "text/plain": [
       "[]"
      ]
     },
     "execution_count": 35,
     "metadata": {},
     "output_type": "execute_result"
    }
   ],
   "source": [
    "data"
   ]
  },
  {
   "cell_type": "code",
   "execution_count": 66,
   "id": "3204cea2-b78d-4b68-bb9b-5a8eabbb5395",
   "metadata": {},
   "outputs": [
    {
     "data": {
      "text/plain": [
       "3"
      ]
     },
     "execution_count": 66,
     "metadata": {},
     "output_type": "execute_result"
    }
   ],
   "source": [
    "nums = [1,2,3,4,5]\n",
    "target =11\n",
    "\n",
    "n = len(nums)\n",
    "minLength = n + 1  # Initialize with a value greater than the maximum possible length\n",
    "\n",
    "left = 0\n",
    "currentSum = 0\n",
    "\n",
    "for right in range(n):\n",
    "    currentSum += nums[right]\n",
    "    \n",
    "    while currentSum >= target:\n",
    "        minLength = min(minLength, right - left + 1)\n",
    "        currentSum -= nums[left]\n",
    "        left += 1\n",
    "\n",
    "minLength"
   ]
  },
  {
   "cell_type": "code",
   "execution_count": 67,
   "id": "ea526968-fa10-4a2c-afa4-c772dc6d20b5",
   "metadata": {},
   "outputs": [],
   "source": [
    "# Input: x = 123\n",
    "# Output: 321"
   ]
  },
  {
   "cell_type": "code",
   "execution_count": 125,
   "id": "8ad1ee68-0d74-419e-80fc-f1114143c595",
   "metadata": {},
   "outputs": [],
   "source": [
    "x = 1534"
   ]
  },
  {
   "cell_type": "code",
   "execution_count": 126,
   "id": "7b1f134a-99ad-49aa-a24c-439407291769",
   "metadata": {},
   "outputs": [],
   "source": [
    "data = str(x)[1:]"
   ]
  },
  {
   "cell_type": "code",
   "execution_count": 130,
   "id": "a9adb4ba-c011-44d7-9170-716543a274c6",
   "metadata": {},
   "outputs": [
    {
     "data": {
      "text/plain": [
       "'4351'"
      ]
     },
     "execution_count": 130,
     "metadata": {},
     "output_type": "execute_result"
    }
   ],
   "source": [
    "data[::-1]"
   ]
  },
  {
   "cell_type": "code",
   "execution_count": 131,
   "id": "86851230-e5a8-440f-b1da-6859b4115f58",
   "metadata": {},
   "outputs": [
    {
     "data": {
      "text/plain": [
       "'4351'"
      ]
     },
     "execution_count": 131,
     "metadata": {},
     "output_type": "execute_result"
    }
   ],
   "source": [
    "if \"-\" in str(x):\n",
    "    data = abs(x)\n",
    "    n = f\"-{data[::-1]}\"\n",
    "else:\n",
    "    data = str(x)\n",
    "    n = data[::-1]\n",
    "n    "
   ]
  },
  {
   "cell_type": "code",
   "execution_count": 133,
   "id": "20ddf583-1511-44f1-a15c-c4f516216248",
   "metadata": {},
   "outputs": [],
   "source": [
    "# Input: nums = [3,2,2,3], val = 3\n",
    "# Output: 2, nums = [2,2,_,_]\n",
    "# Explanation: Your function should return k = 2, with the first two elements of nums being 2.\n",
    "# It does not matter what you leave beyond the returned k (hence they are underscores).\n"
   ]
  },
  {
   "cell_type": "code",
   "execution_count": 135,
   "id": "ae5ab110-cb08-481b-b8f1-95b8f22831ba",
   "metadata": {},
   "outputs": [],
   "source": [
    "nums = [3,2,2,3]\n",
    "val = 3"
   ]
  },
  {
   "cell_type": "code",
   "execution_count": 144,
   "id": "21bec84d-b732-434a-a19c-6591a27e5bcc",
   "metadata": {},
   "outputs": [
    {
     "data": {
      "text/plain": [
       "2"
      ]
     },
     "execution_count": 144,
     "metadata": {},
     "output_type": "execute_result"
    }
   ],
   "source": [
    "data = []\n",
    "for i in nums:\n",
    "    if i == val:\n",
    "        data.append(i)\n",
    "for i in range(len(data))  :\n",
    "    nums.remove(val)\n",
    "len(nums)"
   ]
  },
  {
   "cell_type": "code",
   "execution_count": 143,
   "id": "464eb3d6-ea17-419b-8bc9-2a523ce359ca",
   "metadata": {},
   "outputs": [
    {
     "data": {
      "text/plain": [
       "2"
      ]
     },
     "execution_count": 143,
     "metadata": {},
     "output_type": "execute_result"
    }
   ],
   "source": [
    "len(nums)"
   ]
  },
  {
   "cell_type": "code",
   "execution_count": 145,
   "id": "3cd7d958-f147-42e2-88ab-891713c8fe70",
   "metadata": {},
   "outputs": [],
   "source": [
    "# Input: nums = [2,2,1,1,1,2,2]\n",
    "# Output: 2"
   ]
  },
  {
   "cell_type": "code",
   "execution_count": 160,
   "id": "fbcf06e2-f79c-43e4-9fbc-7654c64a73f8",
   "metadata": {},
   "outputs": [],
   "source": [
    "nums = [3,3,4]"
   ]
  },
  {
   "cell_type": "code",
   "execution_count": 168,
   "id": "9095f7a5-9778-4839-ae12-27e915d1d36d",
   "metadata": {},
   "outputs": [
    {
     "data": {
      "text/plain": [
       "3"
      ]
     },
     "execution_count": 168,
     "metadata": {},
     "output_type": "execute_result"
    }
   ],
   "source": [
    "t = []\n",
    "data = set(nums)\n",
    "for i in data:\n",
    "    t.append((nums.count(i),i))\n",
    "    \n",
    "max(t)[1]"
   ]
  },
  {
   "cell_type": "code",
   "execution_count": 169,
   "id": "4ef33581-4994-4658-af78-58d7c0402155",
   "metadata": {},
   "outputs": [],
   "source": [
    "# Input: nums = [1,2,3,4,5,6,7], k = 3\n",
    "# Output: [5,6,7,1,2,3,4]\n",
    "# Explanation:\n",
    "# rotate 1 steps to the right: [7,1,2,3,4,5,6]\n",
    "# rotate 2 steps to the right: [6,7,1,2,3,4,5]\n",
    "# rotate 3 steps to the right: [5,6,7,1,2,3,4]"
   ]
  },
  {
   "cell_type": "code",
   "execution_count": 226,
   "id": "41bc9607-961e-4ce9-bfb6-179a2e06f7f3",
   "metadata": {},
   "outputs": [],
   "source": [
    "nums = [-1,-100,3,99]"
   ]
  },
  {
   "cell_type": "code",
   "execution_count": 227,
   "id": "82e79103-85c1-4369-89e0-d587cf10e05d",
   "metadata": {},
   "outputs": [],
   "source": [
    "k = 2"
   ]
  },
  {
   "cell_type": "code",
   "execution_count": 228,
   "id": "e1f225b4-e707-4e29-973c-bee26b8e7185",
   "metadata": {},
   "outputs": [
    {
     "data": {
      "text/plain": [
       "[3, 99, -1, -100]"
      ]
     },
     "execution_count": 228,
     "metadata": {},
     "output_type": "execute_result"
    }
   ],
   "source": [
    "for i in  nums[:k]:\n",
    "    data = nums.remove(i)\n",
    "    nums.append(i)   \n",
    "nums\n"
   ]
  },
  {
   "cell_type": "code",
   "execution_count": 263,
   "id": "49b64dc6-9180-41ca-9a8c-9a628b7b5038",
   "metadata": {},
   "outputs": [],
   "source": [
    "nums = [1,2,3,4,5,6,7]\n",
    "k = 3"
   ]
  },
  {
   "cell_type": "code",
   "execution_count": 264,
   "id": "012190b4-1825-4f34-a972-49d21b903545",
   "metadata": {},
   "outputs": [
    {
     "data": {
      "text/plain": [
       "6"
      ]
     },
     "execution_count": 264,
     "metadata": {},
     "output_type": "execute_result"
    }
   ],
   "source": [
    "n = len(nums)-1\n",
    "n"
   ]
  },
  {
   "cell_type": "code",
   "execution_count": 265,
   "id": "2efe89a6-b840-456c-998b-0ba5de4583a5",
   "metadata": {},
   "outputs": [
    {
     "name": "stdout",
     "output_type": "stream",
     "text": [
      "7\n",
      "6\n",
      "5\n"
     ]
    },
    {
     "data": {
      "text/plain": [
       "[5, 6, 7, 1, 2, 3, 4]"
      ]
     },
     "execution_count": 265,
     "metadata": {},
     "output_type": "execute_result"
    }
   ],
   "source": [
    "n = len(nums)-1\n",
    "for i in range(k):\n",
    "    data = nums.pop(n)\n",
    "    print(data)\n",
    "    nums.insert(0,data)\n",
    "    \n",
    "    \n",
    "nums  "
   ]
  },
  {
   "cell_type": "code",
   "execution_count": null,
   "id": "cb09a137-8101-47b2-9856-845721ec079b",
   "metadata": {},
   "outputs": [],
   "source": [
    "# Input: nums = [2,3,1,1,4]\n",
    "# Output: true\n",
    "# Explanation: Jump 1 step from index 0 to 1, then 3 steps to the last index."
   ]
  },
  {
   "cell_type": "code",
   "execution_count": 306,
   "id": "c4983b2a-49c7-44ff-bbfa-6bf70b907434",
   "metadata": {},
   "outputs": [],
   "source": [
    "nums = [3,2,1,0,4]"
   ]
  },
  {
   "cell_type": "code",
   "execution_count": 307,
   "id": "9b6a21a1-5fb1-45f4-b983-b9bb8445e530",
   "metadata": {},
   "outputs": [
    {
     "name": "stdout",
     "output_type": "stream",
     "text": [
      "True\n",
      "True\n",
      "True\n",
      "True\n",
      "False\n",
      "True\n"
     ]
    }
   ],
   "source": [
    "elem = 0 \n",
    "for index,val in enumerate(nums):\n",
    "    if elem < index:\n",
    "         print(False) \n",
    "    elem = max(elem,val+index)\n",
    "    print(True) "
   ]
  },
  {
   "cell_type": "code",
   "execution_count": null,
   "id": "26d33940-6b33-4945-ac91-7be72283ad92",
   "metadata": {},
   "outputs": [],
   "source": []
  },
  {
   "cell_type": "code",
   "execution_count": 3,
   "id": "c3b33e8b-8fbf-4c34-80d4-aa5b5ec53f80",
   "metadata": {},
   "outputs": [],
   "source": [
    "# Input: nums = [4,5,6,7,0,1,2], target = 0\n",
    "# Output: 4\n"
   ]
  },
  {
   "cell_type": "code",
   "execution_count": 6,
   "id": "1f02df01-dff0-404e-ac3e-ca0309cf9b59",
   "metadata": {},
   "outputs": [],
   "source": [
    "nums = [4,5,6,7,0,1,2]\n",
    "target = 0"
   ]
  },
  {
   "cell_type": "code",
   "execution_count": 8,
   "id": "17dce941-205e-4028-8ba8-7a713ab1d6ee",
   "metadata": {},
   "outputs": [
    {
     "data": {
      "text/plain": [
       "4"
      ]
     },
     "execution_count": 8,
     "metadata": {},
     "output_type": "execute_result"
    }
   ],
   "source": [
    "try:\n",
    "    return nums.index(target)\n",
    "except:\n",
    "    return -1"
   ]
  },
  {
   "cell_type": "code",
   "execution_count": null,
   "id": "54de31ae-83bc-4d7a-9f25-20c0c05b08fb",
   "metadata": {},
   "outputs": [],
   "source": [
    "# Input: nums = [1,2,3]\n",
    "# Output: [[1,2,3],[1,3,2],[2,1,3],[2,3,1],[3,1,2],[3,2,1]]"
   ]
  },
  {
   "cell_type": "code",
   "execution_count": 14,
   "id": "5e2278c4-9343-4e1d-8192-3fc12645c5e9",
   "metadata": {},
   "outputs": [],
   "source": [
    "nums = [1,2,3]"
   ]
  },
  {
   "cell_type": "code",
   "execution_count": 59,
   "id": "98aab710-9077-4a2d-a58b-b6383e092d7b",
   "metadata": {},
   "outputs": [],
   "source": [
    "a = nums[0]\n",
    "data = []\n",
    "for i in nums:\n",
    "    for j in nums:\n",
    "        for k in nums:\n",
    "            data.append([i,j,k])\n",
    "fdata =[]\n",
    "for i in data:\n",
    "        if all(num in i for num in nums):\n",
    "            fdata.append(i)\n",
    "    \n",
    "        "
   ]
  },
  {
   "cell_type": "code",
   "execution_count": 60,
   "id": "42ed7397-e195-4279-81c3-09b61d210924",
   "metadata": {},
   "outputs": [
    {
     "data": {
      "text/plain": [
       "[[1, 2, 3], [1, 3, 2], [2, 1, 3], [2, 3, 1], [3, 1, 2], [3, 2, 1]]"
      ]
     },
     "execution_count": 60,
     "metadata": {},
     "output_type": "execute_result"
    }
   ],
   "source": [
    "fdata"
   ]
  },
  {
   "cell_type": "code",
   "execution_count": 78,
   "id": "143665d5-7c19-439d-9915-8246022aaaa3",
   "metadata": {},
   "outputs": [
    {
     "data": {
      "text/plain": [
       "[[1, 2], [2, 1]]"
      ]
     },
     "execution_count": 78,
     "metadata": {},
     "output_type": "execute_result"
    }
   ],
   "source": [
    "from itertools import permutations\n",
    "data = list(permutations(nums))\n",
    "[list(t) for t in data]"
   ]
  },
  {
   "cell_type": "code",
   "execution_count": 85,
   "id": "6521c0d7-97b5-4c74-a8c2-8843b33597bf",
   "metadata": {},
   "outputs": [],
   "source": [
    "# Input: nums = [0,1,0,3,12]\n",
    "# Output: [1,3,12,0,0]"
   ]
  },
  {
   "cell_type": "code",
   "execution_count": 100,
   "id": "bc10a5ad-f82c-4ba6-9df3-82a87f277123",
   "metadata": {},
   "outputs": [],
   "source": [
    "nums = [0,1,0,3,12]"
   ]
  },
  {
   "cell_type": "code",
   "execution_count": 101,
   "id": "3ae85800-9387-4fde-95ee-f180c3ed201f",
   "metadata": {},
   "outputs": [],
   "source": [
    "for i in nums:\n",
    "    if i ==0:\n",
    "        nums.remove(0)\n",
    "        nums.append(0)"
   ]
  },
  {
   "cell_type": "code",
   "execution_count": 102,
   "id": "c5f94e53-553e-4474-83ab-1b9ff01a031f",
   "metadata": {},
   "outputs": [
    {
     "data": {
      "text/plain": [
       "[1, 3, 12, 0, 0]"
      ]
     },
     "execution_count": 102,
     "metadata": {},
     "output_type": "execute_result"
    }
   ],
   "source": [
    "nums"
   ]
  },
  {
   "cell_type": "code",
   "execution_count": 103,
   "id": "a7a54977-2f8e-46b2-a4cc-4c1ccd1d0466",
   "metadata": {},
   "outputs": [],
   "source": [
    "# Input: nums = [1,3,4,2,2]\n",
    "# Output: 2"
   ]
  },
  {
   "cell_type": "code",
   "execution_count": 104,
   "id": "2a814d0b-0d90-418b-bb05-042e73cdff9a",
   "metadata": {},
   "outputs": [],
   "source": [
    "nums = [1,3,4,2,2]"
   ]
  },
  {
   "cell_type": "code",
   "execution_count": 105,
   "id": "6f44a184-7873-4895-b0cb-4c4d04e21c05",
   "metadata": {},
   "outputs": [],
   "source": [
    "nums.sort()"
   ]
  },
  {
   "cell_type": "code",
   "execution_count": 106,
   "id": "be5ad88b-4c60-426c-b1ad-6bdc2e4dc076",
   "metadata": {},
   "outputs": [
    {
     "data": {
      "text/plain": [
       "[1, 2, 2, 3, 4]"
      ]
     },
     "execution_count": 106,
     "metadata": {},
     "output_type": "execute_result"
    }
   ],
   "source": [
    "nums"
   ]
  },
  {
   "cell_type": "code",
   "execution_count": 116,
   "id": "37051691-7a71-43a0-a179-546048441734",
   "metadata": {},
   "outputs": [
    {
     "data": {
      "text/plain": [
       "2"
      ]
     },
     "execution_count": 116,
     "metadata": {},
     "output_type": "execute_result"
    }
   ],
   "source": [
    "data = []\n",
    "for i in range(0,len(nums)-1):\n",
    "    if nums[i]==nums[i+1]:\n",
    "        data.append(nums[i])\n",
    "data[0]\n",
    "    "
   ]
  },
  {
   "cell_type": "code",
   "execution_count": null,
   "id": "09ef9dbd-152f-45fd-84eb-af015bde8c8b",
   "metadata": {},
   "outputs": [],
   "source": []
  }
 ],
 "metadata": {
  "kernelspec": {
   "display_name": "Python 3 (ipykernel)",
   "language": "python",
   "name": "python3"
  },
  "language_info": {
   "codemirror_mode": {
    "name": "ipython",
    "version": 3
   },
   "file_extension": ".py",
   "mimetype": "text/x-python",
   "name": "python",
   "nbconvert_exporter": "python",
   "pygments_lexer": "ipython3",
   "version": "3.11.4"
  }
 },
 "nbformat": 4,
 "nbformat_minor": 5
}
