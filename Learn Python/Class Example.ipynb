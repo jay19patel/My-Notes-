{
 "cells": [
  {
   "cell_type": "code",
   "execution_count": 100,
   "id": "cf68bd49-2e76-4c66-9300-c2912538e093",
   "metadata": {},
   "outputs": [],
   "source": [
    "class User:\n",
    "    data = \"Data abc\"\n",
    "    def __init__(self,name,roll,role):\n",
    "        self.name = name\n",
    "        self.roll = roll\n",
    "        self.role = role"
   ]
  },
  {
   "cell_type": "code",
   "execution_count": 101,
   "id": "9b782434-fd4d-4cf3-9ddb-86ff49e03802",
   "metadata": {},
   "outputs": [],
   "source": [
    "class Student(User):\n",
    "    @classmethod\n",
    "    def StudentDetails(self,name,roll,role):\n",
    "        super().__init__(self,name,roll,role)\n",
    "        if self.role == \"S\":\n",
    "            print(\"You are Student\")"
   ]
  },
  {
   "cell_type": "code",
   "execution_count": 102,
   "id": "9df2e58a-00a9-4a87-9dc7-d07a94569335",
   "metadata": {},
   "outputs": [],
   "source": [
    "obj = Student"
   ]
  },
  {
   "cell_type": "code",
   "execution_count": 103,
   "id": "fe72774e-4b27-4903-98b3-89e985ae4c22",
   "metadata": {},
   "outputs": [
    {
     "name": "stdout",
     "output_type": "stream",
     "text": [
      "You are Student\n"
     ]
    }
   ],
   "source": [
    "obj.StudentDetails(\"Jay\",22,\"S\")"
   ]
  },
  {
   "cell_type": "code",
   "execution_count": null,
   "id": "31645fc7-7166-445f-a8cc-87a5300f8003",
   "metadata": {},
   "outputs": [],
   "source": []
  },
  {
   "cell_type": "code",
   "execution_count": null,
   "id": "3a769342-e24e-48da-a6da-3e96f66ec82e",
   "metadata": {},
   "outputs": [],
   "source": []
  },
  {
   "cell_type": "code",
   "execution_count": null,
   "id": "00e66d19-af53-4b9c-a804-27ec0733854a",
   "metadata": {},
   "outputs": [],
   "source": []
  },
  {
   "cell_type": "code",
   "execution_count": null,
   "id": "4f0fb618-0c93-4a0c-8f50-41da79bb8f46",
   "metadata": {},
   "outputs": [],
   "source": []
  },
  {
   "cell_type": "code",
   "execution_count": null,
   "id": "e8ba3047-4971-4a10-ad20-d00cbb082e66",
   "metadata": {},
   "outputs": [],
   "source": []
  },
  {
   "cell_type": "code",
   "execution_count": null,
   "id": "724a0207-44a1-4835-b54d-5fcffa4b2f85",
   "metadata": {},
   "outputs": [],
   "source": []
  },
  {
   "cell_type": "code",
   "execution_count": null,
   "id": "65391158-b470-4cba-a106-e10e4c8e03f6",
   "metadata": {},
   "outputs": [],
   "source": []
  },
  {
   "cell_type": "code",
   "execution_count": null,
   "id": "4b9d3f91-e906-46cc-9226-ddc35acc23ff",
   "metadata": {},
   "outputs": [],
   "source": []
  }
 ],
 "metadata": {
  "kernelspec": {
   "display_name": "Python 3 (ipykernel)",
   "language": "python",
   "name": "python3"
  },
  "language_info": {
   "codemirror_mode": {
    "name": "ipython",
    "version": 3
   },
   "file_extension": ".py",
   "mimetype": "text/x-python",
   "name": "python",
   "nbconvert_exporter": "python",
   "pygments_lexer": "ipython3",
   "version": "3.11.4"
  }
 },
 "nbformat": 4,
 "nbformat_minor": 5
}
