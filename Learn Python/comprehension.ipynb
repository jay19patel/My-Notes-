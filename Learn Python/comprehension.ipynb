{
 "cells": [
  {
   "cell_type": "markdown",
   "id": "b2884a54-4a3c-46ce-8e2e-0b3086901215",
   "metadata": {},
   "source": [
    "# List Comprehension"
   ]
  },
  {
   "cell_type": "code",
   "execution_count": 37,
   "id": "a551a7e6-6afa-464e-8bc7-8b49739d286e",
   "metadata": {},
   "outputs": [
    {
     "data": {
      "text/plain": [
       "[2, 4, 6]"
      ]
     },
     "execution_count": 37,
     "metadata": {},
     "output_type": "execute_result"
    }
   ],
   "source": [
    "data = [1,2,3,4,5,6]\n",
    "[i for i in data if i%2==0]"
   ]
  },
  {
   "cell_type": "code",
   "execution_count": 50,
   "id": "74c7d69a-ca6e-4bcd-be88-f19998f3b5de",
   "metadata": {},
   "outputs": [
    {
     "data": {
      "text/plain": [
       "[1, 0, 1, 1, 1]"
      ]
     },
     "execution_count": 50,
     "metadata": {},
     "output_type": "execute_result"
    }
   ],
   "source": [
    "data = [True,False,True,True,True]\n",
    "[1 if i==True else 0 for i in data]"
   ]
  },
  {
   "cell_type": "code",
   "execution_count": 86,
   "id": "1c2dc257-a9e4-4fdb-8689-0ebc3a2a0b78",
   "metadata": {},
   "outputs": [
    {
     "data": {
      "text/plain": [
       "' My Name Is Jay'"
      ]
     },
     "execution_count": 86,
     "metadata": {},
     "output_type": "execute_result"
    }
   ],
   "source": [
    "data = \"MyNameIsJay\"\n",
    "\"\".join([ \" \"+i if i.isupper() else  i for i in data ])"
   ]
  },
  {
   "cell_type": "markdown",
   "id": "5546bf73-423e-4753-be10-cbfd3518d37c",
   "metadata": {},
   "source": [
    "# Dict Comprehension"
   ]
  },
  {
   "cell_type": "code",
   "execution_count": 106,
   "id": "d27d1eef-d3f1-4032-aee2-dd155265d4c7",
   "metadata": {},
   "outputs": [],
   "source": [
    "data = {\n",
    "    1:\n",
    "    {\"name\":\"Ajay\",\n",
    "    \"age\":17,\n",
    "    \"Data\":True},\n",
    "    \n",
    "    2:{\"name\":\"Jay\",\n",
    "    \"age\":22,\n",
    "    \"Data\":True}\n",
    "}"
   ]
  },
  {
   "cell_type": "code",
   "execution_count": 107,
   "id": "7a51e7f0-9e79-461b-9c1d-94107a038b72",
   "metadata": {},
   "outputs": [
    {
     "data": {
      "text/plain": [
       "[1, 2]"
      ]
     },
     "execution_count": 107,
     "metadata": {},
     "output_type": "execute_result"
    }
   ],
   "source": [
    "[ i for i in data]"
   ]
  },
  {
   "cell_type": "code",
   "execution_count": 108,
   "id": "22db168d-cf6d-4a23-b1d4-b76eeae8263a",
   "metadata": {},
   "outputs": [
    {
     "name": "stdout",
     "output_type": "stream",
     "text": [
      "Jay\n"
     ]
    }
   ],
   "source": [
    "for i in data:\n",
    "    if data[i]['age'] >= 20:\n",
    "        print(data[i][\"name\"])"
   ]
  },
  {
   "cell_type": "code",
   "execution_count": 109,
   "id": "4d0f44e6-06ef-468f-a8f9-4d0474695117",
   "metadata": {},
   "outputs": [
    {
     "data": {
      "text/plain": [
       "['Jay']"
      ]
     },
     "execution_count": 109,
     "metadata": {},
     "output_type": "execute_result"
    }
   ],
   "source": [
    "[data[i][\"name\"] for i in data if data[i]['age'] >=20 ]"
   ]
  },
  {
   "cell_type": "code",
   "execution_count": 110,
   "id": "72daeecf-3c1f-43f3-974d-0f99bd3fb807",
   "metadata": {},
   "outputs": [],
   "source": [
    "# dict com"
   ]
  },
  {
   "cell_type": "code",
   "execution_count": 115,
   "id": "7117a5d1-b650-4a36-950b-8852ce40728d",
   "metadata": {},
   "outputs": [],
   "source": [
    "data = {\n",
    "    \"name\":\"Jay\",\n",
    "    \"age\":22\n",
    "}"
   ]
  },
  {
   "cell_type": "code",
   "execution_count": 116,
   "id": "c86aed29-1777-4c06-99ff-fc8bfb34203c",
   "metadata": {},
   "outputs": [
    {
     "data": {
      "text/plain": [
       "dict_items([('name', 'Jay'), ('age', 22)])"
      ]
     },
     "execution_count": 116,
     "metadata": {},
     "output_type": "execute_result"
    }
   ],
   "source": [
    "data.items()"
   ]
  },
  {
   "cell_type": "code",
   "execution_count": 117,
   "id": "b833bd7a-2961-4a06-872a-f8278018821c",
   "metadata": {},
   "outputs": [
    {
     "data": {
      "text/plain": [
       "{'name': 'Jay', 'age': 22}"
      ]
     },
     "execution_count": 117,
     "metadata": {},
     "output_type": "execute_result"
    }
   ],
   "source": [
    "{ key:val for (key,val) in data.items()}"
   ]
  },
  {
   "cell_type": "code",
   "execution_count": 125,
   "id": "ccba98c6-2559-4f98-b679-76901f1978fc",
   "metadata": {},
   "outputs": [
    {
     "data": {
      "text/plain": [
       "{'full name': 'Jay', 'age': 22}"
      ]
     },
     "execution_count": 125,
     "metadata": {},
     "output_type": "execute_result"
    }
   ],
   "source": [
    "{(\"full \"+key if key==\"name\" else key ):val for (key,val) in data.items()} # also we add some conditions for val using (val if else )"
   ]
  },
  {
   "cell_type": "code",
   "execution_count": null,
   "id": "c2238e5d-712f-4d2b-b52a-9aa8751c8221",
   "metadata": {},
   "outputs": [],
   "source": []
  },
  {
   "cell_type": "code",
   "execution_count": null,
   "id": "a5cd5ccf-236e-4b3d-a143-70e19afa4fa2",
   "metadata": {},
   "outputs": [],
   "source": []
  }
 ],
 "metadata": {
  "kernelspec": {
   "display_name": "Python 3 (ipykernel)",
   "language": "python",
   "name": "python3"
  },
  "language_info": {
   "codemirror_mode": {
    "name": "ipython",
    "version": 3
   },
   "file_extension": ".py",
   "mimetype": "text/x-python",
   "name": "python",
   "nbconvert_exporter": "python",
   "pygments_lexer": "ipython3",
   "version": "3.11.4"
  }
 },
 "nbformat": 4,
 "nbformat_minor": 5
}
