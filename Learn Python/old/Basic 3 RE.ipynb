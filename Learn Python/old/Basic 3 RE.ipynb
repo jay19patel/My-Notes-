{
 "cells": [
  {
   "cell_type": "code",
   "execution_count": 2,
   "id": "a7729a48-e480-4513-904e-d98b00863803",
   "metadata": {},
   "outputs": [],
   "source": [
    "import re"
   ]
  },
  {
   "cell_type": "code",
   "execution_count": 3,
   "id": "a9e543b3-3f08-4043-91df-e986e538522b",
   "metadata": {},
   "outputs": [],
   "source": [
    "s = \"Hi Jay Patel, Hii Hiiiiii 26\""
   ]
  },
  {
   "cell_type": "code",
   "execution_count": 4,
   "id": "81f6ddc3-7875-4244-9534-dd6937bfb06d",
   "metadata": {},
   "outputs": [
    {
     "data": {
      "text/plain": [
       "['Hi', 'Hi', 'Hi']"
      ]
     },
     "execution_count": 4,
     "metadata": {},
     "output_type": "execute_result"
    }
   ],
   "source": [
    "re.findall(\"Hi\",s)# find Hii in string and return list of Hi"
   ]
  },
  {
   "cell_type": "code",
   "execution_count": 5,
   "id": "f23adc49-23cd-4b11-9a62-fb17c466055b",
   "metadata": {},
   "outputs": [
    {
     "data": {
      "text/plain": [
       "<re.Match object; span=(3, 6), match='Jay'>"
      ]
     },
     "execution_count": 5,
     "metadata": {},
     "output_type": "execute_result"
    }
   ],
   "source": [
    "re.search(\"Jay\",s) #  => span means our data in beetwen index of 3 and 6"
   ]
  },
  {
   "cell_type": "code",
   "execution_count": 6,
   "id": "7a4e2ec7-93b9-41f7-a5cb-12199d2e597a",
   "metadata": {},
   "outputs": [
    {
     "data": {
      "text/plain": [
       "['Hi Jay Patel', ' Hii Hiiiiii 26']"
      ]
     },
     "execution_count": 6,
     "metadata": {},
     "output_type": "execute_result"
    }
   ],
   "source": [
    "re.split(\",\",s) # => Split the string where name is jay "
   ]
  },
  {
   "cell_type": "code",
   "execution_count": 7,
   "id": "b6573f02-912b-4ccb-b9de-035a37e49dd5",
   "metadata": {},
   "outputs": [
    {
     "data": {
      "text/plain": [
       "'Hi Salman, Hii Hiiiiii 26'"
      ]
     },
     "execution_count": 7,
     "metadata": {},
     "output_type": "execute_result"
    }
   ],
   "source": [
    "re.sub(\"Jay Patel\",\"Salman\",s) # Chnage value where jay patel find "
   ]
  },
  {
   "cell_type": "code",
   "execution_count": null,
   "id": "dbf93e13-289a-41db-8dc6-e96d75014789",
   "metadata": {},
   "outputs": [],
   "source": []
  },
  {
   "cell_type": "code",
   "execution_count": 8,
   "id": "7cf123a3-88a8-4d1b-a65d-5d4107057622",
   "metadata": {},
   "outputs": [
    {
     "data": {
      "text/plain": [
       "['Hi']"
      ]
     },
     "execution_count": 8,
     "metadata": {},
     "output_type": "execute_result"
    }
   ],
   "source": [
    "re.findall(\"\\AHi\",s)"
   ]
  },
  {
   "cell_type": "code",
   "execution_count": 9,
   "id": "bcfdfae5-c166-42cd-8916-c8e7d74f365b",
   "metadata": {},
   "outputs": [],
   "source": [
    "# \\A => First in line word / Char "
   ]
  },
  {
   "cell_type": "code",
   "execution_count": 18,
   "id": "1353df86-a06e-485e-bd45-6bf2989c6991",
   "metadata": {},
   "outputs": [
    {
     "data": {
      "text/plain": [
       "['ii', 'ii', 'ii', 'ii']"
      ]
     },
     "execution_count": 18,
     "metadata": {},
     "output_type": "execute_result"
    }
   ],
   "source": [
    "re.findall(r\"\\Bii\",s)   # here r for read"
   ]
  },
  {
   "cell_type": "code",
   "execution_count": 11,
   "id": "59d300e1-d5ab-47a5-8d79-0f3872e74ed4",
   "metadata": {},
   "outputs": [],
   "source": [
    "# \\b=> Begning for word only\n",
    "# \\B => Midel for word only (Midel)"
   ]
  },
  {
   "cell_type": "code",
   "execution_count": 20,
   "id": "7f1663d3-24a5-466a-abc6-3ea849666d4f",
   "metadata": {},
   "outputs": [
    {
     "data": {
      "text/plain": [
       "['2', '6']"
      ]
     },
     "execution_count": 20,
     "metadata": {},
     "output_type": "execute_result"
    }
   ],
   "source": [
    "re.findall(r\"\\d\",s) "
   ]
  },
  {
   "cell_type": "code",
   "execution_count": 13,
   "id": "8b2a99d7-7dca-4558-9865-89ead4b0a879",
   "metadata": {},
   "outputs": [],
   "source": [
    "# \\d Get only number is presentin string \n",
    "# \\D Get only number who is not number in  string \n"
   ]
  },
  {
   "cell_type": "code",
   "execution_count": 14,
   "id": "facdff40-5a18-4157-93d1-6cf7f834a0a9",
   "metadata": {},
   "outputs": [
    {
     "data": {
      "text/plain": [
       "[' ', ' ', ',', ' ', ' ', ' ']"
      ]
     },
     "execution_count": 14,
     "metadata": {},
     "output_type": "execute_result"
    }
   ],
   "source": [
    "re.findall(r\"\\W\",s) "
   ]
  },
  {
   "cell_type": "code",
   "execution_count": 15,
   "id": "cd477b44-5c95-4720-9fab-6c522c4ece64",
   "metadata": {},
   "outputs": [],
   "source": [
    "# \\w Get  eny word in a - z in  string \n",
    "# \\W Get  not word charcter  in  string like space bracate or etc etc  "
   ]
  },
  {
   "cell_type": "code",
   "execution_count": 16,
   "id": "15aa91f8-e107-4799-a4a9-caf45476ceb3",
   "metadata": {},
   "outputs": [
    {
     "data": {
      "text/plain": [
       "['26']"
      ]
     },
     "execution_count": 16,
     "metadata": {},
     "output_type": "execute_result"
    }
   ],
   "source": [
    "re.findall(r\"26\\Z\",s) "
   ]
  },
  {
   "cell_type": "code",
   "execution_count": 17,
   "id": "50885490-bc45-4bf0-b24f-db9eef50bd50",
   "metadata": {},
   "outputs": [],
   "source": [
    "# \\Z  End With This word "
   ]
  },
  {
   "cell_type": "code",
   "execution_count": null,
   "id": "08251a93-114c-4dc9-b40f-d18cb3fd0ecc",
   "metadata": {},
   "outputs": [],
   "source": []
  },
  {
   "cell_type": "code",
   "execution_count": null,
   "id": "bed9f588-0df2-48dd-955a-75867ec0ad6a",
   "metadata": {},
   "outputs": [],
   "source": []
  },
  {
   "cell_type": "code",
   "execution_count": null,
   "id": "0cb032fb-08df-4f96-91a3-a5df6cf399c1",
   "metadata": {},
   "outputs": [],
   "source": []
  }
 ],
 "metadata": {
  "kernelspec": {
   "display_name": "Python 3 (ipykernel)",
   "language": "python",
   "name": "python3"
  },
  "language_info": {
   "codemirror_mode": {
    "name": "ipython",
    "version": 3
   },
   "file_extension": ".py",
   "mimetype": "text/x-python",
   "name": "python",
   "nbconvert_exporter": "python",
   "pygments_lexer": "ipython3",
   "version": "3.11.4"
  }
 },
 "nbformat": 4,
 "nbformat_minor": 5
}
