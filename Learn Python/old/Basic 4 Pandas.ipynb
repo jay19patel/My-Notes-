{
 "cells": [
  {
   "cell_type": "markdown",
   "id": "ba0a9150-59d8-4442-99e1-c795da4ead2f",
   "metadata": {},
   "source": [
    "## Pandas "
   ]
  },
  {
   "cell_type": "markdown",
   "id": "4c92f493-d490-4a16-bc3e-63dfe29cd330",
   "metadata": {},
   "source": [
    "#  Basic of Pandas "
   ]
  },
  {
   "cell_type": "code",
   "execution_count": 126,
   "id": "8083ef2a-7644-45d2-8210-ebe5357201f6",
   "metadata": {},
   "outputs": [],
   "source": [
    "import pandas as pd"
   ]
  },
  {
   "cell_type": "code",
   "execution_count": 15,
   "id": "33199cd2-b579-417a-b6cc-0cf2ca5f9707",
   "metadata": {},
   "outputs": [],
   "source": [
    "data = [1,2,3] # list"
   ]
  },
  {
   "cell_type": "code",
   "execution_count": 16,
   "id": "569a3924-c494-4a5b-a52d-c4f067f3b48e",
   "metadata": {},
   "outputs": [],
   "source": [
    "df=  pd.DataFrame(data) # convert ito data Frame "
   ]
  },
  {
   "cell_type": "code",
   "execution_count": 20,
   "id": "629ddd0f-5419-4548-a02d-5d42c987f8b1",
   "metadata": {},
   "outputs": [],
   "source": [
    "ds = pd.Series(data,index = [\"A\",\"B\",\"C\"] ) # convert into Series"
   ]
  },
  {
   "cell_type": "code",
   "execution_count": 22,
   "id": "398d2a68-f686-4fff-9e31-e24f02326ad3",
   "metadata": {},
   "outputs": [],
   "source": [
    "# index = [\"A\",\"B\",\"C\"]  Are use for custom indexing of row "
   ]
  },
  {
   "cell_type": "markdown",
   "id": "43deec05-1c56-4df2-ab12-d81fc3dc3484",
   "metadata": {},
   "source": [
    "### Series"
   ]
  },
  {
   "cell_type": "code",
   "execution_count": 59,
   "id": "6a156d8e-3724-43b4-96da-9cc06de4a000",
   "metadata": {},
   "outputs": [],
   "source": [
    "score={\"Jane\":90, \"Bill\":80,\"Elon\":85,\"Tom\":75,\"Tim\":95}"
   ]
  },
  {
   "cell_type": "code",
   "execution_count": 66,
   "id": "bb81bfd8-1929-4032-87b0-ff77602f364d",
   "metadata": {},
   "outputs": [
    {
     "data": {
      "text/plain": [
       "Jane    90\n",
       "Bill    80\n",
       "Elon    85\n",
       "Tom     75\n",
       "Tim     95\n",
       "dtype: int64"
      ]
     },
     "execution_count": 66,
     "metadata": {},
     "output_type": "execute_result"
    }
   ],
   "source": [
    "ds = pd.Series(score)\n",
    "ds"
   ]
  },
  {
   "cell_type": "code",
   "execution_count": 68,
   "id": "f797133c-45aa-4183-a888-3c0b5052b715",
   "metadata": {},
   "outputs": [
    {
     "data": {
      "text/plain": [
       "90"
      ]
     },
     "execution_count": 68,
     "metadata": {},
     "output_type": "execute_result"
    }
   ],
   "source": [
    "ds[\"Jane\"] # access of data using index  like Dicts"
   ]
  },
  {
   "cell_type": "code",
   "execution_count": 72,
   "id": "ab357d7b-453b-4664-9f1c-740c7729b938",
   "metadata": {},
   "outputs": [
    {
     "data": {
      "text/plain": [
       "Jane    90\n",
       "Elon    85\n",
       "Tim     95\n",
       "dtype: int64"
      ]
     },
     "execution_count": 72,
     "metadata": {},
     "output_type": "execute_result"
    }
   ],
   "source": [
    "ds[ds>=85]  # get data where data less then 85 conditions "
   ]
  },
  {
   "cell_type": "code",
   "execution_count": null,
   "id": "71877b9c-dd41-4021-865b-e8a37badc0fe",
   "metadata": {},
   "outputs": [],
   "source": []
  },
  {
   "cell_type": "markdown",
   "id": "b44f9af7-1f2a-40dd-be0e-6c154672a8bc",
   "metadata": {},
   "source": [
    "### Data Frame"
   ]
  },
  {
   "cell_type": "code",
   "execution_count": 114,
   "id": "c5c529ad-3bfa-4fdb-a26c-96226af4fdaa",
   "metadata": {},
   "outputs": [],
   "source": [
    "data = {\n",
    "  \"calories\": [420, 380, 390],\n",
    "  \"duration\": [50, 40, 45]\n",
    "}\n",
    "#  We Use a dictionary data as a datagrame where keys are title and values are data"
   ]
  },
  {
   "cell_type": "code",
   "execution_count": 115,
   "id": "29554425-5439-45c7-8a08-fcb8b0b5e4d2",
   "metadata": {},
   "outputs": [],
   "source": [
    "# df = pd.DataFrame(data)"
   ]
  },
  {
   "cell_type": "code",
   "execution_count": 116,
   "id": "227a7bd0-1a65-452f-a3a8-b172b4be8a0c",
   "metadata": {},
   "outputs": [],
   "source": [
    "# print(df.loc[2]) # print(df.loc[2]) => return the row of passed index "
   ]
  },
  {
   "cell_type": "code",
   "execution_count": 117,
   "id": "be0e35f2-6c5f-44d1-8a0e-0b081910fa43",
   "metadata": {},
   "outputs": [],
   "source": [
    "#print(df.loc[[0, 2]]) # also passing multiple values using 2D list"
   ]
  },
  {
   "cell_type": "code",
   "execution_count": 118,
   "id": "643efdea-728d-44e1-b519-7ffcd542a9ea",
   "metadata": {},
   "outputs": [],
   "source": [
    "#df.info() # give basic infomation about dataframe (totla no, column name etc etc)"
   ]
  },
  {
   "cell_type": "code",
   "execution_count": 119,
   "id": "f97ea36f-6d89-40ef-8d9c-b45f8c17993e",
   "metadata": {},
   "outputs": [],
   "source": [
    "# df.index # get infomation about index"
   ]
  },
  {
   "cell_type": "code",
   "execution_count": 120,
   "id": "224d020f-d412-4fbe-866b-db271ef9aefc",
   "metadata": {},
   "outputs": [],
   "source": [
    "#df[\"calories\"] # Acess data uisng index like dict "
   ]
  },
  {
   "cell_type": "code",
   "execution_count": 121,
   "id": "c36033c3-8554-4a13-97b5-3a28f6c67cb2",
   "metadata": {},
   "outputs": [],
   "source": [
    "# df.describe() # return all data about statistics "
   ]
  },
  {
   "cell_type": "code",
   "execution_count": 122,
   "id": "4048f68e-a58f-4a87-a312-543ba563429e",
   "metadata": {
    "scrolled": true
   },
   "outputs": [],
   "source": [
    "# df.value_counts() # get tottal count of data || also we use any seprate coumn data using (df.calories.value_counts())"
   ]
  },
  {
   "cell_type": "markdown",
   "id": "afdc869a-c260-48e0-9215-de71b2d4be52",
   "metadata": {},
   "source": [
    "## Dataframe Exmaple"
   ]
  },
  {
   "cell_type": "code",
   "execution_count": 186,
   "id": "4ebcf9c0-669e-4a6e-8ae7-dfa00608b92c",
   "metadata": {},
   "outputs": [],
   "source": [
    "data={\"name\":[\"Bill\",\"Tom\",\"Tim\",\"John\",\"Alex\",\"Vanessa\",\"Kate\"],      \n",
    "      \"score\":[90,80,85,75,95,60,65],      \n",
    "      \"sport\":[\"Wrestling\",\"Football\",\"Skiing\",\"Swimming\",\"Tennis\",\n",
    "               \"Karete\",\"Surfing\"],      \n",
    "      \"sex\":[\"M\",\"M\",\"M\",\"M\",\"F\",\"F\",\"F\"]}"
   ]
  },
  {
   "cell_type": "code",
   "execution_count": 187,
   "id": "0c474fe4-8167-40c2-8a81-491f9bc66957",
   "metadata": {},
   "outputs": [
    {
     "data": {
      "text/html": [
       "<div>\n",
       "<style scoped>\n",
       "    .dataframe tbody tr th:only-of-type {\n",
       "        vertical-align: middle;\n",
       "    }\n",
       "\n",
       "    .dataframe tbody tr th {\n",
       "        vertical-align: top;\n",
       "    }\n",
       "\n",
       "    .dataframe thead th {\n",
       "        text-align: right;\n",
       "    }\n",
       "</style>\n",
       "<table border=\"1\" class=\"dataframe\">\n",
       "  <thead>\n",
       "    <tr style=\"text-align: right;\">\n",
       "      <th></th>\n",
       "      <th>name</th>\n",
       "      <th>score</th>\n",
       "      <th>sport</th>\n",
       "      <th>sex</th>\n",
       "    </tr>\n",
       "  </thead>\n",
       "  <tbody>\n",
       "    <tr>\n",
       "      <th>0</th>\n",
       "      <td>Bill</td>\n",
       "      <td>90</td>\n",
       "      <td>Wrestling</td>\n",
       "      <td>M</td>\n",
       "    </tr>\n",
       "    <tr>\n",
       "      <th>1</th>\n",
       "      <td>Tom</td>\n",
       "      <td>80</td>\n",
       "      <td>Football</td>\n",
       "      <td>M</td>\n",
       "    </tr>\n",
       "    <tr>\n",
       "      <th>2</th>\n",
       "      <td>Tim</td>\n",
       "      <td>85</td>\n",
       "      <td>Skiing</td>\n",
       "      <td>M</td>\n",
       "    </tr>\n",
       "    <tr>\n",
       "      <th>3</th>\n",
       "      <td>John</td>\n",
       "      <td>75</td>\n",
       "      <td>Swimming</td>\n",
       "      <td>M</td>\n",
       "    </tr>\n",
       "    <tr>\n",
       "      <th>4</th>\n",
       "      <td>Alex</td>\n",
       "      <td>95</td>\n",
       "      <td>Tennis</td>\n",
       "      <td>F</td>\n",
       "    </tr>\n",
       "    <tr>\n",
       "      <th>5</th>\n",
       "      <td>Vanessa</td>\n",
       "      <td>60</td>\n",
       "      <td>Karete</td>\n",
       "      <td>F</td>\n",
       "    </tr>\n",
       "    <tr>\n",
       "      <th>6</th>\n",
       "      <td>Kate</td>\n",
       "      <td>65</td>\n",
       "      <td>Surfing</td>\n",
       "      <td>F</td>\n",
       "    </tr>\n",
       "  </tbody>\n",
       "</table>\n",
       "</div>"
      ],
      "text/plain": [
       "      name  score      sport sex\n",
       "0     Bill     90  Wrestling   M\n",
       "1      Tom     80   Football   M\n",
       "2      Tim     85     Skiing   M\n",
       "3     John     75   Swimming   M\n",
       "4     Alex     95     Tennis   F\n",
       "5  Vanessa     60     Karete   F\n",
       "6     Kate     65    Surfing   F"
      ]
     },
     "execution_count": 187,
     "metadata": {},
     "output_type": "execute_result"
    }
   ],
   "source": [
    "df = pd.DataFrame(data)\n",
    "df"
   ]
  },
  {
   "cell_type": "code",
   "execution_count": 188,
   "id": "c46d26f7-bfcf-405d-8e80-cd6fff1d1603",
   "metadata": {},
   "outputs": [],
   "source": [
    "# columns=[\"name\",\"sport\",\"sex\",\"score\"]) # managing our columsn title using columns arg"
   ]
  },
  {
   "cell_type": "code",
   "execution_count": 189,
   "id": "bc2b7ff5-29bb-4190-8c03-3c7b642bb864",
   "metadata": {},
   "outputs": [],
   "source": [
    "# df[\"sport\"] #// df.sport  # Access only one cloumn data "
   ]
  },
  {
   "cell_type": "code",
   "execution_count": 190,
   "id": "962e7bdb-9438-4223-8a4d-a441869d2de7",
   "metadata": {},
   "outputs": [],
   "source": [
    "# my_columns=[\"name\",\"sport\"]\n",
    "# df[my_columns]\n",
    "# when Acess Only Some columns then "
   ]
  },
  {
   "cell_type": "code",
   "execution_count": 191,
   "id": "c5b7b8eb-201b-44bf-afd1-10841c2b2fd9",
   "metadata": {},
   "outputs": [],
   "source": [
    "#df[\"score\"] = 90 # Update any Value like dictionary"
   ]
  },
  {
   "cell_type": "code",
   "execution_count": 192,
   "id": "673f03ac-69f2-4302-bbf3-82d6f66b3ba5",
   "metadata": {},
   "outputs": [],
   "source": [
    "#df[\"pass\"]=df.score>=70 # Create one colum and add value (70 up score are true )\n",
    "#df"
   ]
  },
  {
   "cell_type": "code",
   "execution_count": 193,
   "id": "d81a4de3-61a7-4707-b3e9-98cb6301e5d9",
   "metadata": {},
   "outputs": [],
   "source": [
    "#del df[\"pass\"] # Delete any column permanetly\n",
    "# df"
   ]
  },
  {
   "cell_type": "code",
   "execution_count": null,
   "id": "83d780f2-b86f-46d5-951c-bb51f5ca62d7",
   "metadata": {},
   "outputs": [],
   "source": []
  },
  {
   "cell_type": "markdown",
   "id": "8a4f0469-f612-465c-b49f-407c81424f44",
   "metadata": {},
   "source": [
    "#### Transform Table"
   ]
  },
  {
   "cell_type": "code",
   "execution_count": 195,
   "id": "a21e37e1-fb98-4a49-8d90-ad985f2acc0c",
   "metadata": {},
   "outputs": [],
   "source": [
    "scores={\"Math\":{\"A\":85,\"B\":90,\"C\":95}, \"Physics\":{\"A\":90,\"B\":80,\"C\":75}}"
   ]
  },
  {
   "cell_type": "code",
   "execution_count": 196,
   "id": "3373dbde-ff87-4ddb-b403-f85f99b93313",
   "metadata": {},
   "outputs": [],
   "source": [
    "df = pd.DataFrame(scores)"
   ]
  },
  {
   "cell_type": "code",
   "execution_count": 197,
   "id": "ac0a9054-f7b1-4051-a041-cc6f3af951c9",
   "metadata": {},
   "outputs": [
    {
     "data": {
      "text/html": [
       "<div>\n",
       "<style scoped>\n",
       "    .dataframe tbody tr th:only-of-type {\n",
       "        vertical-align: middle;\n",
       "    }\n",
       "\n",
       "    .dataframe tbody tr th {\n",
       "        vertical-align: top;\n",
       "    }\n",
       "\n",
       "    .dataframe thead th {\n",
       "        text-align: right;\n",
       "    }\n",
       "</style>\n",
       "<table border=\"1\" class=\"dataframe\">\n",
       "  <thead>\n",
       "    <tr style=\"text-align: right;\">\n",
       "      <th></th>\n",
       "      <th>Math</th>\n",
       "      <th>Physics</th>\n",
       "    </tr>\n",
       "  </thead>\n",
       "  <tbody>\n",
       "    <tr>\n",
       "      <th>A</th>\n",
       "      <td>85</td>\n",
       "      <td>90</td>\n",
       "    </tr>\n",
       "    <tr>\n",
       "      <th>B</th>\n",
       "      <td>90</td>\n",
       "      <td>80</td>\n",
       "    </tr>\n",
       "    <tr>\n",
       "      <th>C</th>\n",
       "      <td>95</td>\n",
       "      <td>75</td>\n",
       "    </tr>\n",
       "  </tbody>\n",
       "</table>\n",
       "</div>"
      ],
      "text/plain": [
       "   Math  Physics\n",
       "A    85       90\n",
       "B    90       80\n",
       "C    95       75"
      ]
     },
     "execution_count": 197,
     "metadata": {},
     "output_type": "execute_result"
    }
   ],
   "source": [
    "df"
   ]
  },
  {
   "cell_type": "code",
   "execution_count": 198,
   "id": "0c4c2ba3-dc35-4d8f-bd18-466b3358f87f",
   "metadata": {},
   "outputs": [
    {
     "data": {
      "text/html": [
       "<div>\n",
       "<style scoped>\n",
       "    .dataframe tbody tr th:only-of-type {\n",
       "        vertical-align: middle;\n",
       "    }\n",
       "\n",
       "    .dataframe tbody tr th {\n",
       "        vertical-align: top;\n",
       "    }\n",
       "\n",
       "    .dataframe thead th {\n",
       "        text-align: right;\n",
       "    }\n",
       "</style>\n",
       "<table border=\"1\" class=\"dataframe\">\n",
       "  <thead>\n",
       "    <tr style=\"text-align: right;\">\n",
       "      <th></th>\n",
       "      <th>A</th>\n",
       "      <th>B</th>\n",
       "      <th>C</th>\n",
       "    </tr>\n",
       "  </thead>\n",
       "  <tbody>\n",
       "    <tr>\n",
       "      <th>Math</th>\n",
       "      <td>85</td>\n",
       "      <td>90</td>\n",
       "      <td>95</td>\n",
       "    </tr>\n",
       "    <tr>\n",
       "      <th>Physics</th>\n",
       "      <td>90</td>\n",
       "      <td>80</td>\n",
       "      <td>75</td>\n",
       "    </tr>\n",
       "  </tbody>\n",
       "</table>\n",
       "</div>"
      ],
      "text/plain": [
       "          A   B   C\n",
       "Math     85  90  95\n",
       "Physics  90  80  75"
      ]
     },
     "execution_count": 198,
     "metadata": {},
     "output_type": "execute_result"
    }
   ],
   "source": [
    "df.T # df.T => Coumsn to index and index to column "
   ]
  },
  {
   "cell_type": "code",
   "execution_count": 199,
   "id": "4897fc1b-885e-443f-830b-646bfbfd8b96",
   "metadata": {},
   "outputs": [],
   "source": [
    "# fb=pd.read_csv(\n",
    "#     \"FB.csv\", \n",
    "#     parse_dates=[\"Date\"], \n",
    "#     index_col=\"Date\")\n",
    "\n",
    "#  Add a column as a index "
   ]
  },
  {
   "cell_type": "code",
   "execution_count": 200,
   "id": "42595283-c635-48ff-8d91-1e5cfbfb1cfc",
   "metadata": {},
   "outputs": [],
   "source": [
    "# dir(df)  # => IMP  => geting all methods of dataframe "
   ]
  },
  {
   "cell_type": "code",
   "execution_count": 201,
   "id": "44636215-0feb-4137-a22f-136f9c01b684",
   "metadata": {},
   "outputs": [],
   "source": [
    "# games.shape  # Get a colums and row number "
   ]
  },
  {
   "cell_type": "code",
   "execution_count": null,
   "id": "e2e3cf8b-e992-4914-a7ef-08f9e4e9126c",
   "metadata": {},
   "outputs": [],
   "source": []
  },
  {
   "cell_type": "code",
   "execution_count": null,
   "id": "77ee0dd3-186e-4cf3-9c17-b9a1f580492f",
   "metadata": {},
   "outputs": [],
   "source": []
  },
  {
   "cell_type": "code",
   "execution_count": 204,
   "id": "a5d2aa55-6ef7-4207-844f-98f0f052fdaf",
   "metadata": {},
   "outputs": [],
   "source": [
    "# games.sort_values(by = \"Year\", ascending=False).head() \n",
    "# games.sort_values(by = [\"Year\", \"Genre\"], ascending=False).head()\n",
    "#  Sorting data here year is a key of sorting "
   ]
  },
  {
   "cell_type": "code",
   "execution_count": 205,
   "id": "58e0f711-c30c-4e01-8568-7002bc1cbb45",
   "metadata": {},
   "outputs": [],
   "source": [
    "# df['column name'] = df['column name'].replace(['old value'], 'new value')\n",
    "# replace  any data to any data"
   ]
  },
  {
   "cell_type": "markdown",
   "id": "174d0b48-21a4-4111-98ed-a07417229cc1",
   "metadata": {},
   "source": [
    "## Find Data"
   ]
  },
  {
   "cell_type": "code",
   "execution_count": 206,
   "id": "bf1146b6-1b0e-40e2-b1df-221f19960c32",
   "metadata": {},
   "outputs": [],
   "source": [
    "# mdf[mdf.genre == \"Crime\"]\n",
    "# mdf.genre == \"Crime\" => Give a true or false output \n",
    "# using df again we get the row of this data "
   ]
  },
  {
   "cell_type": "code",
   "execution_count": null,
   "id": "7e2a831b-feb8-4344-9e68-6399c4f9f682",
   "metadata": {},
   "outputs": [],
   "source": []
  },
  {
   "cell_type": "markdown",
   "id": "da0f9a58-2609-4934-858a-e6ccd2554724",
   "metadata": {},
   "source": [
    "## Dataframe to Python List Or Dictionry\n"
   ]
  },
  {
   "cell_type": "code",
   "execution_count": null,
   "id": "72a0ac3b-4a3c-42cf-afd8-0cf0d5983edf",
   "metadata": {},
   "outputs": [],
   "source": [
    "# mydata = mdf.to_dict() => Dictionary\n",
    "# mdf.values.tolist() => List"
   ]
  },
  {
   "cell_type": "code",
   "execution_count": null,
   "id": "fc0cae79-09b3-4608-a283-829c0171c2cf",
   "metadata": {},
   "outputs": [],
   "source": []
  },
  {
   "cell_type": "code",
   "execution_count": null,
   "id": "d594e745-5b2d-476f-a38a-778a02fbcfb4",
   "metadata": {},
   "outputs": [],
   "source": []
  }
 ],
 "metadata": {
  "kernelspec": {
   "display_name": "Python 3 (ipykernel)",
   "language": "python",
   "name": "python3"
  },
  "language_info": {
   "codemirror_mode": {
    "name": "ipython",
    "version": 3
   },
   "file_extension": ".py",
   "mimetype": "text/x-python",
   "name": "python",
   "nbconvert_exporter": "python",
   "pygments_lexer": "ipython3",
   "version": "3.10.5"
  }
 },
 "nbformat": 4,
 "nbformat_minor": 5
}
