{
 "cells": [
  {
   "cell_type": "markdown",
   "id": "52901831-2bc4-49b3-b7de-bca00d26a02b",
   "metadata": {},
   "source": [
    "# Django Model Relationship"
   ]
  },
  {
   "cell_type": "raw",
   "id": "23baf234-46f7-4e70-aebd-d7a8d6b20e9d",
   "metadata": {},
   "source": [
    "ForeignKey\n",
    "A many-to-one relationship. Requires two positional arguments: the class to which the model is related and the on_delete option."
   ]
  },
  {
   "cell_type": "raw",
   "id": "5f53535f-03e9-41dc-8b83-a68262c26b3e",
   "metadata": {},
   "source": [
    "ManyToManyField"
   ]
  },
  {
   "cell_type": "raw",
   "id": "362d6ee7-b998-4cf9-adea-4730d68ade35",
   "metadata": {},
   "source": [
    "OneToOneField"
   ]
  },
  {
   "cell_type": "code",
   "execution_count": 2,
   "id": "ce029c1e-63b7-4349-a2f2-7cbcabb6963c",
   "metadata": {},
   "outputs": [],
   "source": [
    "# max_length => Max Langth of this field"
   ]
  },
  {
   "cell_type": "code",
   "execution_count": 3,
   "id": "bbdb0f42-b5c9-49de-a537-f0ffc2cbe7c8",
   "metadata": {},
   "outputs": [],
   "source": [
    "# on_delete = models.CASCADE  => This field cary a on  delete function "
   ]
  },
  {
   "cell_type": "code",
   "execution_count": 4,
   "id": "90ac4b5c-6d75-46f9-8fa2-47103af276bc",
   "metadata": {},
   "outputs": [],
   "source": [
    "# primary_key = True =>  This field is Primary Key"
   ]
  },
  {
   "cell_type": "markdown",
   "id": "47eb72d0-f9c2-484d-bdf9-b61418751b10",
   "metadata": {},
   "source": [
    "#### Example of Field"
   ]
  },
  {
   "cell_type": "code",
   "execution_count": 5,
   "id": "c9375cdb-50cd-41b6-bd78-1178a4a18f78",
   "metadata": {},
   "outputs": [],
   "source": [
    "# UID = models.OneToOneField(UID, on_delete = models.CASCADE, primary_key = True)"
   ]
  },
  {
   "cell_type": "code",
   "execution_count": 23,
   "id": "d849bfd4-65d4-464a-b002-e7c37dbeeadb",
   "metadata": {},
   "outputs": [],
   "source": [
    "# prod = models.ManyToManyField(Product)"
   ]
  },
  {
   "cell_type": "markdown",
   "id": "a9ca156b-7f4b-4c35-bd3f-a3b1a5b97e61",
   "metadata": {},
   "source": [
    "#### On_delete"
   ]
  },
  {
   "cell_type": "code",
   "execution_count": 6,
   "id": "51a9c7a9-b7c9-409b-8bb5-088c893638f0",
   "metadata": {},
   "outputs": [],
   "source": [
    "# on_delete = models.CASCADE : This is the default setting. \n",
    "# It ensures that all the related records in the linked model are also deleted when the record in the model is deleted."
   ]
  },
  {
   "cell_type": "code",
   "execution_count": 7,
   "id": "8302390e-097c-4527-a0b6-48f3939b255c",
   "metadata": {},
   "outputs": [],
   "source": [
    "# on_delete = models.SET_NULL : \n",
    "# When a record is deleted, it assigns NULL to the relational field if null = True is set."
   ]
  },
  {
   "cell_type": "code",
   "execution_count": 8,
   "id": "febd84f4-28e7-43e6-aa6f-bdb832399be2",
   "metadata": {},
   "outputs": [],
   "source": [
    "# on_delete = models.SET_DEFAULT : \n",
    "# It provides default values to relational fields when a record is deleted and a default value has to be provided."
   ]
  },
  {
   "cell_type": "code",
   "execution_count": 10,
   "id": "246c7fed-1407-4804-9f13-a60a4f6d8e0e",
   "metadata": {},
   "outputs": [],
   "source": [
    "# on_delete = models.SET() : \n",
    "# It can be used to take a default value as a parameter or a callable, the return value of which is assigned to the field."
   ]
  },
  {
   "cell_type": "code",
   "execution_count": 12,
   "id": "de2f0334-fc8e-40a7-a147-58b5aa61b609",
   "metadata": {},
   "outputs": [],
   "source": [
    "# on_delete = models.DO_NOTHING : \n",
    "# It does nothing. No action is taken."
   ]
  },
  {
   "cell_type": "markdown",
   "id": "d7dc0eba-28ed-413b-8fb1-8241f8b2e4f1",
   "metadata": {},
   "source": [
    "#### Field options"
   ]
  },
  {
   "cell_type": "code",
   "execution_count": 13,
   "id": "f377cd2b-a879-42e7-881f-3fee60685bdb",
   "metadata": {},
   "outputs": [],
   "source": [
    "# Null => If True, Django will store empty values as NULL in the database. Default is False."
   ]
  },
  {
   "cell_type": "code",
   "execution_count": 14,
   "id": "850d80ea-3fd0-4c00-abab-928cc6261aa4",
   "metadata": {},
   "outputs": [],
   "source": [
    "# Blank => If True, the field is allowed to be blank. Default is False."
   ]
  },
  {
   "cell_type": "code",
   "execution_count": 16,
   "id": "ab721770-11de-4eb0-9819-e69a2ae9b026",
   "metadata": {},
   "outputs": [],
   "source": [
    "# Choices => Drop Box and choice one filed "
   ]
  },
  {
   "cell_type": "code",
   "execution_count": null,
   "id": "e7da84d5-e62c-4654-a668-e3f2359d2bd4",
   "metadata": {},
   "outputs": [],
   "source": [
    "# default => The default value for the field. This can be a value or a callable object. If callable it will be called every time a new object is created."
   ]
  },
  {
   "cell_type": "code",
   "execution_count": 17,
   "id": "81ee3436-256f-4080-9ddf-68069d319a2a",
   "metadata": {},
   "outputs": [],
   "source": [
    "# help_text => Extra “help” text to be displayed with the form widget. It’s useful for documentation even if your field isn’t used on a form."
   ]
  },
  {
   "cell_type": "code",
   "execution_count": 18,
   "id": "4d228119-18d7-4e61-beff-d283b37f673c",
   "metadata": {},
   "outputs": [],
   "source": [
    "# primary_key => If True, this field is the primary key for the model."
   ]
  },
  {
   "cell_type": "code",
   "execution_count": 20,
   "id": "3230dcf0-6616-4e6f-adff-405a1ee7013b",
   "metadata": {},
   "outputs": [],
   "source": [
    "# unique => If True, this field must be unique throughout the table."
   ]
  },
  {
   "cell_type": "code",
   "execution_count": 22,
   "id": "285568b1-d66b-4758-a417-019645bb7462",
   "metadata": {},
   "outputs": [],
   "source": [
    " # through => This table is called a “through” table and each entry in this table will connect the source table (sandwich in this case) and the target table (sauce in this case)."
   ]
  },
  {
   "cell_type": "code",
   "execution_count": null,
   "id": "4d7e4c5a-0776-4391-b2f1-acef2162ee72",
   "metadata": {},
   "outputs": [],
   "source": []
  }
 ],
 "metadata": {
  "kernelspec": {
   "display_name": "Python 3 (ipykernel)",
   "language": "python",
   "name": "python3"
  },
  "language_info": {
   "codemirror_mode": {
    "name": "ipython",
    "version": 3
   },
   "file_extension": ".py",
   "mimetype": "text/x-python",
   "name": "python",
   "nbconvert_exporter": "python",
   "pygments_lexer": "ipython3",
   "version": "3.11.4"
  }
 },
 "nbformat": 4,
 "nbformat_minor": 5
}
