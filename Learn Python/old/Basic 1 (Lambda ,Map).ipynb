{
 "cells": [
  {
   "cell_type": "markdown",
   "id": "3aca2a5b-b4b1-4849-8ea2-069c3eaa3f7d",
   "metadata": {},
   "source": [
    "## map function"
   ]
  },
  {
   "cell_type": "code",
   "execution_count": 44,
   "id": "569886a2-19ac-4803-8238-81cd8d8e7bda",
   "metadata": {},
   "outputs": [],
   "source": [
    "def ev(n):\n",
    "    data = n%2==0\n",
    "    return data  "
   ]
  },
  {
   "cell_type": "code",
   "execution_count": 34,
   "id": "a1a41849-11d2-47c3-b43d-95aacb64f53b",
   "metadata": {},
   "outputs": [],
   "source": [
    "listd = [10,15,100,2,3,1,4,5,6]"
   ]
  },
  {
   "cell_type": "code",
   "execution_count": 41,
   "id": "4fcadf48-c02e-4315-8610-a01f6397b55d",
   "metadata": {},
   "outputs": [
    {
     "data": {
      "text/plain": [
       "[True, False, True, True, False, False, True, False, True]"
      ]
     },
     "execution_count": 41,
     "metadata": {},
     "output_type": "execute_result"
    }
   ],
   "source": [
    "list(map(ev,listd)) # darek values ne function ma one by one  pass karavtu jase "
   ]
  },
  {
   "cell_type": "code",
   "execution_count": 43,
   "id": "81b03ce9-a715-4294-bb7a-70dea4cb1e11",
   "metadata": {},
   "outputs": [
    {
     "data": {
      "text/plain": [
       "[10, 100, 2, 4, 6]"
      ]
     },
     "execution_count": 43,
     "metadata": {},
     "output_type": "execute_result"
    }
   ],
   "source": [
    "list(filter(ev,listd)) # Je true return karse ej list ma add thase "
   ]
  },
  {
   "cell_type": "markdown",
   "id": "3d2e78f0-17bb-42d0-96e0-5a80b93eba01",
   "metadata": {},
   "source": [
    "## Lambda fucntion"
   ]
  },
  {
   "cell_type": "code",
   "execution_count": 102,
   "id": "b80ea795-4c94-4b11-89f4-f6d70c6b7e26",
   "metadata": {},
   "outputs": [],
   "source": [
    "l = [1,2,3,4,5,6,7,8,9] # anonimus function banava mate use thay jema  unlimited variable pass kari sakiye"
   ]
  },
  {
   "cell_type": "code",
   "execution_count": 105,
   "id": "0d2b6845-99a2-4b73-9495-6d9424f0498c",
   "metadata": {},
   "outputs": [],
   "source": [
    "d = lambda x : [i for i in x if i>= 5 if i%2==0] # list compihance "
   ]
  },
  {
   "cell_type": "code",
   "execution_count": 106,
   "id": "d061a53e-084e-4e44-a909-9bd7914abc27",
   "metadata": {},
   "outputs": [
    {
     "data": {
      "text/plain": [
       "[6, 8]"
      ]
     },
     "execution_count": 106,
     "metadata": {},
     "output_type": "execute_result"
    }
   ],
   "source": [
    "d(l)"
   ]
  },
  {
   "cell_type": "markdown",
   "id": "77280c30-ebf2-45e2-8acf-eac81f51b9d0",
   "metadata": {},
   "source": [
    "## Dictionary  Methods "
   ]
  },
  {
   "cell_type": "code",
   "execution_count": 137,
   "id": "74df0135-4d37-43b7-81ec-34cf9d8c85d6",
   "metadata": {},
   "outputs": [],
   "source": [
    "data = {\n",
    "    \"name\":\"Jay\",\n",
    "    \"age\":21\n",
    "}"
   ]
  },
  {
   "cell_type": "code",
   "execution_count": 138,
   "id": "4e957ff7-15d5-4d53-8a83-771cb8ace51e",
   "metadata": {},
   "outputs": [
    {
     "data": {
      "text/plain": [
       "dict_values(['Jay', 21])"
      ]
     },
     "execution_count": 138,
     "metadata": {},
     "output_type": "execute_result"
    }
   ],
   "source": [
    "data.values()"
   ]
  },
  {
   "cell_type": "code",
   "execution_count": 139,
   "id": "76543ee9-65bc-4e98-bb63-1cc2ce7d5bd6",
   "metadata": {},
   "outputs": [
    {
     "data": {
      "text/plain": [
       "dict_items([('name', 'Jay'), ('age', 21)])"
      ]
     },
     "execution_count": 139,
     "metadata": {},
     "output_type": "execute_result"
    }
   ],
   "source": [
    "data.items()"
   ]
  },
  {
   "cell_type": "code",
   "execution_count": 140,
   "id": "0dd4b143-6917-4e73-9af4-fec096479295",
   "metadata": {},
   "outputs": [
    {
     "data": {
      "text/plain": [
       "dict_keys(['name', 'age'])"
      ]
     },
     "execution_count": 140,
     "metadata": {},
     "output_type": "execute_result"
    }
   ],
   "source": [
    "data.keys()"
   ]
  },
  {
   "cell_type": "code",
   "execution_count": 141,
   "id": "549df9ce-31ac-448c-8968-58afd3d3331d",
   "metadata": {},
   "outputs": [
    {
     "data": {
      "text/plain": [
       "'Jay'"
      ]
     },
     "execution_count": 141,
     "metadata": {},
     "output_type": "execute_result"
    }
   ],
   "source": [
    "data.pop(\"name\")"
   ]
  },
  {
   "cell_type": "code",
   "execution_count": 142,
   "id": "3672dbb7-b16a-4a15-bc77-c1f53752a239",
   "metadata": {},
   "outputs": [],
   "source": [
    "data.update({\"age\":25})\n",
    "data[\"Full Name\"]= \"Jay Patel\""
   ]
  },
  {
   "cell_type": "code",
   "execution_count": 143,
   "id": "2c7b263b-f2c0-41d4-8b65-311203616e9d",
   "metadata": {},
   "outputs": [
    {
     "data": {
      "text/plain": [
       "{'age': 25, 'Full Name': 'Jay Patel'}"
      ]
     },
     "execution_count": 143,
     "metadata": {},
     "output_type": "execute_result"
    }
   ],
   "source": [
    "data"
   ]
  },
  {
   "cell_type": "code",
   "execution_count": null,
   "id": "ab16005e-12db-4db2-a755-573e9d3f057a",
   "metadata": {},
   "outputs": [],
   "source": []
  },
  {
   "cell_type": "markdown",
   "id": "83074225-1673-41d1-ae1d-98459275019e",
   "metadata": {},
   "source": [
    "## List"
   ]
  },
  {
   "cell_type": "code",
   "execution_count": 1,
   "id": "77937ee8-c6c6-4994-bb90-ed6ca3498ea4",
   "metadata": {},
   "outputs": [],
   "source": [
    "list = [1,2,3]"
   ]
  },
  {
   "cell_type": "code",
   "execution_count": 4,
   "id": "628859fa-feee-43fd-b214-67f9254d7d2c",
   "metadata": {},
   "outputs": [
    {
     "data": {
      "text/plain": [
       "2"
      ]
     },
     "execution_count": 4,
     "metadata": {},
     "output_type": "execute_result"
    }
   ],
   "source": [
    "list.index(3)"
   ]
  },
  {
   "cell_type": "code",
   "execution_count": null,
   "id": "70fe8b61-d721-4a56-a54b-be7ff89fad3c",
   "metadata": {},
   "outputs": [],
   "source": []
  }
 ],
 "metadata": {
  "kernelspec": {
   "display_name": "Python 3 (ipykernel)",
   "language": "python",
   "name": "python3"
  },
  "language_info": {
   "codemirror_mode": {
    "name": "ipython",
    "version": 3
   },
   "file_extension": ".py",
   "mimetype": "text/x-python",
   "name": "python",
   "nbconvert_exporter": "python",
   "pygments_lexer": "ipython3",
   "version": "3.10.5"
  }
 },
 "nbformat": 4,
 "nbformat_minor": 5
}
