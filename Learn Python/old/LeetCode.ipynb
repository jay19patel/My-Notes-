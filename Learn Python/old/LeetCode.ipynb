{
 "cells": [
  {
   "cell_type": "markdown",
   "id": "6c037d05-71d2-40ce-bea3-47171b2335bd",
   "metadata": {},
   "source": [
    "### 1"
   ]
  },
  {
   "cell_type": "code",
   "execution_count": null,
   "id": "bfa90fe7-54b7-4cb0-ac0e-bd4069b0f949",
   "metadata": {},
   "outputs": [],
   "source": [
    "mylist = [2,7,11,15]\n",
    "target = 9\n",
    "# Output: [0,1]"
   ]
  },
  {
   "cell_type": "code",
   "execution_count": 28,
   "id": "85646c13-1133-4879-a0b5-e08eec865416",
   "metadata": {},
   "outputs": [
    {
     "name": "stdout",
     "output_type": "stream",
     "text": [
      "[0, 1]\n"
     ]
    }
   ],
   "source": [
    "# n = len(mylist)\n",
    "# for i in range(n):\n",
    "#     for j in range(1,n):\n",
    "#         if mylist[i]+mylist[j] == 9:\n",
    "#             print(([i,j]))\n",
    "#             break"
   ]
  },
  {
   "cell_type": "markdown",
   "id": "5d4c7265-f512-4d2e-a36d-4f2f66cdb162",
   "metadata": {},
   "source": [
    "### 2"
   ]
  },
  {
   "cell_type": "code",
   "execution_count": 70,
   "id": "5d2a4a25-af8f-42d7-a4fe-22a827eb81fc",
   "metadata": {},
   "outputs": [],
   "source": [
    "# x = -121\n",
    "# x = str(x)\n",
    "# if x == x[::-1]:\n",
    "#     print(\"True\")"
   ]
  },
  {
   "cell_type": "markdown",
   "id": "ba98cf4d-19b1-4bc9-bc1b-9b523f449fab",
   "metadata": {},
   "source": [
    "### 3"
   ]
  },
  {
   "cell_type": "raw",
   "id": "6c146284-d762-4fba-9f23-c10d586c7158",
   "metadata": {},
   "source": [
    "Symbol       Value\n",
    "I             1\n",
    "V             5\n",
    "X             10\n",
    "L             50\n",
    "C             100\n",
    "D             500\n",
    "M             1000\n",
    "\n",
    "Input: s = \"III\"\n",
    "Output: 3\n",
    "Explanation: III = 3.\n"
   ]
  },
  {
   "cell_type": "code",
   "execution_count": 81,
   "id": "2830f0d1-d448-48c6-99a4-e32ee67b48a2",
   "metadata": {},
   "outputs": [
    {
     "data": {
      "text/plain": [
       "{'I': 1, 'V': 5, 'X': 10, 'L': 50, 'C': 100, 'D': 500, 'M': 1000}"
      ]
     },
     "execution_count": 81,
     "metadata": {},
     "output_type": "execute_result"
    }
   ],
   "source": [
    "\n",
    "data = {\n",
    "    \"I\":1,\n",
    "    \"V\":5,\n",
    "    \"X\":10,\n",
    "    \"L\":50,\n",
    "    \"C\":100,\n",
    "    \"D\":500,\n",
    "    \"M\":1000\n",
    "       }\n",
    "data"
   ]
  },
  {
   "cell_type": "code",
   "execution_count": 85,
   "id": "d5731a3a-71b8-426d-9940-7f1eabfae6da",
   "metadata": {},
   "outputs": [],
   "source": [
    "input = \"MCMXCIV\"\n",
    "sumdata = []\n",
    "jodi = [\"IV\",\"IX\",\"XL\",\"XC\",\"CD\",\"CM\"]\n",
    "for n,i in enumerate(input):\n",
    "            sumdata.append(data.get(i))\n"
   ]
  },
  {
   "cell_type": "code",
   "execution_count": 84,
   "id": "0989d233-1bd1-47e8-bb95-097ec05599ca",
   "metadata": {},
   "outputs": [
    {
     "data": {
      "text/plain": [
       "1994"
      ]
     },
     "execution_count": 84,
     "metadata": {},
     "output_type": "execute_result"
    }
   ],
   "source": [
    "ans = 0\n",
    "s = \"MCMXCIV\"  \n",
    "for i in range(len(s)):\n",
    "        if i < len(s) - 1 and data[s[i]] < data[s[i+1]]:\n",
    "            ans -= data[s[i]]\n",
    "        else:\n",
    "            ans += data[s[i]]\n",
    "    \n",
    "ans"
   ]
  },
  {
   "cell_type": "markdown",
   "id": "209f392a-d757-4891-a9f1-46dc59567997",
   "metadata": {},
   "source": [
    "## 4\n"
   ]
  },
  {
   "cell_type": "code",
   "execution_count": 102,
   "id": "59bf12b2-2a0e-488b-98a5-bfd3a8fa8600",
   "metadata": {},
   "outputs": [],
   "source": [
    "list1 = [1,2,4] \n",
    "list2 = [1,3,4]\n",
    "Output: [1,1,2,3,4,4]"
   ]
  },
  {
   "cell_type": "code",
   "execution_count": 105,
   "id": "28e24c1e-0159-4dc3-9a81-d66f336d58f9",
   "metadata": {},
   "outputs": [
    {
     "data": {
      "text/plain": [
       "[1, 1, 2, 3, 4, 4]"
      ]
     },
     "execution_count": 105,
     "metadata": {},
     "output_type": "execute_result"
    }
   ],
   "source": [
    "sorted(list1+list2)"
   ]
  },
  {
   "cell_type": "code",
   "execution_count": null,
   "id": "4a0862a7-1c81-492f-a87d-1314b68aabda",
   "metadata": {},
   "outputs": [],
   "source": []
  },
  {
   "cell_type": "code",
   "execution_count": null,
   "id": "2df9683a-556e-44ec-a28d-3fb677edf83c",
   "metadata": {},
   "outputs": [],
   "source": [
    "# Input: prices = [7,1,5,3,6,4]\n",
    "# Output: 5\n",
    "# Explanation: Buy on day 2 (price = 1) and sell on day 5 (price = 6), profit = 6-1 = 5.\n",
    "# Note that buying on day 2 and selling on day 1 is not allowed because you must buy before you sell."
   ]
  },
  {
   "cell_type": "code",
   "execution_count": null,
   "id": "59889f05-5adb-4fc7-8e49-a888645faf19",
   "metadata": {},
   "outputs": [],
   "source": []
  },
  {
   "cell_type": "code",
   "execution_count": 8,
   "id": "8fe6ca75-2ee2-425d-ad6e-23a552fc6771",
   "metadata": {},
   "outputs": [
    {
     "data": {
      "text/plain": [
       "19"
      ]
     },
     "execution_count": 8,
     "metadata": {},
     "output_type": "execute_result"
    }
   ],
   "source": [
    "price = [25,6,15,25,10]\n",
    "profit  = 0 #5 14 24 9\n",
    "buy = price[0]\n",
    "\n",
    "for i in price[1:]:\n",
    "    if i>buy:\n",
    "        profit = max(profit,i-buy)\n",
    "    else:\n",
    "        buy = i\n",
    "        \n",
    "profit"
   ]
  },
  {
   "cell_type": "code",
   "execution_count": 9,
   "id": "cd7bf58b-a642-4169-92c0-ce6fe3fa9fbc",
   "metadata": {},
   "outputs": [],
   "source": [
    "# Input: n = 1\n",
    "# Output: true\n",
    "# Explanation: 20 = 1\n",
    "\n",
    "# n == 2**x."
   ]
  },
  {
   "cell_type": "code",
   "execution_count": 24,
   "id": "8fb3e0a6-e4c4-4281-80c8-770b9948ed5f",
   "metadata": {},
   "outputs": [
    {
     "name": "stdout",
     "output_type": "stream",
     "text": [
      "Doe\n"
     ]
    }
   ],
   "source": [
    "n = 4\n",
    "\n",
    "if ((n&n-1) == 0):\n",
    "    print(\"Doe\")"
   ]
  },
  {
   "cell_type": "code",
   "execution_count": null,
   "id": "bdae5348-4aa7-4126-a145-9b06ca5a74ca",
   "metadata": {},
   "outputs": [],
   "source": []
  },
  {
   "cell_type": "code",
   "execution_count": null,
   "id": "b47b20d5-dce5-4483-8db2-8bc9077e41a2",
   "metadata": {},
   "outputs": [],
   "source": []
  },
  {
   "cell_type": "code",
   "execution_count": null,
   "id": "a92c8ad5-01e8-412a-ae54-031ddbee1a39",
   "metadata": {},
   "outputs": [],
   "source": [
    "# Input: n = 6\n",
    "# Output: true\n",
    "# Explanation: 6 = 2 × 3"
   ]
  },
  {
   "cell_type": "code",
   "execution_count": 67,
   "id": "75a6e974-1521-47bd-82c7-c133d5196bd6",
   "metadata": {},
   "outputs": [],
   "source": [
    "n = 6\n",
    "\n",
    "if n%2 != 0:\n",
    "    print(True)\n"
   ]
  },
  {
   "cell_type": "code",
   "execution_count": null,
   "id": "58a5a147-15bd-4b5b-a2cd-fa477ea40450",
   "metadata": {},
   "outputs": [],
   "source": []
  },
  {
   "cell_type": "code",
   "execution_count": 53,
   "id": "73b5f214-6309-4d8f-a662-f070978dad84",
   "metadata": {},
   "outputs": [
    {
     "data": {
      "text/plain": [
       "3.0"
      ]
     },
     "execution_count": 53,
     "metadata": {},
     "output_type": "execute_result"
    }
   ],
   "source": [
    "6/2"
   ]
  },
  {
   "cell_type": "code",
   "execution_count": null,
   "id": "7a026e8f-dad8-49c0-9dab-533924c53a74",
   "metadata": {},
   "outputs": [],
   "source": []
  },
  {
   "cell_type": "code",
   "execution_count": null,
   "id": "652f34eb-bb69-4ec5-a682-54894e5c2e34",
   "metadata": {},
   "outputs": [],
   "source": []
  },
  {
   "cell_type": "code",
   "execution_count": 68,
   "id": "0c24c27d-69c9-421b-8c0d-dcf32e899ea4",
   "metadata": {},
   "outputs": [],
   "source": [
    "\n",
    "# Input: nums1 = [1,2,3,0,0,0], m = 3, nums2 = [2,5,6], n = 3\n",
    "# Output: [1,2,2,3,5,6]\n",
    "# Explanation: The arrays we are merging are [1,2,3] and [2,5,6].\n",
    "# The result of the merge is [1,2,2,3,5,6] with the underlined elements coming from nums1."
   ]
  },
  {
   "cell_type": "code",
   "execution_count": 112,
   "id": "081fd785-eefa-4ab8-9063-f940a719d945",
   "metadata": {},
   "outputs": [],
   "source": [
    "nums1 = [1,2,3,0,0,0]\n",
    "m = 3\n",
    "nums2 = [2,5,6]\n",
    "n = 3"
   ]
  },
  {
   "cell_type": "code",
   "execution_count": 114,
   "id": "25496b4b-7dcc-47f0-a1d1-9d1efdfff382",
   "metadata": {},
   "outputs": [
    {
     "data": {
      "text/plain": [
       "[1, 2, 2, 3, 5, 6]"
      ]
     },
     "execution_count": 114,
     "metadata": {},
     "output_type": "execute_result"
    }
   ],
   "source": [
    "for i in range(n):\n",
    "    nums1[m+i] = nums2[i]\n",
    "sorted(nums1 )       "
   ]
  },
  {
   "cell_type": "code",
   "execution_count": null,
   "id": "e277ab3f-1519-4992-b05f-5b0b6919876d",
   "metadata": {},
   "outputs": [],
   "source": []
  },
  {
   "cell_type": "code",
   "execution_count": 134,
   "id": "51a64029-cdf1-4935-8a74-bf6ff4bd1e05",
   "metadata": {},
   "outputs": [],
   "source": [
    "# Input: nums = [1,2,3,4,5,6,7], k = 3\n",
    "# Output: [5,6,7,1,2,3,4]\n",
    "# Explanation:\n",
    "# rotate 1 steps to the right: [7,1,2,3,4,5,6]\n",
    "# rotate 2 steps to the right: [6,7,1,2,3,4,5]\n",
    "# rotate 3 steps to the right: [5,6,7,1,2,3,4]\n",
    "\n"
   ]
  },
  {
   "cell_type": "code",
   "execution_count": 135,
   "id": "11e44402-7f31-4c71-8523-4d25621c9347",
   "metadata": {},
   "outputs": [],
   "source": [
    "nums = [1,2,3,4,5,6,7]\n",
    "k = 3"
   ]
  },
  {
   "cell_type": "code",
   "execution_count": 136,
   "id": "7870a7f5-2857-4aad-aa08-2fc46dc50edb",
   "metadata": {},
   "outputs": [
    {
     "name": "stdout",
     "output_type": "stream",
     "text": [
      "6\n",
      "4\n",
      "2\n"
     ]
    }
   ],
   "source": [
    "for i in range(1,k+1):\n",
    "    print(len(nums)-i)\n",
    "    nums.pop(len(nums)-i)"
   ]
  },
  {
   "cell_type": "code",
   "execution_count": 137,
   "id": "b4a800db-d42d-4769-929e-420b4bd53b12",
   "metadata": {},
   "outputs": [
    {
     "data": {
      "text/plain": [
       "[1, 2, 4, 6]"
      ]
     },
     "execution_count": 137,
     "metadata": {},
     "output_type": "execute_result"
    }
   ],
   "source": [
    "nums"
   ]
  },
  {
   "cell_type": "code",
   "execution_count": null,
   "id": "2b0c234d-8284-4308-b9bd-1c4d73f3d10a",
   "metadata": {},
   "outputs": [],
   "source": []
  },
  {
   "cell_type": "code",
   "execution_count": 1,
   "id": "86df3c20-5f93-41a3-8429-dcae5d6d117d",
   "metadata": {},
   "outputs": [],
   "source": [
    "# Input: strs = [\"flower\",\"flow\",\"flight\"]\n",
    "# Output: \"fl\""
   ]
  },
  {
   "cell_type": "code",
   "execution_count": 10,
   "id": "c792a5c6-fb7d-4475-b9b6-f1190270c48a",
   "metadata": {},
   "outputs": [],
   "source": [
    "strs = [\"flower\",\"flow\",\"flight\"]"
   ]
  },
  {
   "cell_type": "code",
   "execution_count": 15,
   "id": "36a5a480-2ae2-4e01-ac6d-353c19365d83",
   "metadata": {},
   "outputs": [],
   "source": [
    "base  = strs[0]"
   ]
  },
  {
   "cell_type": "code",
   "execution_count": 34,
   "id": "ee2a8ad0-6bc6-4be4-92ec-9382afae5538",
   "metadata": {},
   "outputs": [],
   "source": [
    "# for i in range(len(base)):\n",
    "#     # print(i) # [0,1,2,3,4,5]\n",
    "#     for j in strs[1:]:\n",
    "#         # print(j)\n",
    "#         if i == len(word) or word[i] != base[i]:\n",
    "#             print(base[0:i])"
   ]
  },
  {
   "cell_type": "code",
   "execution_count": null,
   "id": "b5af4fc1-e046-4e42-98d5-d127559a1a87",
   "metadata": {},
   "outputs": [],
   "source": []
  },
  {
   "cell_type": "code",
   "execution_count": 35,
   "id": "66cd0002-e965-4ec9-94ff-3a1cc4acd5e4",
   "metadata": {},
   "outputs": [],
   "source": [
    "# Input: s = \"luffy is still joyboy\"\n",
    "# Output: 6\n",
    "# Explanation: The last word is \"joyboy\" with length 6."
   ]
  },
  {
   "cell_type": "code",
   "execution_count": 54,
   "id": "940e4a58-dc04-43d3-ac93-9028b34be4b4",
   "metadata": {},
   "outputs": [],
   "source": [
    "s = \"luffy is still joyboy\""
   ]
  },
  {
   "cell_type": "code",
   "execution_count": 55,
   "id": "ed8e5c49-1d30-407f-8b5b-244f8c261493",
   "metadata": {},
   "outputs": [],
   "source": [
    "data = s.split()"
   ]
  },
  {
   "cell_type": "code",
   "execution_count": 56,
   "id": "ec693a9a-9a01-4c46-8cb9-31fa0b0f3850",
   "metadata": {},
   "outputs": [
    {
     "data": {
      "text/plain": [
       "6"
      ]
     },
     "execution_count": 56,
     "metadata": {},
     "output_type": "execute_result"
    }
   ],
   "source": [
    "last =data.pop()\n",
    "int(len(last))"
   ]
  },
  {
   "cell_type": "code",
   "execution_count": null,
   "id": "cceb3990-31c3-43cc-9e77-5e28ebc69130",
   "metadata": {},
   "outputs": [],
   "source": []
  },
  {
   "cell_type": "code",
   "execution_count": 57,
   "id": "93274fe6-9489-40df-bf5f-a5b710a0af18",
   "metadata": {},
   "outputs": [],
   "source": [
    "# Input: pattern = \"abba\", s = \"dog cat cat fish\"\n",
    "# Output: false\n",
    "\n",
    "# Input: pattern = \"abba\", s = \"dog cat cat dog\"\n",
    "# Output: true"
   ]
  },
  {
   "cell_type": "code",
   "execution_count": 136,
   "id": "a36342f4-b34d-411c-aa49-60cdf9cc6aad",
   "metadata": {},
   "outputs": [],
   "source": [
    "pattern = \"abba\"\n",
    "s = \"dog cat cat dog\""
   ]
  },
  {
   "cell_type": "code",
   "execution_count": 137,
   "id": "5fd67b0e-823a-4043-9cf7-bf4c059757e9",
   "metadata": {},
   "outputs": [
    {
     "name": "stdout",
     "output_type": "stream",
     "text": [
      "True\n",
      "True\n"
     ]
    }
   ],
   "source": [
    "data = s.split()\n",
    "n = len(data)\n",
    "dics = {}\n",
    "for i in range(len(data)//2):\n",
    "    if  data [i] == data[(n-i)-1]:\n",
    "        print(True)\n",
    "    else:\n",
    "        print(False)\n"
   ]
  },
  {
   "cell_type": "code",
   "execution_count": 157,
   "id": "e4c16ec4-6d1d-42f3-9046-eb52b58b87e8",
   "metadata": {},
   "outputs": [],
   "source": [
    "data = s.split()"
   ]
  },
  {
   "cell_type": "code",
   "execution_count": 158,
   "id": "ddd94e96-2a66-4675-89a9-5b3b77dd56f4",
   "metadata": {},
   "outputs": [
    {
     "name": "stdout",
     "output_type": "stream",
     "text": [
      "True\n"
     ]
    }
   ],
   "source": [
    "if len(data) != len(pattern):\n",
    "    print(False)\n",
    "for i in range(len(data)):\n",
    "    if pattern.find(pattern[i]) != data.index(data[i]):\n",
    "        print(False)\n",
    "print(True)"
   ]
  },
  {
   "cell_type": "code",
   "execution_count": null,
   "id": "a2b65fdd-7d46-495d-bfbc-1e98ced305d0",
   "metadata": {},
   "outputs": [],
   "source": []
  },
  {
   "cell_type": "code",
   "execution_count": null,
   "id": "01ee924c-8c4b-4bc3-8bfa-4e33776bddfb",
   "metadata": {},
   "outputs": [],
   "source": []
  },
  {
   "cell_type": "code",
   "execution_count": null,
   "id": "f04dac6f-aac8-458a-a8a3-a1dddc41818c",
   "metadata": {},
   "outputs": [],
   "source": [
    "# Input: root = [5,4,8,11,null,13,4,7,2,null,null,null,1], targetSum = 22\n",
    "# Output: true\n",
    "# Explanation: The root-to-leaf path with the target sum is shown."
   ]
  },
  {
   "cell_type": "code",
   "execution_count": 237,
   "id": "581d5c73-f35f-4b4b-84b0-93ef62148cdd",
   "metadata": {},
   "outputs": [
    {
     "name": "stdout",
     "output_type": "stream",
     "text": [
      "4\n"
     ]
    }
   ],
   "source": [
    "data = \"\"\n",
    "columnNumber = 5\n",
    "while columnNumber > 0:\n",
    "    columnNumber -= 1\n",
    "    print(columnNumber)\n",
    "    data = chr(columnNumber % 26 + 65) + title\n",
    "    columnNumber //= 26"
   ]
  },
  {
   "cell_type": "code",
   "execution_count": 238,
   "id": "d5ac31c2-41ec-4a33-9132-463e95de2659",
   "metadata": {},
   "outputs": [
    {
     "data": {
      "text/plain": [
       "'EEY'"
      ]
     },
     "execution_count": 238,
     "metadata": {},
     "output_type": "execute_result"
    }
   ],
   "source": [
    "data"
   ]
  },
  {
   "cell_type": "code",
   "execution_count": 239,
   "id": "944f4ffa-8bdd-4a23-9285-aa0f205e9245",
   "metadata": {},
   "outputs": [],
   "source": [
    "# chr(25%26 +65)"
   ]
  },
  {
   "cell_type": "code",
   "execution_count": 231,
   "id": "85fe3d0c-7cdc-44cc-a662-384e227270d9",
   "metadata": {},
   "outputs": [],
   "source": [
    "n+=1"
   ]
  },
  {
   "cell_type": "code",
   "execution_count": 4,
   "id": "750b672e-8114-4f16-8346-e0ab4bc32357",
   "metadata": {},
   "outputs": [],
   "source": [
    "# Input: head = [1,2,6,3,4,5,6], val = 6\n",
    "# Output: [1,2,3,4,5]\n",
    "\n",
    "head = []\n",
    "val = 6"
   ]
  },
  {
   "cell_type": "code",
   "execution_count": 7,
   "id": "188f2129-df36-49f5-9f86-9df4dddcb9b4",
   "metadata": {},
   "outputs": [],
   "source": [
    "while True:\n",
    "    if val in head:\n",
    "        head.remove(val)\n",
    "    else:\n",
    "        break\n",
    "# not work in leetcode "
   ]
  },
  {
   "cell_type": "code",
   "execution_count": 8,
   "id": "4782706d-736e-4c82-8a3c-c2f173fdaa79",
   "metadata": {},
   "outputs": [
    {
     "data": {
      "text/plain": [
       "[]"
      ]
     },
     "execution_count": 8,
     "metadata": {},
     "output_type": "execute_result"
    }
   ],
   "source": [
    "head"
   ]
  },
  {
   "cell_type": "code",
   "execution_count": 12,
   "id": "d1986708-86d7-4821-bf49-25876856e58d",
   "metadata": {},
   "outputs": [],
   "source": [
    "# Input: head = [1,2,2,1]\n",
    "# Output: true\n",
    "head = [1,2,2,2]"
   ]
  },
  {
   "cell_type": "code",
   "execution_count": 13,
   "id": "97403c19-825c-46ea-8205-21ebb06ffbd5",
   "metadata": {},
   "outputs": [
    {
     "name": "stdout",
     "output_type": "stream",
     "text": [
      "False\n"
     ]
    }
   ],
   "source": [
    "if head == head[::-1]:\n",
    "    print(True)\n",
    "else:\n",
    "    print(False)"
   ]
  },
  {
   "cell_type": "code",
   "execution_count": null,
   "id": "b798d781-3c69-484c-962c-dc7181a75470",
   "metadata": {},
   "outputs": [],
   "source": []
  },
  {
   "cell_type": "code",
   "execution_count": null,
   "id": "dfe81770-8547-481d-8708-9207a70c7f51",
   "metadata": {},
   "outputs": [],
   "source": []
  },
  {
   "cell_type": "code",
   "execution_count": 14,
   "id": "9581abfd-2662-4361-afc5-ae3b4661297a",
   "metadata": {},
   "outputs": [],
   "source": [
    "# Input: s = \"5F3Z-2e-9-w\", k = 4\n",
    "# Output: \"5F3Z-2E9W\"\n",
    "# Explanation: The string s has been split into two parts, each part has 4 characters.\n",
    "# Note that the two extra dashes are not needed and can be removed."
   ]
  },
  {
   "cell_type": "code",
   "execution_count": 15,
   "id": "32d1fcd5-36a7-43dc-9fe0-f4c5b5f01a73",
   "metadata": {},
   "outputs": [],
   "source": [
    "s = \"5F3Z-2e-9-w\"\n",
    "k = 4"
   ]
  },
  {
   "cell_type": "code",
   "execution_count": 24,
   "id": "14c887b8-2a4e-46ac-a026-53502486c667",
   "metadata": {},
   "outputs": [],
   "source": [
    "s = s.replace(\"-\", \"\").upper()"
   ]
  },
  {
   "cell_type": "code",
   "execution_count": 39,
   "id": "904cfacc-ba56-4dd3-a78d-3b29853ba42c",
   "metadata": {},
   "outputs": [],
   "source": [
    "first_group_len = len(s) % k"
   ]
  },
  {
   "cell_type": "code",
   "execution_count": 40,
   "id": "4e5cd929-ffb8-462e-9644-a07415b07bcc",
   "metadata": {},
   "outputs": [
    {
     "data": {
      "text/plain": [
       "3"
      ]
     },
     "execution_count": 40,
     "metadata": {},
     "output_type": "execute_result"
    }
   ],
   "source": [
    "first_group_len"
   ]
  },
  {
   "cell_type": "code",
   "execution_count": 41,
   "id": "a628cb59-71f9-4fd6-9975-c78f325c3679",
   "metadata": {},
   "outputs": [
    {
     "data": {
      "text/plain": [
       "'5F3'"
      ]
     },
     "execution_count": 41,
     "metadata": {},
     "output_type": "execute_result"
    }
   ],
   "source": [
    "s[:first_group_len]"
   ]
  },
  {
   "cell_type": "code",
   "execution_count": 42,
   "id": "3168fa04-f894-432a-8d0f-24ae5463a3f1",
   "metadata": {},
   "outputs": [],
   "source": [
    "# Input: word = \"USA\"\n",
    "# Output: true\n",
    "word = \"USA\""
   ]
  },
  {
   "cell_type": "code",
   "execution_count": 45,
   "id": "66af17e6-849f-493c-ba5f-267f7c7d1476",
   "metadata": {},
   "outputs": [
    {
     "data": {
      "text/plain": [
       "False"
      ]
     },
     "execution_count": 45,
     "metadata": {},
     "output_type": "execute_result"
    }
   ],
   "source": [
    "word.istitle()"
   ]
  },
  {
   "cell_type": "code",
   "execution_count": null,
   "id": "d2b66625-f58a-415e-bd1d-120403b5bc0e",
   "metadata": {},
   "outputs": [],
   "source": []
  },
  {
   "cell_type": "code",
   "execution_count": null,
   "id": "bf9f0a96-e5db-44cb-90c1-fb43444fc31c",
   "metadata": {},
   "outputs": [],
   "source": [
    "# Input: s = \"()[]{}\"\n",
    "# Output: true"
   ]
  },
  {
   "cell_type": "code",
   "execution_count": 13,
   "id": "827e21e9-7820-4cf0-b834-db8a41290ae2",
   "metadata": {},
   "outputs": [
    {
     "data": {
      "text/plain": [
       "True"
      ]
     },
     "execution_count": 13,
     "metadata": {},
     "output_type": "execute_result"
    }
   ],
   "source": [
    "def leet():\n",
    "    s = \"({}[])\" \n",
    "    p = {\n",
    "    \"(\":\")\",\n",
    "    \"{\":\"}\",\n",
    "    \"[\":\"]\"\n",
    "    }\n",
    "    data = []\n",
    "    for i in s:\n",
    "        if i in p:\n",
    "            data.append(i)\n",
    "        elif i == \")\" and (not data or data.pop() != \"(\" ):\n",
    "            return False\n",
    "        elif i == \"}\" and (not data or data.pop() != \"{\" ):\n",
    "            return False  \n",
    "        elif i == \"]\" and (not data or data.pop() != \"[\" ):\n",
    "            return False \n",
    "        else :\n",
    "            return True\n",
    "\n",
    "\n",
    "leet() "
   ]
  },
  {
   "cell_type": "code",
   "execution_count": null,
   "id": "4cff9b9f-badf-4607-9425-0cc7d7f48b37",
   "metadata": {},
   "outputs": [],
   "source": [
    "# Input: haystack = \"sadbutsad\", needle = \"sad\"\n",
    "# Output: 0\n",
    "# Explanation: \"sad\" occurs at index 0 and 6.\n",
    "# The first occurrence is at index 0, so we return 0."
   ]
  },
  {
   "cell_type": "code",
   "execution_count": 20,
   "id": "33b365c5-f944-41b3-b6c2-9643f22ca721",
   "metadata": {},
   "outputs": [],
   "source": [
    "haystack = \"hello\"\n",
    "needle = \"ll\""
   ]
  },
  {
   "cell_type": "code",
   "execution_count": 26,
   "id": "3472f81b-f2fd-49c0-8746-842eec35136c",
   "metadata": {},
   "outputs": [
    {
     "name": "stdout",
     "output_type": "stream",
     "text": [
      "2\n"
     ]
    }
   ],
   "source": [
    "import re\n",
    "if needle in haystack:\n",
    "    data = re.search(needle,haystack)\n",
    "    print(data.span()[0])\n",
    "   \n",
    "else :\n",
    "    print(-1)"
   ]
  },
  {
   "cell_type": "code",
   "execution_count": null,
   "id": "39b6b5ce-7ca8-4bb4-b16a-fee53c5ca84d",
   "metadata": {},
   "outputs": [],
   "source": [
    "# Input: dividend = 10, divisor = 3\n",
    "# Output: 3\n",
    "# Explanation: 10/3 = 3.33333.. which is truncated to 3."
   ]
  },
  {
   "cell_type": "code",
   "execution_count": 37,
   "id": "803f9516-523f-4ac5-8500-0d83e3e8a5d9",
   "metadata": {},
   "outputs": [],
   "source": [
    "dividend = 2147483648\n",
    "divisor = -1"
   ]
  },
  {
   "cell_type": "code",
   "execution_count": 40,
   "id": "b6cfb791-90be-4087-a0ea-f74392669a7a",
   "metadata": {},
   "outputs": [
    {
     "data": {
      "text/plain": [
       "-2147483648.0"
      ]
     },
     "execution_count": 40,
     "metadata": {},
     "output_type": "execute_result"
    }
   ],
   "source": [
    "data = dividend/divisor\n",
    "data\n",
    "# int(data)"
   ]
  },
  {
   "cell_type": "code",
   "execution_count": null,
   "id": "45212c09-d73b-4322-ba06-aeba3622eac1",
   "metadata": {},
   "outputs": [],
   "source": []
  },
  {
   "cell_type": "code",
   "execution_count": 41,
   "id": "e30c4663-7e4a-4b22-b85b-99e545d7b6a9",
   "metadata": {},
   "outputs": [],
   "source": [
    "# Input: nums = [1,3,5,6], target = 5\n",
    "# Output: 2"
   ]
  },
  {
   "cell_type": "code",
   "execution_count": 71,
   "id": "e5b20ce5-bf92-4de2-a0cc-55ade67291fe",
   "metadata": {},
   "outputs": [],
   "source": [
    "nums = [1,3,5,6]\n",
    "target = 7"
   ]
  },
  {
   "cell_type": "code",
   "execution_count": 72,
   "id": "3ae608bb-5bd3-43bc-a541-469b2250181a",
   "metadata": {},
   "outputs": [
    {
     "name": "stdout",
     "output_type": "stream",
     "text": [
      "[1, 3, 5, 6]\n",
      "4\n"
     ]
    }
   ],
   "source": [
    "if target in nums:\n",
    "    print(nums.index(target))\n",
    "else:\n",
    "    print(nums)\n",
    "    nums.append(target)\n",
    "    nums.sort()\n",
    "    print(nums.index(target))\n",
    "    \n",
    "    \n",
    "    \n",
    "    "
   ]
  },
  {
   "cell_type": "code",
   "execution_count": null,
   "id": "fda95801-4589-456a-ad58-503bd7113422",
   "metadata": {},
   "outputs": [],
   "source": [
    "# Input: digits = [4,3,2,1]\n",
    "# Output: [4,3,2,2]\n",
    "# Explanation: The array represents the integer 4321.\n",
    "# Incrementing by one gives 4321 + 1 = 4322.\n",
    "# Thus, the result should be [4,3,2,2]."
   ]
  },
  {
   "cell_type": "code",
   "execution_count": 1,
   "id": "1c4ba1e1-07e1-4c41-86ec-7b453fabb6f5",
   "metadata": {},
   "outputs": [],
   "source": [
    "digits = [4,3,2,1]"
   ]
  },
  {
   "cell_type": "code",
   "execution_count": 27,
   "id": "8688c73c-3edf-4837-b7f4-75534f27e36b",
   "metadata": {},
   "outputs": [
    {
     "data": {
      "text/plain": [
       "[4, 3, 2, 2]"
      ]
     },
     "execution_count": 27,
     "metadata": {},
     "output_type": "execute_result"
    }
   ],
   "source": [
    "a = \"\"\n",
    "for i in digits:\n",
    "    a+=str(i)\n",
    "sum1 = int(a)+1\n",
    "data = [int(i) for i in str(sum1)]\n",
    "data"
   ]
  },
  {
   "cell_type": "code",
   "execution_count": 38,
   "id": "494a8659-9938-4b64-a570-5f49e7ac7d97",
   "metadata": {},
   "outputs": [],
   "source": [
    "# Input: p = [1,2,3], q = [1,2,3]\n",
    "# Output: true\n",
    "p = [1,2,3]\n",
    "q = [1,2,3]"
   ]
  },
  {
   "cell_type": "code",
   "execution_count": 39,
   "id": "5ffc5e27-717c-491e-9f7d-32ffbbc361bb",
   "metadata": {},
   "outputs": [
    {
     "data": {
      "text/plain": [
       "True"
      ]
     },
     "execution_count": 39,
     "metadata": {},
     "output_type": "execute_result"
    }
   ],
   "source": [
    "p==q"
   ]
  },
  {
   "cell_type": "code",
   "execution_count": null,
   "id": "7546aa54-324e-429c-b21b-a9d7bd3a71d3",
   "metadata": {},
   "outputs": [],
   "source": []
  },
  {
   "cell_type": "code",
   "execution_count": 51,
   "id": "71ad541e-059c-4ca0-94c0-56b29b50e958",
   "metadata": {},
   "outputs": [
    {
     "data": {
      "text/plain": [
       "3"
      ]
     },
     "execution_count": 51,
     "metadata": {},
     "output_type": "execute_result"
    }
   ],
   "source": [
    "# Input: root = [3,9,20,null,null,15,7]\n",
    "# Output: 3\n",
    "root = [3,9,20,\"null\",\"null\",15,7]\n",
    "data=[]\n",
    "for i in root:\n",
    "    if i == \"null\":\n",
    "        data.append(i)\n",
    "len(root)-len(data)*len(data)"
   ]
  },
  {
   "cell_type": "code",
   "execution_count": 52,
   "id": "05aafad5-cb8e-46f2-a96a-d65ffc2e9bba",
   "metadata": {},
   "outputs": [],
   "source": [
    "# Input: x = 4\n",
    "# Output: 2\n",
    "# Explanation: The square root of 4 is 2, so we return 2."
   ]
  },
  {
   "cell_type": "code",
   "execution_count": 60,
   "id": "2d65a036-939e-4bda-b020-62d5c0e43277",
   "metadata": {},
   "outputs": [
    {
     "data": {
      "text/plain": [
       "2"
      ]
     },
     "execution_count": 60,
     "metadata": {},
     "output_type": "execute_result"
    }
   ],
   "source": [
    "import math\n",
    "data = math.sqrt(8)\n",
    "int(data) "
   ]
  },
  {
   "cell_type": "code",
   "execution_count": 61,
   "id": "394587c7-7866-46cc-9e30-d8fc8e2a5b88",
   "metadata": {},
   "outputs": [],
   "source": [
    "# Input: n = 14\n",
    "# Output: false\n",
    "# Explanation: 14 is not ugly since it includes the prime factor 7."
   ]
  },
  {
   "cell_type": "code",
   "execution_count": 177,
   "id": "7ff95610-5778-484b-961b-6122182ced0e",
   "metadata": {},
   "outputs": [],
   "source": [
    "n = 14"
   ]
  },
  {
   "cell_type": "code",
   "execution_count": 178,
   "id": "63a8a82a-673e-4df5-9bd8-9e47f01520fa",
   "metadata": {},
   "outputs": [],
   "source": [
    "m = [2,3,5]"
   ]
  },
  {
   "cell_type": "code",
   "execution_count": null,
   "id": "4719f761-8f5d-43e0-ab1f-393089fca958",
   "metadata": {},
   "outputs": [],
   "source": [
    "data = []\n",
    "for i in m:\n",
    "    d = n%i\n",
    "    data.append(d)\n",
    "print(data)   \n",
    "if max(data) >= 3:\n",
    "    if d%2 ==0:\n",
    "        print(True)\n",
    "    else:\n",
    "        print(True)\n",
    "else:\n",
    "    print(True)\n",
    "    "
   ]
  },
  {
   "cell_type": "code",
   "execution_count": 181,
   "id": "cf2f3f9e-e2c3-4a71-8b48-94e220d2f217",
   "metadata": {},
   "outputs": [
    {
     "name": "stdout",
     "output_type": "stream",
     "text": [
      "False\n"
     ]
    }
   ],
   "source": [
    "while(n%2==0 and n!=0):\n",
    "    n=n//2\n",
    "while(n%3==0 and n!=0):\n",
    "    n=n//3\n",
    "while(n%5==0 and n!=0):\n",
    "    n=n//5\n",
    "print(n==1)"
   ]
  },
  {
   "cell_type": "code",
   "execution_count": null,
   "id": "3be4d987-db55-44a5-ad33-48e9e94f04a1",
   "metadata": {},
   "outputs": [],
   "source": [
    "# Input: strs = [\"flower\",\"flow\",\"flight\"]\n",
    "# Output: \"fl\""
   ]
  },
  {
   "cell_type": "code",
   "execution_count": 10,
   "id": "cb6ac680-cdd6-4fbc-a56f-62dd1c0d445b",
   "metadata": {},
   "outputs": [
    {
     "name": "stdout",
     "output_type": "stream",
     "text": [
      "fl\n",
      "flo\n",
      "flow\n"
     ]
    }
   ],
   "source": [
    "strs = [\"flower\",\"flow\",\"flight\"]\n",
    "if not strs:\n",
    "    print(\"\")\n",
    "\n",
    "min_length = min(len(s) for s in strs)\n",
    "for i in range(min_length):\n",
    "    current_char = strs[0][i]\n",
    "    for s in strs[1:]:\n",
    "        if s[i] != current_char:\n",
    "            print(strs[0][:i])\n",
    "            break\n",
    "print(strs[0][:min_length])\n"
   ]
  },
  {
   "cell_type": "code",
   "execution_count": null,
   "id": "7579a363-2dad-4489-b73b-4a9eace79954",
   "metadata": {},
   "outputs": [],
   "source": []
  }
 ],
 "metadata": {
  "kernelspec": {
   "display_name": "Python 3 (ipykernel)",
   "language": "python",
   "name": "python3"
  },
  "language_info": {
   "codemirror_mode": {
    "name": "ipython",
    "version": 3
   },
   "file_extension": ".py",
   "mimetype": "text/x-python",
   "name": "python",
   "nbconvert_exporter": "python",
   "pygments_lexer": "ipython3",
   "version": "3.11.4"
  }
 },
 "nbformat": 4,
 "nbformat_minor": 5
}
