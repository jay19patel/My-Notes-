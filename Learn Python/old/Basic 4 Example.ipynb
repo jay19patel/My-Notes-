{
 "cells": [
  {
   "cell_type": "code",
   "execution_count": 545,
   "id": "7e1138ce-5a10-4e5f-b68f-fd35c383b10f",
   "metadata": {},
   "outputs": [],
   "source": [
    "import pandas as pd\n",
    "import numpy as np"
   ]
  },
  {
   "cell_type": "code",
   "execution_count": 546,
   "id": "c3a3c395-65fb-4cc6-8264-335a19c6d5aa",
   "metadata": {},
   "outputs": [],
   "source": [
    "df=pd.read_csv(\"http://bit.ly/imdbratings\")"
   ]
  },
  {
   "cell_type": "code",
   "execution_count": 547,
   "id": "fa6b0437-a0bb-47b9-9331-95f3f39575c2",
   "metadata": {},
   "outputs": [
    {
     "data": {
      "text/html": [
       "<div>\n",
       "<style scoped>\n",
       "    .dataframe tbody tr th:only-of-type {\n",
       "        vertical-align: middle;\n",
       "    }\n",
       "\n",
       "    .dataframe tbody tr th {\n",
       "        vertical-align: top;\n",
       "    }\n",
       "\n",
       "    .dataframe thead th {\n",
       "        text-align: right;\n",
       "    }\n",
       "</style>\n",
       "<table border=\"1\" class=\"dataframe\">\n",
       "  <thead>\n",
       "    <tr style=\"text-align: right;\">\n",
       "      <th></th>\n",
       "      <th>star_rating</th>\n",
       "      <th>title</th>\n",
       "      <th>content_rating</th>\n",
       "      <th>genre</th>\n",
       "      <th>duration</th>\n",
       "      <th>actors_list</th>\n",
       "    </tr>\n",
       "  </thead>\n",
       "  <tbody>\n",
       "    <tr>\n",
       "      <th>0</th>\n",
       "      <td>9.3</td>\n",
       "      <td>The Shawshank Redemption</td>\n",
       "      <td>R</td>\n",
       "      <td>Crime</td>\n",
       "      <td>142</td>\n",
       "      <td>[u'Tim Robbins', u'Morgan Freeman', u'Bob Gunt...</td>\n",
       "    </tr>\n",
       "    <tr>\n",
       "      <th>1</th>\n",
       "      <td>9.2</td>\n",
       "      <td>The Godfather</td>\n",
       "      <td>R</td>\n",
       "      <td>Crime</td>\n",
       "      <td>175</td>\n",
       "      <td>[u'Marlon Brando', u'Al Pacino', u'James Caan']</td>\n",
       "    </tr>\n",
       "    <tr>\n",
       "      <th>2</th>\n",
       "      <td>9.1</td>\n",
       "      <td>The Godfather: Part II</td>\n",
       "      <td>R</td>\n",
       "      <td>Crime</td>\n",
       "      <td>200</td>\n",
       "      <td>[u'Al Pacino', u'Robert De Niro', u'Robert Duv...</td>\n",
       "    </tr>\n",
       "    <tr>\n",
       "      <th>3</th>\n",
       "      <td>9.0</td>\n",
       "      <td>The Dark Knight</td>\n",
       "      <td>PG-13</td>\n",
       "      <td>Action</td>\n",
       "      <td>152</td>\n",
       "      <td>[u'Christian Bale', u'Heath Ledger', u'Aaron E...</td>\n",
       "    </tr>\n",
       "    <tr>\n",
       "      <th>4</th>\n",
       "      <td>8.9</td>\n",
       "      <td>Pulp Fiction</td>\n",
       "      <td>R</td>\n",
       "      <td>Crime</td>\n",
       "      <td>154</td>\n",
       "      <td>[u'John Travolta', u'Uma Thurman', u'Samuel L....</td>\n",
       "    </tr>\n",
       "    <tr>\n",
       "      <th>...</th>\n",
       "      <td>...</td>\n",
       "      <td>...</td>\n",
       "      <td>...</td>\n",
       "      <td>...</td>\n",
       "      <td>...</td>\n",
       "      <td>...</td>\n",
       "    </tr>\n",
       "    <tr>\n",
       "      <th>974</th>\n",
       "      <td>7.4</td>\n",
       "      <td>Tootsie</td>\n",
       "      <td>PG</td>\n",
       "      <td>Comedy</td>\n",
       "      <td>116</td>\n",
       "      <td>[u'Dustin Hoffman', u'Jessica Lange', u'Teri G...</td>\n",
       "    </tr>\n",
       "    <tr>\n",
       "      <th>975</th>\n",
       "      <td>7.4</td>\n",
       "      <td>Back to the Future Part III</td>\n",
       "      <td>PG</td>\n",
       "      <td>Adventure</td>\n",
       "      <td>118</td>\n",
       "      <td>[u'Michael J. Fox', u'Christopher Lloyd', u'Ma...</td>\n",
       "    </tr>\n",
       "    <tr>\n",
       "      <th>976</th>\n",
       "      <td>7.4</td>\n",
       "      <td>Master and Commander: The Far Side of the World</td>\n",
       "      <td>PG-13</td>\n",
       "      <td>Action</td>\n",
       "      <td>138</td>\n",
       "      <td>[u'Russell Crowe', u'Paul Bettany', u'Billy Bo...</td>\n",
       "    </tr>\n",
       "    <tr>\n",
       "      <th>977</th>\n",
       "      <td>7.4</td>\n",
       "      <td>Poltergeist</td>\n",
       "      <td>PG</td>\n",
       "      <td>Horror</td>\n",
       "      <td>114</td>\n",
       "      <td>[u'JoBeth Williams', u\"Heather O'Rourke\", u'Cr...</td>\n",
       "    </tr>\n",
       "    <tr>\n",
       "      <th>978</th>\n",
       "      <td>7.4</td>\n",
       "      <td>Wall Street</td>\n",
       "      <td>R</td>\n",
       "      <td>Crime</td>\n",
       "      <td>126</td>\n",
       "      <td>[u'Charlie Sheen', u'Michael Douglas', u'Tamar...</td>\n",
       "    </tr>\n",
       "  </tbody>\n",
       "</table>\n",
       "<p>979 rows × 6 columns</p>\n",
       "</div>"
      ],
      "text/plain": [
       "     star_rating                                            title  \\\n",
       "0            9.3                         The Shawshank Redemption   \n",
       "1            9.2                                    The Godfather   \n",
       "2            9.1                           The Godfather: Part II   \n",
       "3            9.0                                  The Dark Knight   \n",
       "4            8.9                                     Pulp Fiction   \n",
       "..           ...                                              ...   \n",
       "974          7.4                                          Tootsie   \n",
       "975          7.4                      Back to the Future Part III   \n",
       "976          7.4  Master and Commander: The Far Side of the World   \n",
       "977          7.4                                      Poltergeist   \n",
       "978          7.4                                      Wall Street   \n",
       "\n",
       "    content_rating      genre  duration  \\\n",
       "0                R      Crime       142   \n",
       "1                R      Crime       175   \n",
       "2                R      Crime       200   \n",
       "3            PG-13     Action       152   \n",
       "4                R      Crime       154   \n",
       "..             ...        ...       ...   \n",
       "974             PG     Comedy       116   \n",
       "975             PG  Adventure       118   \n",
       "976          PG-13     Action       138   \n",
       "977             PG     Horror       114   \n",
       "978              R      Crime       126   \n",
       "\n",
       "                                           actors_list  \n",
       "0    [u'Tim Robbins', u'Morgan Freeman', u'Bob Gunt...  \n",
       "1      [u'Marlon Brando', u'Al Pacino', u'James Caan']  \n",
       "2    [u'Al Pacino', u'Robert De Niro', u'Robert Duv...  \n",
       "3    [u'Christian Bale', u'Heath Ledger', u'Aaron E...  \n",
       "4    [u'John Travolta', u'Uma Thurman', u'Samuel L....  \n",
       "..                                                 ...  \n",
       "974  [u'Dustin Hoffman', u'Jessica Lange', u'Teri G...  \n",
       "975  [u'Michael J. Fox', u'Christopher Lloyd', u'Ma...  \n",
       "976  [u'Russell Crowe', u'Paul Bettany', u'Billy Bo...  \n",
       "977  [u'JoBeth Williams', u\"Heather O'Rourke\", u'Cr...  \n",
       "978  [u'Charlie Sheen', u'Michael Douglas', u'Tamar...  \n",
       "\n",
       "[979 rows x 6 columns]"
      ]
     },
     "execution_count": 547,
     "metadata": {},
     "output_type": "execute_result"
    }
   ],
   "source": [
    "df"
   ]
  },
  {
   "cell_type": "code",
   "execution_count": 566,
   "id": "ecc7b16f-a038-49ce-82fc-90713c4ebd27",
   "metadata": {},
   "outputs": [
    {
     "data": {
      "text/plain": [
       "Index(['star_rating', 'title', 'content_rating', 'genre', 'duration',\n",
       "       'actors_list'],\n",
       "      dtype='object')"
      ]
     },
     "execution_count": 566,
     "metadata": {},
     "output_type": "execute_result"
    }
   ],
   "source": [
    "df.columns # Get all Columsn Name "
   ]
  },
  {
   "cell_type": "code",
   "execution_count": 585,
   "id": "fc9d6807-a1b6-4d3e-88c5-856a04a0ee5b",
   "metadata": {},
   "outputs": [],
   "source": [
    "mdf = df[[\"title\",\"genre\",\"actors_list\",\"star_rating\"]].head(10)"
   ]
  },
  {
   "cell_type": "code",
   "execution_count": 586,
   "id": "3f204187-c74f-44d7-a5a1-c44b02785bfe",
   "metadata": {},
   "outputs": [],
   "source": [
    "actos= df.actors_list\n",
    "\n",
    "def myfun(actors):\n",
    "    myactors= []\n",
    "    s = actors.split(\",\")\n",
    "    for i in s:\n",
    "        ii = i.split(\"u'\")\n",
    "        myi = ii[1].split(\"'\")\n",
    "        myactors.append(myi[0])\n",
    "\n",
    "    return myactors\n",
    "    \n"
   ]
  },
  {
   "cell_type": "code",
   "execution_count": 587,
   "id": "4d71152b-c673-4095-86ca-4aec791e5675",
   "metadata": {},
   "outputs": [],
   "source": [
    "mdf[\"actors_list\"]=mdf[\"actors_list\"].apply(myfun)"
   ]
  },
  {
   "cell_type": "code",
   "execution_count": 588,
   "id": "230e2f98-0903-4268-91ec-855862d2e586",
   "metadata": {},
   "outputs": [
    {
     "data": {
      "text/html": [
       "<div>\n",
       "<style scoped>\n",
       "    .dataframe tbody tr th:only-of-type {\n",
       "        vertical-align: middle;\n",
       "    }\n",
       "\n",
       "    .dataframe tbody tr th {\n",
       "        vertical-align: top;\n",
       "    }\n",
       "\n",
       "    .dataframe thead th {\n",
       "        text-align: right;\n",
       "    }\n",
       "</style>\n",
       "<table border=\"1\" class=\"dataframe\">\n",
       "  <thead>\n",
       "    <tr style=\"text-align: right;\">\n",
       "      <th></th>\n",
       "      <th>title</th>\n",
       "      <th>genre</th>\n",
       "      <th>actors_list</th>\n",
       "      <th>star_rating</th>\n",
       "    </tr>\n",
       "  </thead>\n",
       "  <tbody>\n",
       "    <tr>\n",
       "      <th>0</th>\n",
       "      <td>The Shawshank Redemption</td>\n",
       "      <td>Crime</td>\n",
       "      <td>[Tim Robbins, Morgan Freeman, Bob Gunton]</td>\n",
       "      <td>9.3</td>\n",
       "    </tr>\n",
       "    <tr>\n",
       "      <th>1</th>\n",
       "      <td>The Godfather</td>\n",
       "      <td>Crime</td>\n",
       "      <td>[Marlon Brando, Al Pacino, James Caan]</td>\n",
       "      <td>9.2</td>\n",
       "    </tr>\n",
       "    <tr>\n",
       "      <th>2</th>\n",
       "      <td>The Godfather: Part II</td>\n",
       "      <td>Crime</td>\n",
       "      <td>[Al Pacino, Robert De Niro, Robert Duvall]</td>\n",
       "      <td>9.1</td>\n",
       "    </tr>\n",
       "    <tr>\n",
       "      <th>3</th>\n",
       "      <td>The Dark Knight</td>\n",
       "      <td>Action</td>\n",
       "      <td>[Christian Bale, Heath Ledger, Aaron Eckhart]</td>\n",
       "      <td>9.0</td>\n",
       "    </tr>\n",
       "    <tr>\n",
       "      <th>4</th>\n",
       "      <td>Pulp Fiction</td>\n",
       "      <td>Crime</td>\n",
       "      <td>[John Travolta, Uma Thurman, Samuel L. Jackson]</td>\n",
       "      <td>8.9</td>\n",
       "    </tr>\n",
       "    <tr>\n",
       "      <th>5</th>\n",
       "      <td>12 Angry Men</td>\n",
       "      <td>Drama</td>\n",
       "      <td>[Henry Fonda, Lee J. Cobb, Martin Balsam]</td>\n",
       "      <td>8.9</td>\n",
       "    </tr>\n",
       "    <tr>\n",
       "      <th>6</th>\n",
       "      <td>The Good, the Bad and the Ugly</td>\n",
       "      <td>Western</td>\n",
       "      <td>[Clint Eastwood, Eli Wallach, Lee Van Cleef]</td>\n",
       "      <td>8.9</td>\n",
       "    </tr>\n",
       "    <tr>\n",
       "      <th>7</th>\n",
       "      <td>The Lord of the Rings: The Return of the King</td>\n",
       "      <td>Adventure</td>\n",
       "      <td>[Elijah Wood, Viggo Mortensen, Ian McKellen]</td>\n",
       "      <td>8.9</td>\n",
       "    </tr>\n",
       "    <tr>\n",
       "      <th>8</th>\n",
       "      <td>Schindler's List</td>\n",
       "      <td>Biography</td>\n",
       "      <td>[Liam Neeson, Ralph Fiennes, Ben Kingsley]</td>\n",
       "      <td>8.9</td>\n",
       "    </tr>\n",
       "    <tr>\n",
       "      <th>9</th>\n",
       "      <td>Fight Club</td>\n",
       "      <td>Drama</td>\n",
       "      <td>[Brad Pitt, Edward Norton, Helena Bonham Carter]</td>\n",
       "      <td>8.9</td>\n",
       "    </tr>\n",
       "  </tbody>\n",
       "</table>\n",
       "</div>"
      ],
      "text/plain": [
       "                                           title      genre  \\\n",
       "0                       The Shawshank Redemption      Crime   \n",
       "1                                  The Godfather      Crime   \n",
       "2                         The Godfather: Part II      Crime   \n",
       "3                                The Dark Knight     Action   \n",
       "4                                   Pulp Fiction      Crime   \n",
       "5                                   12 Angry Men      Drama   \n",
       "6                 The Good, the Bad and the Ugly    Western   \n",
       "7  The Lord of the Rings: The Return of the King  Adventure   \n",
       "8                               Schindler's List  Biography   \n",
       "9                                     Fight Club      Drama   \n",
       "\n",
       "                                        actors_list  star_rating  \n",
       "0         [Tim Robbins, Morgan Freeman, Bob Gunton]          9.3  \n",
       "1            [Marlon Brando, Al Pacino, James Caan]          9.2  \n",
       "2        [Al Pacino, Robert De Niro, Robert Duvall]          9.1  \n",
       "3     [Christian Bale, Heath Ledger, Aaron Eckhart]          9.0  \n",
       "4   [John Travolta, Uma Thurman, Samuel L. Jackson]          8.9  \n",
       "5         [Henry Fonda, Lee J. Cobb, Martin Balsam]          8.9  \n",
       "6      [Clint Eastwood, Eli Wallach, Lee Van Cleef]          8.9  \n",
       "7      [Elijah Wood, Viggo Mortensen, Ian McKellen]          8.9  \n",
       "8        [Liam Neeson, Ralph Fiennes, Ben Kingsley]          8.9  \n",
       "9  [Brad Pitt, Edward Norton, Helena Bonham Carter]          8.9  "
      ]
     },
     "execution_count": 588,
     "metadata": {},
     "output_type": "execute_result"
    }
   ],
   "source": [
    "mdf"
   ]
  },
  {
   "cell_type": "code",
   "execution_count": 607,
   "id": "b4636609-5749-4177-a1ae-895b7f8cc4e8",
   "metadata": {},
   "outputs": [],
   "source": [
    "serach  = \"Adventure\""
   ]
  },
  {
   "cell_type": "code",
   "execution_count": 608,
   "id": "80e323a1-6956-4429-9f12-4f6ba46c4083",
   "metadata": {},
   "outputs": [
    {
     "data": {
      "text/html": [
       "<div>\n",
       "<style scoped>\n",
       "    .dataframe tbody tr th:only-of-type {\n",
       "        vertical-align: middle;\n",
       "    }\n",
       "\n",
       "    .dataframe tbody tr th {\n",
       "        vertical-align: top;\n",
       "    }\n",
       "\n",
       "    .dataframe thead th {\n",
       "        text-align: right;\n",
       "    }\n",
       "</style>\n",
       "<table border=\"1\" class=\"dataframe\">\n",
       "  <thead>\n",
       "    <tr style=\"text-align: right;\">\n",
       "      <th></th>\n",
       "      <th>title</th>\n",
       "      <th>genre</th>\n",
       "      <th>actors_list</th>\n",
       "      <th>star_rating</th>\n",
       "    </tr>\n",
       "  </thead>\n",
       "  <tbody>\n",
       "    <tr>\n",
       "      <th>0</th>\n",
       "      <td>The Shawshank Redemption</td>\n",
       "      <td>Crime</td>\n",
       "      <td>[Tim Robbins, Morgan Freeman, Bob Gunton]</td>\n",
       "      <td>9.3</td>\n",
       "    </tr>\n",
       "    <tr>\n",
       "      <th>1</th>\n",
       "      <td>The Godfather</td>\n",
       "      <td>Crime</td>\n",
       "      <td>[Marlon Brando, Al Pacino, James Caan]</td>\n",
       "      <td>9.2</td>\n",
       "    </tr>\n",
       "    <tr>\n",
       "      <th>2</th>\n",
       "      <td>The Godfather: Part II</td>\n",
       "      <td>Crime</td>\n",
       "      <td>[Al Pacino, Robert De Niro, Robert Duvall]</td>\n",
       "      <td>9.1</td>\n",
       "    </tr>\n",
       "    <tr>\n",
       "      <th>3</th>\n",
       "      <td>The Dark Knight</td>\n",
       "      <td>Action</td>\n",
       "      <td>[Christian Bale, Heath Ledger, Aaron Eckhart]</td>\n",
       "      <td>9.0</td>\n",
       "    </tr>\n",
       "    <tr>\n",
       "      <th>4</th>\n",
       "      <td>Pulp Fiction</td>\n",
       "      <td>Crime</td>\n",
       "      <td>[John Travolta, Uma Thurman, Samuel L. Jackson]</td>\n",
       "      <td>8.9</td>\n",
       "    </tr>\n",
       "    <tr>\n",
       "      <th>5</th>\n",
       "      <td>12 Angry Men</td>\n",
       "      <td>Drama</td>\n",
       "      <td>[Henry Fonda, Lee J. Cobb, Martin Balsam]</td>\n",
       "      <td>8.9</td>\n",
       "    </tr>\n",
       "    <tr>\n",
       "      <th>6</th>\n",
       "      <td>The Good, the Bad and the Ugly</td>\n",
       "      <td>Western</td>\n",
       "      <td>[Clint Eastwood, Eli Wallach, Lee Van Cleef]</td>\n",
       "      <td>8.9</td>\n",
       "    </tr>\n",
       "    <tr>\n",
       "      <th>7</th>\n",
       "      <td>The Lord of the Rings: The Return of the King</td>\n",
       "      <td>Adventure</td>\n",
       "      <td>[Elijah Wood, Viggo Mortensen, Ian McKellen]</td>\n",
       "      <td>8.9</td>\n",
       "    </tr>\n",
       "    <tr>\n",
       "      <th>8</th>\n",
       "      <td>Schindler's List</td>\n",
       "      <td>Biography</td>\n",
       "      <td>[Liam Neeson, Ralph Fiennes, Ben Kingsley]</td>\n",
       "      <td>8.9</td>\n",
       "    </tr>\n",
       "    <tr>\n",
       "      <th>9</th>\n",
       "      <td>Fight Club</td>\n",
       "      <td>Drama</td>\n",
       "      <td>[Brad Pitt, Edward Norton, Helena Bonham Carter]</td>\n",
       "      <td>8.9</td>\n",
       "    </tr>\n",
       "  </tbody>\n",
       "</table>\n",
       "</div>"
      ],
      "text/plain": [
       "                                           title      genre  \\\n",
       "0                       The Shawshank Redemption      Crime   \n",
       "1                                  The Godfather      Crime   \n",
       "2                         The Godfather: Part II      Crime   \n",
       "3                                The Dark Knight     Action   \n",
       "4                                   Pulp Fiction      Crime   \n",
       "5                                   12 Angry Men      Drama   \n",
       "6                 The Good, the Bad and the Ugly    Western   \n",
       "7  The Lord of the Rings: The Return of the King  Adventure   \n",
       "8                               Schindler's List  Biography   \n",
       "9                                     Fight Club      Drama   \n",
       "\n",
       "                                        actors_list  star_rating  \n",
       "0         [Tim Robbins, Morgan Freeman, Bob Gunton]          9.3  \n",
       "1            [Marlon Brando, Al Pacino, James Caan]          9.2  \n",
       "2        [Al Pacino, Robert De Niro, Robert Duvall]          9.1  \n",
       "3     [Christian Bale, Heath Ledger, Aaron Eckhart]          9.0  \n",
       "4   [John Travolta, Uma Thurman, Samuel L. Jackson]          8.9  \n",
       "5         [Henry Fonda, Lee J. Cobb, Martin Balsam]          8.9  \n",
       "6      [Clint Eastwood, Eli Wallach, Lee Van Cleef]          8.9  \n",
       "7      [Elijah Wood, Viggo Mortensen, Ian McKellen]          8.9  \n",
       "8        [Liam Neeson, Ralph Fiennes, Ben Kingsley]          8.9  \n",
       "9  [Brad Pitt, Edward Norton, Helena Bonham Carter]          8.9  "
      ]
     },
     "execution_count": 608,
     "metadata": {},
     "output_type": "execute_result"
    }
   ],
   "source": [
    "mdf.sort_values(by = \"star_rating\",ascending=False)"
   ]
  },
  {
   "cell_type": "code",
   "execution_count": 609,
   "id": "fed6a222-9427-451f-a3ef-2264a6a671eb",
   "metadata": {},
   "outputs": [],
   "source": [
    "mydata = mdf[mdf.genre == serach].head(1).to_dict()"
   ]
  },
  {
   "cell_type": "code",
   "execution_count": 620,
   "id": "343463df-1858-47a9-aa8e-767cae916870",
   "metadata": {},
   "outputs": [
    {
     "data": {
      "text/plain": [
       "{'title': {7: 'The Lord of the Rings: The Return of the King'},\n",
       " 'genre': {7: 'Adventure'},\n",
       " 'actors_list': {7: ['Elijah Wood', 'Viggo Mortensen', 'Ian McKellen']},\n",
       " 'star_rating': {7: 8.9}}"
      ]
     },
     "execution_count": 620,
     "metadata": {},
     "output_type": "execute_result"
    }
   ],
   "source": [
    "mydata"
   ]
  },
  {
   "cell_type": "code",
   "execution_count": 621,
   "id": "82a8a4c4-1ba4-480f-a6f9-f9f57ea07851",
   "metadata": {},
   "outputs": [
    {
     "data": {
      "text/plain": [
       "{7: 'The Lord of the Rings: The Return of the King'}"
      ]
     },
     "execution_count": 621,
     "metadata": {},
     "output_type": "execute_result"
    }
   ],
   "source": [
    "movie_name = mydata[\"title\"]\n",
    "movie_name"
   ]
  },
  {
   "cell_type": "code",
   "execution_count": 622,
   "id": "fa668161-2aca-4638-a3cd-a460096b03bc",
   "metadata": {},
   "outputs": [
    {
     "data": {
      "text/plain": [
       "{7: ['Elijah Wood', 'Viggo Mortensen', 'Ian McKellen']}"
      ]
     },
     "execution_count": 622,
     "metadata": {},
     "output_type": "execute_result"
    }
   ],
   "source": [
    "actors_list = mydata[\"actors_list\"]\n",
    "actors_list"
   ]
  },
  {
   "cell_type": "code",
   "execution_count": 623,
   "id": "a1a250dd-a3a7-4b04-a218-4928e913dff9",
   "metadata": {},
   "outputs": [
    {
     "data": {
      "text/plain": [
       "{7: 8.9}"
      ]
     },
     "execution_count": 623,
     "metadata": {},
     "output_type": "execute_result"
    }
   ],
   "source": [
    "star_rating = mydata[\"star_rating\"]\n",
    "star_rating"
   ]
  },
  {
   "cell_type": "code",
   "execution_count": 625,
   "id": "7d1311e7-7136-41a6-ad23-b1e2d20bff49",
   "metadata": {},
   "outputs": [
    {
     "data": {
      "text/plain": [
       "[['The Shawshank Redemption',\n",
       "  'Crime',\n",
       "  ['Tim Robbins', 'Morgan Freeman', 'Bob Gunton'],\n",
       "  9.3],\n",
       " ['The Godfather', 'Crime', ['Marlon Brando', 'Al Pacino', 'James Caan'], 9.2],\n",
       " ['The Godfather: Part II',\n",
       "  'Crime',\n",
       "  ['Al Pacino', 'Robert De Niro', 'Robert Duvall'],\n",
       "  9.1],\n",
       " ['The Dark Knight',\n",
       "  'Action',\n",
       "  ['Christian Bale', 'Heath Ledger', 'Aaron Eckhart'],\n",
       "  9.0],\n",
       " ['Pulp Fiction',\n",
       "  'Crime',\n",
       "  ['John Travolta', 'Uma Thurman', 'Samuel L. Jackson'],\n",
       "  8.9],\n",
       " ['12 Angry Men',\n",
       "  'Drama',\n",
       "  ['Henry Fonda', 'Lee J. Cobb', 'Martin Balsam'],\n",
       "  8.9],\n",
       " ['The Good, the Bad and the Ugly',\n",
       "  'Western',\n",
       "  ['Clint Eastwood', 'Eli Wallach', 'Lee Van Cleef'],\n",
       "  8.9],\n",
       " ['The Lord of the Rings: The Return of the King',\n",
       "  'Adventure',\n",
       "  ['Elijah Wood', 'Viggo Mortensen', 'Ian McKellen'],\n",
       "  8.9],\n",
       " [\"Schindler's List\",\n",
       "  'Biography',\n",
       "  ['Liam Neeson', 'Ralph Fiennes', 'Ben Kingsley'],\n",
       "  8.9],\n",
       " ['Fight Club',\n",
       "  'Drama',\n",
       "  ['Brad Pitt', 'Edward Norton', 'Helena Bonham Carter'],\n",
       "  8.9]]"
      ]
     },
     "execution_count": 625,
     "metadata": {},
     "output_type": "execute_result"
    }
   ],
   "source": [
    "\n",
    "mdf.values.tolist()"
   ]
  },
  {
   "cell_type": "code",
   "execution_count": null,
   "id": "450750d3-1fd2-41d9-a598-109cdfca906b",
   "metadata": {},
   "outputs": [],
   "source": []
  },
  {
   "cell_type": "code",
   "execution_count": null,
   "id": "7ccf2814-6cf4-465d-b293-dd8d77b9744e",
   "metadata": {},
   "outputs": [],
   "source": []
  },
  {
   "cell_type": "code",
   "execution_count": null,
   "id": "d426dfa7-8253-4c97-828b-7e20871e759c",
   "metadata": {},
   "outputs": [],
   "source": []
  },
  {
   "cell_type": "code",
   "execution_count": null,
   "id": "d256b78b-0d98-45bd-a7d3-502e37f6677f",
   "metadata": {},
   "outputs": [],
   "source": []
  }
 ],
 "metadata": {
  "kernelspec": {
   "display_name": "Python 3 (ipykernel)",
   "language": "python",
   "name": "python3"
  },
  "language_info": {
   "codemirror_mode": {
    "name": "ipython",
    "version": 3
   },
   "file_extension": ".py",
   "mimetype": "text/x-python",
   "name": "python",
   "nbconvert_exporter": "python",
   "pygments_lexer": "ipython3",
   "version": "3.10.5"
  }
 },
 "nbformat": 4,
 "nbformat_minor": 5
}
