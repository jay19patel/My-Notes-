{
 "cells": [
  {
   "cell_type": "markdown",
   "id": "53ea10e5-9ce9-40e0-8797-b8978400f3b2",
   "metadata": {},
   "source": [
    "## Python Basics "
   ]
  },
  {
   "cell_type": "markdown",
   "id": "a028032f-5199-45e5-a969-98853ecf0782",
   "metadata": {},
   "source": [
    "Python Therory\n",
    "- memory management\n",
    "- why python is interpreter\n",
    "- python dynamic type\n",
    "- python data type "
   ]
  },
  {
   "cell_type": "raw",
   "id": "50ff026a-1dbd-4535-8608-8aadd860ef17",
   "metadata": {},
   "source": [
    "Loops \n",
    "- while\n",
    "- for"
   ]
  },
  {
   "cell_type": "raw",
   "id": "066c8e11-1a0f-483c-8892-2192c9db8e4f",
   "metadata": {},
   "source": [
    "Conditions\n",
    "- if else "
   ]
  },
  {
   "cell_type": "raw",
   "id": "94ac28ce-a1a1-4c10-9116-0691276b4b8e",
   "metadata": {},
   "source": [
    "List Comperhantion\n",
    "Dictionary Comperhantion\n",
    "Lambda Function "
   ]
  },
  {
   "cell_type": "raw",
   "id": "9209bd40-7e65-4085-b007-db8333e6eb9e",
   "metadata": {},
   "source": [
    "Operators "
   ]
  },
  {
   "cell_type": "raw",
   "id": "48579621-7a1c-40aa-bac2-14c6e20b7714",
   "metadata": {},
   "source": [
    "map filter "
   ]
  },
  {
   "cell_type": "raw",
   "id": "bf40ce4b-aae7-4871-ac75-97fb8b42659b",
   "metadata": {},
   "source": [
    "continew final break pass"
   ]
  },
  {
   "cell_type": "raw",
   "id": "4594895e-1c4d-4c4e-a8de-422f357ac246",
   "metadata": {},
   "source": [
    "functions class\n",
    "- args and keyrges\n",
    "- inharitance\n",
    "- inti self ,super \n",
    "- dunder mathods\n",
    "- Class methods "
   ]
  },
  {
   "cell_type": "markdown",
   "id": "4d95917a-2bbe-4aa9-b011-7171f8a81f0e",
   "metadata": {},
   "source": [
    "## Databases"
   ]
  },
  {
   "cell_type": "markdown",
   "id": "777f19a8-1401-4dc4-9e38-caf1adf40157",
   "metadata": {},
   "source": [
    "### My SQL "
   ]
  },
  {
   "cell_type": "raw",
   "id": "e4432ecc-7d07-470a-a2c6-6ac259e62f47",
   "metadata": {},
   "source": [
    "- My Sql All querys \n",
    "- Normalization\n",
    "- like operator\n",
    "- contains\n",
    "- store  produser\n",
    "- prepare statement\n",
    "- joins\n",
    "- aaggrigents function\n",
    "- where  querys\n",
    "- date time function "
   ]
  }
 ],
 "metadata": {
  "kernelspec": {
   "display_name": "Python 3 (ipykernel)",
   "language": "python",
   "name": "python3"
  },
  "language_info": {
   "codemirror_mode": {
    "name": "ipython",
    "version": 3
   },
   "file_extension": ".py",
   "mimetype": "text/x-python",
   "name": "python",
   "nbconvert_exporter": "python",
   "pygments_lexer": "ipython3",
   "version": "3.11.4"
  }
 },
 "nbformat": 4,
 "nbformat_minor": 5
}
