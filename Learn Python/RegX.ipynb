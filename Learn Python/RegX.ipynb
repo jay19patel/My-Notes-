{
 "cells": [
  {
   "cell_type": "markdown",
   "id": "3a70b791-fd83-4348-9ccd-c3da089731f6",
   "metadata": {},
   "source": [
    "# RegX\n"
   ]
  },
  {
   "cell_type": "markdown",
   "id": "0d8018d9-689b-49fb-941d-2683dbb088bc",
   "metadata": {},
   "source": [
    "#### re.search(pattern, string): \n",
    "- Searches the given string for a match to the specified pattern and returns a match object if found, otherwise returns None.\n",
    "\n",
    "#### re.match(pattern, string):\n",
    "- Checks if the pattern matches at the beginning of the string and returns a match object if found, otherwise returns None.\n",
    "\n",
    "#### re.findall(pattern, string):\n",
    "- Returns all occurrences of the pattern in the string as a list.\n",
    "\n",
    "#### re.finditer(pattern, string): \n",
    "- Returns an iterator yielding match objects for all occurrences of the pattern in the string.\n",
    "\n",
    "#### re.sub(pattern, replacement, string): \n",
    "- Replaces all occurrences of the pattern in the string with the specified replacement.\n",
    "\n",
    "#### re.split(pattern, string): \n",
    "- Splits the string by occurrences of the pattern and returns a list of substrings."
   ]
  },
  {
   "cell_type": "code",
   "execution_count": 2,
   "id": "ea160e8f-1aeb-4ded-a035-c19185ce51ad",
   "metadata": {},
   "outputs": [],
   "source": [
    "import re"
   ]
  },
  {
   "cell_type": "code",
   "execution_count": 21,
   "id": "540836b1-eb53-43b2-bade-907106fa8f3d",
   "metadata": {},
   "outputs": [],
   "source": [
    "s = \"My Name is Jaykumar d patel from sukhesh , niunj kumar \""
   ]
  },
  {
   "cell_type": "code",
   "execution_count": 22,
   "id": "f3b61be7-d5fd-4686-a9d0-ccd1d1f513e9",
   "metadata": {},
   "outputs": [
    {
     "data": {
      "text/plain": [
       "<re.Match object; span=(14, 19), match='kumar'>"
      ]
     },
     "execution_count": 22,
     "metadata": {},
     "output_type": "execute_result"
    }
   ],
   "source": [
    "re.search(\"kumar\", s)"
   ]
  },
  {
   "cell_type": "code",
   "execution_count": 23,
   "id": "921b3d11-3af7-4392-a7d3-b4d424a5f63a",
   "metadata": {},
   "outputs": [],
   "source": [
    "re.match(\"kumar\", s) # not detect beacose match find only at begining of string "
   ]
  },
  {
   "cell_type": "code",
   "execution_count": 24,
   "id": "da6f8008-b131-40ad-bdb6-466342a42beb",
   "metadata": {},
   "outputs": [
    {
     "data": {
      "text/plain": [
       "['kumar', 'kumar']"
      ]
     },
     "execution_count": 24,
     "metadata": {},
     "output_type": "execute_result"
    }
   ],
   "source": [
    "re.findall(\"kumar\", s) # return thi string in list if find in the string data "
   ]
  },
  {
   "cell_type": "code",
   "execution_count": 25,
   "id": "3096e822-447f-4a3a-81d1-f0cc6e98fb6f",
   "metadata": {},
   "outputs": [
    {
     "data": {
      "text/plain": [
       "[<re.Match object; span=(14, 19), match='kumar'>,\n",
       " <re.Match object; span=(49, 54), match='kumar'>]"
      ]
     },
     "execution_count": 25,
     "metadata": {},
     "output_type": "execute_result"
    }
   ],
   "source": [
    "list(re.finditer(\"kumar\", s))"
   ]
  },
  {
   "cell_type": "code",
   "execution_count": 28,
   "id": "85acb5ab-e9df-4ac1-b1d3-1469b9c14c92",
   "metadata": {},
   "outputs": [
    {
     "data": {
      "text/plain": [
       "'My Name is Jayjay d patel from sukhesh , niunj jay '"
      ]
     },
     "execution_count": 28,
     "metadata": {},
     "output_type": "execute_result"
    }
   ],
   "source": [
    "re.sub(\"kumar\", \"jay\", s) # replace the data where pettern match "
   ]
  },
  {
   "cell_type": "markdown",
   "id": "56ad56d5-aef2-4d73-b454-58275b7f69ca",
   "metadata": {},
   "source": [
    "# Meta Characters"
   ]
  },
  {
   "cell_type": "raw",
   "id": "ac01dfe9-b5cd-411f-8f30-90c06c3fd89e",
   "metadata": {},
   "source": [
    "[]\tA set of characters\t\"[a-m]\"\t\n",
    "\\\tSignals a special sequence (can also be used to escape special characters)\t\"\\d\"\t\n",
    ".\tAny character (except newline character)\t\"he..o\"\t\n",
    "^\tStarts with\t\"^hello\"\t\n",
    "$\tEnds with\t\"planet$\"\t\n",
    "*\tZero or more occurrences\t\"he.*o\"\t\n",
    "+\tOne or more occurrences\t\"he.+o\"\t\n",
    "?\tZero or one occurrences\t\"he.?o\"\t\n",
    "{}\tExactly the specified number of occurrences\t\"he.{2}o\"\t\n",
    "|\tEither or\t\"falls|stays\"\t\n",
    "()\tCapture and group\t "
   ]
  },
  {
   "cell_type": "code",
   "execution_count": 33,
   "id": "3a56a3aa-9b7f-4089-80e0-3fe9acc8e4a6",
   "metadata": {},
   "outputs": [
    {
     "data": {
      "text/plain": [
       "['m', 'k', 'm', 'l', 'm', 'k', 'j', 'k', 'm']"
      ]
     },
     "execution_count": 33,
     "metadata": {},
     "output_type": "execute_result"
    }
   ],
   "source": [
    "re.findall(\"[j-m]\", s) # j thi M sudhi ni ABCD string ma hase to return thase "
   ]
  },
  {
   "cell_type": "code",
   "execution_count": 40,
   "id": "367ba477-6a6c-4a1f-bd70-8df408cf21bf",
   "metadata": {},
   "outputs": [
    {
     "data": {
      "text/plain": [
       "[]"
      ]
     },
     "execution_count": 40,
     "metadata": {},
     "output_type": "execute_result"
    }
   ],
   "source": [
    "re.findall(\"\\d\", s)"
   ]
  },
  {
   "cell_type": "code",
   "execution_count": 57,
   "id": "1099c808-cf47-4903-b839-b9399a7fc777",
   "metadata": {},
   "outputs": [
    {
     "data": {
      "text/plain": [
       "['sukhesh']"
      ]
     },
     "execution_count": 57,
     "metadata": {},
     "output_type": "execute_result"
    }
   ],
   "source": [
    "re.findall(\"su....h\", s) # return the full string where condtion match (fix len presetnt count of dots )"
   ]
  },
  {
   "cell_type": "code",
   "execution_count": 55,
   "id": "4b6836db-0e42-44fc-a09d-5d7a4ad250d0",
   "metadata": {},
   "outputs": [
    {
     "data": {
      "text/plain": [
       "['My']"
      ]
     },
     "execution_count": 55,
     "metadata": {},
     "output_type": "execute_result"
    }
   ],
   "source": [
    "re.findall(\"^My\", s) # if starting word of character is then return in list"
   ]
  },
  {
   "cell_type": "code",
   "execution_count": 56,
   "id": "c0527d21-263f-4f7a-a6ba-57288105807f",
   "metadata": {},
   "outputs": [
    {
     "data": {
      "text/plain": [
       "['sukhesh']"
      ]
     },
     "execution_count": 56,
     "metadata": {},
     "output_type": "execute_result"
    }
   ],
   "source": [
    "re.findall(\"su.*h\", s) # means any word or any langth word are present (zero ke ena karta vadhare)"
   ]
  },
  {
   "cell_type": "code",
   "execution_count": 58,
   "id": "40671464-87aa-440f-91bf-c74a8ef43566",
   "metadata": {},
   "outputs": [
    {
     "data": {
      "text/plain": [
       "['sukhesh']"
      ]
     },
     "execution_count": 58,
     "metadata": {},
     "output_type": "execute_result"
    }
   ],
   "source": [
    "re.findall(\"su.+h\", s) # ek ke ek karta vbadhare word hoy sake "
   ]
  },
  {
   "cell_type": "code",
   "execution_count": 65,
   "id": "2478b72e-0ff8-4ac5-afac-9343d2665aac",
   "metadata": {},
   "outputs": [
    {
     "data": {
      "text/plain": [
       "['sukh']"
      ]
     },
     "execution_count": 65,
     "metadata": {},
     "output_type": "execute_result"
    }
   ],
   "source": [
    "re.findall(\"su.?h\", s) #zero ka to ek ch hoy sake(ek j extra ), ? chinha pachi ch print na thay only ek j ch print thase puri stringnahi"
   ]
  },
  {
   "cell_type": "code",
   "execution_count": 66,
   "id": "89d9e738-6b94-4458-b41f-3144a07acfdf",
   "metadata": {},
   "outputs": [
    {
     "data": {
      "text/plain": [
       "['sukhesh']"
      ]
     },
     "execution_count": 66,
     "metadata": {},
     "output_type": "execute_result"
    }
   ],
   "source": [
    "re.findall(\"su.{4}h\", s) # .{4} 4 character hase to j return karse fix number true the return "
   ]
  },
  {
   "cell_type": "code",
   "execution_count": 68,
   "id": "07a3fb2f-e179-4c11-b623-7152fd36502a",
   "metadata": {},
   "outputs": [
    {
     "data": {
      "text/plain": [
       "['Name']"
      ]
     },
     "execution_count": 68,
     "metadata": {},
     "output_type": "execute_result"
    }
   ],
   "source": [
    "re.findall(\"name|Name\", s) # kya to aa kya to aa be mathi je hase te return karse "
   ]
  },
  {
   "cell_type": "markdown",
   "id": "0670c023-7e28-45b7-81cb-c98ed4efb2e8",
   "metadata": {},
   "source": [
    "# Special Sequences"
   ]
  },
  {
   "cell_type": "raw",
   "id": "e19a853c-193c-4d24-a3dd-41d8d17164e6",
   "metadata": {},
   "source": [
    "\\A\tReturns a match if the specified characters are at the beginning of the string\t\"\\AThe\"\t\n",
    "\\b\tReturns a match where the specified characters are at the beginning or at the end of a word\n",
    "    (the \"r\" in the beginning is making sure that the string is being treated as a \"raw string\")\tr\"\\bain\" r\"ain\\b\"\t\n",
    "\\B\tReturns a match where the specified characters are present, but NOT at the beginning (or at the end) of a word\n",
    "    (the \"r\" in the beginning is making sure that the string is being treated as a \"raw string\")\tr\"\\Bain\" r\"ain\\B\"\t\n",
    "\\d\tReturns a match where the string contains digits (numbers from 0-9)\t\"\\d\"\t\n",
    "\\D\tReturns a match where the string DOES NOT contain digits\t\"\\D\"\t\n",
    "\\s\tReturns a match where the string contains a white space character\t\"\\s\"\t\n",
    "\\S\tReturns a match where the string DOES NOT contain a white space character\t\"\\S\"\t\n",
    "\\w\tReturns a match where the string contains any word characters (characters from a to Z, digits from 0-9, and the underscore _ character)\t\"\\w\"\t\n",
    "\\W\tReturns a match where the string DOES NOT contain any word characters\t\"\\W\"\t\n",
    "\\Z\tReturns a match if the specified characters are at the end of the string\t\"Spain\\Z\""
   ]
  },
  {
   "cell_type": "code",
   "execution_count": 116,
   "id": "5ca9e40b-5b6f-4d99-91b7-9a4e74a14f2e",
   "metadata": {},
   "outputs": [],
   "source": [
    "ss = \"Jay Patel, Sanket Patel are good boys 55 by\""
   ]
  },
  {
   "cell_type": "code",
   "execution_count": 117,
   "id": "c8dea782-094b-42fb-95e7-242b15e359cb",
   "metadata": {},
   "outputs": [
    {
     "data": {
      "text/plain": [
       "['Jay']"
      ]
     },
     "execution_count": 117,
     "metadata": {},
     "output_type": "execute_result"
    }
   ],
   "source": [
    "re.findall(\"\\AJay\", ss) # Starting Ma Word hase to print thase"
   ]
  },
  {
   "cell_type": "code",
   "execution_count": 118,
   "id": "fb78a838-def7-4557-ad08-957e3de73332",
   "metadata": {},
   "outputs": [
    {
     "data": {
      "text/plain": [
       "['good']"
      ]
     },
     "execution_count": 118,
     "metadata": {},
     "output_type": "execute_result"
    }
   ],
   "source": [
    "re.findall(r\"\\bgood\", ss)  # if pattern match in any where in the sting return word in list"
   ]
  },
  {
   "cell_type": "code",
   "execution_count": 119,
   "id": "7856ad29-897b-4a07-a575-12bae1cf0a93",
   "metadata": {},
   "outputs": [
    {
     "data": {
      "text/plain": [
       "['ood']"
      ]
     },
     "execution_count": 119,
     "metadata": {},
     "output_type": "execute_result"
    }
   ],
   "source": [
    "re.findall(r\"\\Bood\", ss) # find only in the string not in begining "
   ]
  },
  {
   "cell_type": "code",
   "execution_count": 120,
   "id": "a019f969-25a9-4324-b1bf-c17b706d9efd",
   "metadata": {},
   "outputs": [
    {
     "data": {
      "text/plain": [
       "['5', '5']"
      ]
     },
     "execution_count": 120,
     "metadata": {},
     "output_type": "execute_result"
    }
   ],
   "source": [
    "re.findall(r\"\\d\", ss) # if string have digit number"
   ]
  },
  {
   "cell_type": "code",
   "execution_count": 121,
   "id": "4955d032-c00e-42ee-bd2b-2ea7fc1a0b79",
   "metadata": {},
   "outputs": [],
   "source": [
    "#re.findall(r\"\\D\", ss) # return the string which have no digital numbers "
   ]
  },
  {
   "cell_type": "code",
   "execution_count": 122,
   "id": "065f97b7-5a3b-4319-a0bc-d0101942fbce",
   "metadata": {},
   "outputs": [],
   "source": [
    "#re.findall(r\"\\s\", ss) #and re.findall(r\"\\S\", ss) # space and not sopaced word "
   ]
  },
  {
   "cell_type": "code",
   "execution_count": 123,
   "id": "d072ccb8-6137-46ec-b666-0a28dc8b98cb",
   "metadata": {},
   "outputs": [
    {
     "data": {
      "text/plain": [
       "[' ', ',', ' ', ' ', ' ', ' ', ' ', ' ', ' ']"
      ]
     },
     "execution_count": 123,
     "metadata": {},
     "output_type": "execute_result"
    }
   ],
   "source": [
    "re.findall(r\"\\W\", ss) #space and not sopaced word \n",
    "# small w is creturn straing when theyhave word formate  not return non word character,\n",
    "#  big W is return non word character "
   ]
  },
  {
   "cell_type": "code",
   "execution_count": 130,
   "id": "eececa04-7e2e-424a-b15f-4104486f308c",
   "metadata": {},
   "outputs": [
    {
     "data": {
      "text/plain": [
       "['by']"
      ]
     },
     "execution_count": 130,
     "metadata": {},
     "output_type": "execute_result"
    }
   ],
   "source": [
    "re.findall(r\"by\\Z\", ss) # if straing have this character in the end of string "
   ]
  },
  {
   "cell_type": "code",
   "execution_count": null,
   "id": "c5b0502e-faef-4c89-8c7c-ecbbb2ef4dfd",
   "metadata": {},
   "outputs": [],
   "source": []
  },
  {
   "cell_type": "code",
   "execution_count": null,
   "id": "6187a237-d7cd-430f-874d-bfd48ece7338",
   "metadata": {},
   "outputs": [],
   "source": []
  },
  {
   "cell_type": "code",
   "execution_count": null,
   "id": "0e0d494c-d7fd-498d-838e-a318842dfbd4",
   "metadata": {},
   "outputs": [],
   "source": []
  }
 ],
 "metadata": {
  "kernelspec": {
   "display_name": "Python 3 (ipykernel)",
   "language": "python",
   "name": "python3"
  },
  "language_info": {
   "codemirror_mode": {
    "name": "ipython",
    "version": 3
   },
   "file_extension": ".py",
   "mimetype": "text/x-python",
   "name": "python",
   "nbconvert_exporter": "python",
   "pygments_lexer": "ipython3",
   "version": "3.11.4"
  }
 },
 "nbformat": 4,
 "nbformat_minor": 5
}
