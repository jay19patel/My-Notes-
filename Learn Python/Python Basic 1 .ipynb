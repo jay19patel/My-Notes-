{
 "cells": [
  {
   "cell_type": "markdown",
   "id": "794b764d-6ebf-4142-b989-0ca3a5cde636",
   "metadata": {},
   "source": [
    "Python Therory\n",
    "- memory management\n",
    "- why python is interpreter\n",
    "- python dynamic type\n",
    "- python data type "
   ]
  },
  {
   "cell_type": "markdown",
   "id": "b7d5f897-a70a-43e2-9af6-13bf734fec9a",
   "metadata": {},
   "source": [
    "## Python Memory Management"
   ]
  },
  {
   "cell_type": "markdown",
   "id": "93203763-c40c-4c2a-86c4-6e6aeaf41a6b",
   "metadata": {},
   "source": [
    "- Python uses the dynamic memory allocation which is managed by the Heap data structure.\n",
    "- Memory Heap holds the objects and other data structures that will be used in the program\n",
    "- Python memory manager manages the allocation or de-allocation of the heap memory space through the API functions."
   ]
  },
  {
   "cell_type": "markdown",
   "id": "c1238494-0cad-4d3a-9d59-e0a1c5d92d92",
   "metadata": {},
   "source": [
    "## Python interpreter"
   ]
  },
  {
   "cell_type": "markdown",
   "id": "a3f63d9f-44f6-491b-b8a3-c94457a60f36",
   "metadata": {},
   "source": [
    "Python is an interpreted language, which means the source code of a Python program is converted into bytecode that is then executed by the Python virtual machine"
   ]
  },
  {
   "cell_type": "markdown",
   "id": "972c6ed0-d736-46a9-8bad-f475c10d2d87",
   "metadata": {},
   "source": [
    "- Ease of Development\n",
    "- Platform Independence \n",
    "- Dynamic Typing\n",
    "- Flexibility and Readability\n",
    "- Rapid Prototyping (scripting, web development, data analysis)\n",
    "- Ease of Debugging (Couse of line by line checking we find error in which line )"
   ]
  },
  {
   "cell_type": "markdown",
   "id": "37f199e5-da15-42ea-ab78-b95ca8efcce7",
   "metadata": {},
   "source": [
    "## Python Dynamic Type"
   ]
  },
  {
   "cell_type": "markdown",
   "id": "f89d93af-bf1f-4f4f-8bae-88ed422953b1",
   "metadata": {},
   "source": [
    "Python, dynamic typing refers to the feature where the type of a variable is determined at runtime, rather than being explicitly declared during variable initialization. This means that you don't need to specify the data type of a variable explicitly; Python will automatically figure it out based on the value assigned to the variable."
   ]
  },
  {
   "cell_type": "markdown",
   "id": "1e7ae43f-9993-49fd-9f2d-b99901340ed2",
   "metadata": {},
   "source": [
    "## Python data Type"
   ]
  },
  {
   "cell_type": "markdown",
   "id": "05a48616-34d8-4319-9ebb-5c20676d402d",
   "metadata": {},
   "source": [
    "#### Numeric Types\n"
   ]
  },
  {
   "cell_type": "code",
   "execution_count": 68,
   "id": "bd30b9a0-a646-4c38-b5c9-5f92bb062c53",
   "metadata": {},
   "outputs": [
    {
     "name": "stdout",
     "output_type": "stream",
     "text": [
      "125 <class 'dict'>\n",
      "1.5 <class 'float'>\n",
      "True <class 'bool'>\n"
     ]
    }
   ],
   "source": [
    "##### int: Integer data type, e.g., 5, -10, 1000.\n",
    "intdata = 125\n",
    "print(intdata,type(data))\n",
    "\n",
    "##### float: Floating-point data type, e.g., 3.14, -2.5, 0.1.\n",
    "floatdata = 1.5\n",
    "print(floatdata,type(floatdata))\n",
    "\n",
    "##### Boolean Type: bool: Represents the Boolean values True or False.\n",
    "booldata = True #False \n",
    "print(booldata,type(booldata))"
   ]
  },
  {
   "cell_type": "markdown",
   "id": "c9a30b98-b6ed-4d7e-a61f-f202062b7582",
   "metadata": {},
   "source": [
    "#### Text Type"
   ]
  },
  {
   "cell_type": "code",
   "execution_count": 69,
   "id": "1efe0e1f-a0f5-4e86-a7e7-88cede696837",
   "metadata": {},
   "outputs": [
    {
     "data": {
      "text/plain": [
       "str"
      ]
     },
     "execution_count": 69,
     "metadata": {},
     "output_type": "execute_result"
    }
   ],
   "source": [
    "##### str: Represents strings of characters, e.g., \"Hello, Python!\", '42'.\n",
    "strdata = \"Hi Jay how Are You\"\n",
    "type(strdata)\n",
    "##### what are place in two perenthesys(\" \" or  ' ' )  its Call string "
   ]
  },
  {
   "cell_type": "markdown",
   "id": "c732b7b9-40c0-425a-a5c8-ffbe0df1c558",
   "metadata": {},
   "source": [
    "#### Sequence Types:"
   ]
  },
  {
   "cell_type": "code",
   "execution_count": 12,
   "id": "c34b78f7-7423-4342-ad6f-aff2f0c4d80e",
   "metadata": {},
   "outputs": [],
   "source": [
    "##### list: Ordered and mutable collection of elements, e.g., [1, 2, 3].\n",
    "listdata = [1,2,3,\"jay\"]\n",
    "##### tuple: Ordered and immutable collection of elements, e.g., (1, 2, 3).\n",
    "tupledata = (1,2,3,\"jay\")"
   ]
  },
  {
   "cell_type": "markdown",
   "id": "b6d38e63-69d3-41f4-ade4-a7ff3bb8bd3b",
   "metadata": {},
   "source": [
    "#### Mapping Type:"
   ]
  },
  {
   "cell_type": "code",
   "execution_count": 13,
   "id": "c378b031-9611-4052-80dd-c27541134e13",
   "metadata": {},
   "outputs": [],
   "source": [
    "# dict: Represents a collection of key-value pairs, e.g., {'name': 'John', 'age': 30}.\n",
    "\n",
    "dictdata = {\n",
    "    \"name\":\"jay\",\n",
    "    \"age\":22,\n",
    "    \"skills\":[\"Python\",\"Javacripts\"]\n",
    "}"
   ]
  },
  {
   "cell_type": "markdown",
   "id": "bf6ccdc9-b61b-4308-91ae-72a5e3d76780",
   "metadata": {},
   "source": [
    "#### Set Types: "
   ]
  },
  {
   "cell_type": "code",
   "execution_count": 72,
   "id": "c9814d1e-0c1e-4440-bca2-af8eb2a34bf0",
   "metadata": {},
   "outputs": [
    {
     "data": {
      "text/plain": [
       "{1, 2, 3, 4, 5, 6, 'jay'}"
      ]
     },
     "execution_count": 72,
     "metadata": {},
     "output_type": "execute_result"
    }
   ],
   "source": [
    "# set: Unordered collection of unique elements, e.g., {1, 2, 3}.\n",
    "# frozenset: Immutable version of a set.\n",
    "\n",
    "data = [1,2,3,4,5,6,1,2,3,4,5,6,\"jay\"]\n",
    "setdata = set(data)\n",
    "setdata\n",
    "#  set are not conatine duplicate values "
   ]
  },
  {
   "cell_type": "markdown",
   "id": "5bd1134b-0b2d-443c-95c2-05005edf10fb",
   "metadata": {},
   "source": [
    "#### None Type:"
   ]
  },
  {
   "cell_type": "code",
   "execution_count": 73,
   "id": "4423e395-2b0c-4104-868d-a7844be06f56",
   "metadata": {},
   "outputs": [
    {
     "data": {
      "text/plain": [
       "NoneType"
      ]
     },
     "execution_count": 73,
     "metadata": {},
     "output_type": "execute_result"
    }
   ],
   "source": [
    "# None: Represents the absence of a value, often used as a default or placeholder.\n",
    "Mydata = None\n",
    "type(Mydata)"
   ]
  },
  {
   "cell_type": "markdown",
   "id": "57bd11b1-87a7-4ecd-b57e-f3478a91e892",
   "metadata": {},
   "source": [
    "# Access Data From Dictionary"
   ]
  },
  {
   "cell_type": "code",
   "execution_count": 29,
   "id": "0f42e236-3c14-4390-b8af-09e22f123ebc",
   "metadata": {},
   "outputs": [],
   "source": [
    "data = {\n",
    "    \"name\":\"Jay\",\n",
    "    \"age\":21\n",
    "}"
   ]
  },
  {
   "cell_type": "code",
   "execution_count": 30,
   "id": "3fddf33d-7dcd-4197-bdec-3e781a294405",
   "metadata": {},
   "outputs": [
    {
     "data": {
      "text/plain": [
       "21"
      ]
     },
     "execution_count": 30,
     "metadata": {},
     "output_type": "execute_result"
    }
   ],
   "source": [
    "data.get(\"age\")"
   ]
  },
  {
   "cell_type": "code",
   "execution_count": 31,
   "id": "6c3da6a8-2e09-4f66-895e-4252a10b5c5d",
   "metadata": {},
   "outputs": [
    {
     "data": {
      "text/plain": [
       "dict_values(['Jay', 21])"
      ]
     },
     "execution_count": 31,
     "metadata": {},
     "output_type": "execute_result"
    }
   ],
   "source": [
    "data.values()"
   ]
  },
  {
   "cell_type": "code",
   "execution_count": 32,
   "id": "473de3e2-9f03-4953-bece-1361e651cab5",
   "metadata": {},
   "outputs": [
    {
     "data": {
      "text/plain": [
       "dict_items([('name', 'Jay'), ('age', 21)])"
      ]
     },
     "execution_count": 32,
     "metadata": {},
     "output_type": "execute_result"
    }
   ],
   "source": [
    "data.items()"
   ]
  },
  {
   "cell_type": "code",
   "execution_count": 33,
   "id": "74c9586b-9439-4210-9fd4-0da8e16d82d7",
   "metadata": {},
   "outputs": [
    {
     "data": {
      "text/plain": [
       "dict_keys(['name', 'age'])"
      ]
     },
     "execution_count": 33,
     "metadata": {},
     "output_type": "execute_result"
    }
   ],
   "source": [
    "data.keys()"
   ]
  },
  {
   "cell_type": "code",
   "execution_count": 34,
   "id": "45bb3b7e-1442-4849-b207-9d70f0ca40f0",
   "metadata": {},
   "outputs": [
    {
     "data": {
      "text/plain": [
       "'Jay'"
      ]
     },
     "execution_count": 34,
     "metadata": {},
     "output_type": "execute_result"
    }
   ],
   "source": [
    "data.pop(\"name\")"
   ]
  },
  {
   "cell_type": "code",
   "execution_count": 35,
   "id": "284f634f-8f52-4b6e-8314-8ec07c7b5045",
   "metadata": {},
   "outputs": [
    {
     "data": {
      "text/plain": [
       "('age', 21)"
      ]
     },
     "execution_count": 35,
     "metadata": {},
     "output_type": "execute_result"
    }
   ],
   "source": [
    "key, value = data.popitem()\n",
    "key,value"
   ]
  },
  {
   "cell_type": "code",
   "execution_count": 20,
   "id": "b5374955-18a6-4f5e-b10c-bec4c076ab71",
   "metadata": {},
   "outputs": [
    {
     "data": {
      "text/plain": [
       "{'age': 21}"
      ]
     },
     "execution_count": 20,
     "metadata": {},
     "output_type": "execute_result"
    }
   ],
   "source": [
    "data"
   ]
  },
  {
   "cell_type": "code",
   "execution_count": 21,
   "id": "659f8680-2090-4cd9-a777-24074cf1c77f",
   "metadata": {},
   "outputs": [
    {
     "data": {
      "text/plain": [
       "{'age': 25, 'Full Name': 'Jay Patel'}"
      ]
     },
     "execution_count": 21,
     "metadata": {},
     "output_type": "execute_result"
    }
   ],
   "source": [
    "data.update({\"age\":25})\n",
    "data[\"Full Name\"]= \"Jay Patel\"\n",
    "data"
   ]
  },
  {
   "cell_type": "code",
   "execution_count": 85,
   "id": "a1a35011-0f2f-48cb-b526-f4907cdad9c7",
   "metadata": {},
   "outputs": [],
   "source": [
    "# get(key, default=None): Return the value associated with the specified key. If the key is not found, it returns the default value (defaulting to None if not provided).\n",
    "# keys(): Return a view object that displays a list of all the keys in the dictionary.\n",
    "# values(): Return a view object that displays a list of all the values in the dictionary.\n",
    "# items(): Return a view object that displays a list of key-value tuples in the dictionary.\n",
    "# pop(key, default=None): Remove the key-value pair with the specified key and return the value. If the key is not found, it returns the default value (or raises a KeyError if the default is not provided).\n",
    "# popitem(): Remove and return an arbitrary key-value pair from the dictionary.\n",
    "# key, value = my_dict.popitem()  # key and value are arbitrary (not predictable), my_dict will have two items left\n",
    "# clear(): Remove all elements from the dictionary, making it an empty dictionary."
   ]
  },
  {
   "cell_type": "markdown",
   "id": "9deb50e3-1f2b-4013-8458-c86458f52828",
   "metadata": {},
   "source": [
    "# Access Data From List"
   ]
  },
  {
   "cell_type": "code",
   "execution_count": 2,
   "id": "7f18966d-1caa-4699-b7c2-a39bfff97a76",
   "metadata": {},
   "outputs": [],
   "source": [
    "list_ = [1,2,3]"
   ]
  },
  {
   "cell_type": "code",
   "execution_count": 3,
   "id": "0b906a18-3085-462c-b5a2-03623032782e",
   "metadata": {},
   "outputs": [
    {
     "data": {
      "text/plain": [
       "2"
      ]
     },
     "execution_count": 3,
     "metadata": {},
     "output_type": "execute_result"
    }
   ],
   "source": [
    "list[1] # pass index vlaues and get value "
   ]
  },
  {
   "cell_type": "code",
   "execution_count": 4,
   "id": "65642201-a17e-4f64-8470-c0bd1b15e900",
   "metadata": {},
   "outputs": [
    {
     "data": {
      "text/plain": [
       "1"
      ]
     },
     "execution_count": 4,
     "metadata": {},
     "output_type": "execute_result"
    }
   ],
   "source": [
    "list.index(2) # pass values and get index vlaue "
   ]
  },
  {
   "cell_type": "code",
   "execution_count": 5,
   "id": "0728ffea-a675-4222-b7dc-695802553dd5",
   "metadata": {},
   "outputs": [],
   "source": [
    "# append(item): Add an element to the end of the list.\n",
    "# extend(iterable): Extend the list by appending elements from another iterable (e.g., another list).\n",
    "# insert(index, item): Insert an element at a specific index in the list.\n",
    "# remove(item): Remove the first occurrence of an element from the list.\n",
    "# pop(index): Remove and return the element at the given index. If the index is not provided, it removes and returns the last element.\n",
    "# index(item): Return the index of the first occurrence of the specified item in the list."
   ]
  },
  {
   "cell_type": "code",
   "execution_count": 11,
   "id": "6fd65be6-2a4d-41f2-8ac7-8429d0a3569b",
   "metadata": {},
   "outputs": [],
   "source": [
    "list[:] = list[::-1]\n",
    "#  change data but same memory location  using [:]"
   ]
  },
  {
   "cell_type": "markdown",
   "id": "e49905c9-7fe6-44fa-ab07-4f173ca7a30c",
   "metadata": {},
   "source": [
    "# Access Data from Set"
   ]
  },
  {
   "cell_type": "code",
   "execution_count": 7,
   "id": "f01fbc5f-7338-4a56-ab82-63bde8db5ae7",
   "metadata": {},
   "outputs": [
    {
     "data": {
      "text/plain": [
       "{1, 2, 3, 4, 5}"
      ]
     },
     "execution_count": 7,
     "metadata": {},
     "output_type": "execute_result"
    }
   ],
   "source": [
    "set1 = {1, 2, 3}\n",
    "set2 = {3, 4, 5}\n",
    "\n",
    "set1.union(set2) "
   ]
  },
  {
   "cell_type": "code",
   "execution_count": 91,
   "id": "95cc3d57-5fbc-4704-bbc0-a8cc51cadc73",
   "metadata": {},
   "outputs": [
    {
     "data": {
      "text/plain": [
       "{3}"
      ]
     },
     "execution_count": 91,
     "metadata": {},
     "output_type": "execute_result"
    }
   ],
   "source": [
    "set1.intersection(set2) # banne ma same "
   ]
  },
  {
   "cell_type": "code",
   "execution_count": 92,
   "id": "13d0d0bd-3a40-4e4e-900b-5b1f159b6a5e",
   "metadata": {},
   "outputs": [
    {
     "data": {
      "text/plain": [
       "{1, 2}"
      ]
     },
     "execution_count": 92,
     "metadata": {},
     "output_type": "execute_result"
    }
   ],
   "source": [
    "set1.difference(set2) # set 1 ma kayu chhe not add  set2 data "
   ]
  },
  {
   "cell_type": "code",
   "execution_count": 93,
   "id": "322c73e3-1dab-4726-aec0-ef10bda8cb52",
   "metadata": {},
   "outputs": [
    {
     "data": {
      "text/plain": [
       "set()"
      ]
     },
     "execution_count": 93,
     "metadata": {},
     "output_type": "execute_result"
    }
   ],
   "source": [
    "set1.clear() # parsialy delete data \n",
    "set1"
   ]
  },
  {
   "cell_type": "code",
   "execution_count": 94,
   "id": "cac08d0b-e1d8-413c-bde0-e19e8550c009",
   "metadata": {},
   "outputs": [],
   "source": [
    "# add(item): Add an element to the set.\n",
    "# update(iterable): Update the set by adding elements from another iterable (e.g., another set).\n",
    "# remove(item): Remove the specified element from the set. Raises KeyError if the element is not found.\n",
    "# discard(item): Remove the specified element from the set if it is present. If the element is not found, it does nothing (no error).\n",
    "# pop(): Remove and return an arbitrary element from the set. Since sets are unordered, the popped element is not predictable.\n",
    "# popped_element = my_set.pop()  # popped_element is an arbitrary element, my_set will have two elements left\n",
    "# clear(): Remove all elements from the set, making it an empty set."
   ]
  },
  {
   "cell_type": "code",
   "execution_count": 95,
   "id": "5cd1e0c2-87ff-4cea-bb64-2a180e2cd867",
   "metadata": {},
   "outputs": [
    {
     "data": {
      "text/plain": [
       "True"
      ]
     },
     "execution_count": 95,
     "metadata": {},
     "output_type": "execute_result"
    }
   ],
   "source": [
    "isinstance(5, int)"
   ]
  },
  {
   "cell_type": "code",
   "execution_count": 96,
   "id": "4498dff6-07f2-45fa-ad13-76dfb7445501",
   "metadata": {},
   "outputs": [
    {
     "data": {
      "text/plain": [
       "False"
      ]
     },
     "execution_count": 96,
     "metadata": {},
     "output_type": "execute_result"
    }
   ],
   "source": [
    "isinstance(5, str)"
   ]
  },
  {
   "cell_type": "code",
   "execution_count": 64,
   "id": "08d3b1de-f947-4de4-8afe-7fb36e9144fe",
   "metadata": {},
   "outputs": [
    {
     "data": {
      "text/plain": [
       "True"
      ]
     },
     "execution_count": 64,
     "metadata": {},
     "output_type": "execute_result"
    }
   ],
   "source": [
    "isinstance(\"5\", str)"
   ]
  },
  {
   "cell_type": "code",
   "execution_count": null,
   "id": "d34231b7-21ee-4f41-abfe-aadc0e9bb449",
   "metadata": {},
   "outputs": [],
   "source": []
  }
 ],
 "metadata": {
  "kernelspec": {
   "display_name": "Python 3 (ipykernel)",
   "language": "python",
   "name": "python3"
  },
  "language_info": {
   "codemirror_mode": {
    "name": "ipython",
    "version": 3
   },
   "file_extension": ".py",
   "mimetype": "text/x-python",
   "name": "python",
   "nbconvert_exporter": "python",
   "pygments_lexer": "ipython3",
   "version": "3.11.4"
  }
 },
 "nbformat": 4,
 "nbformat_minor": 5
}
