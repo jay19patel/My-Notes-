{
 "cells": [
  {
   "cell_type": "markdown",
   "id": "74e0d420-2662-4a96-b8f0-a9145f3a98e6",
   "metadata": {},
   "source": [
    "## oprations"
   ]
  },
  {
   "cell_type": "code",
   "execution_count": 2,
   "id": "fe82a6ad-af68-4808-b339-52e4e5d40f0f",
   "metadata": {},
   "outputs": [],
   "source": [
    "# Create database dbname ; => Create new database "
   ]
  },
  {
   "cell_type": "code",
   "execution_count": null,
   "id": "6a22dffb-aef4-497a-80c3-0f14b1c704ce",
   "metadata": {},
   "outputs": [],
   "source": [
    "#  show databases; => show all databases"
   ]
  },
  {
   "cell_type": "code",
   "execution_count": 28,
   "id": "24c92bfd-224b-4dd2-8226-aa6335834274",
   "metadata": {},
   "outputs": [],
   "source": [
    "#  use database dbname; => choice our data base "
   ]
  },
  {
   "cell_type": "code",
   "execution_count": null,
   "id": "972c9715-417d-471d-b9b1-11202a361549",
   "metadata": {},
   "outputs": [],
   "source": [
    "#  drop database dbname; => delete database "
   ]
  },
  {
   "cell_type": "code",
   "execution_count": 40,
   "id": "d19754e1-d9f9-41cd-9652-b38fe8b7a2f6",
   "metadata": {},
   "outputs": [],
   "source": [
    "#  create tabe tbname (id int ,name varchar(20)); => create new table  "
   ]
  },
  {
   "cell_type": "code",
   "execution_count": null,
   "id": "f74fc27b-c3bd-4ee8-b330-f163f3611ef7",
   "metadata": {},
   "outputs": [],
   "source": [
    "#  desc tbname ; => table info "
   ]
  },
  {
   "cell_type": "code",
   "execution_count": 9,
   "id": "63bd968e-8b48-4ec1-9325-f3fc4df072c0",
   "metadata": {},
   "outputs": [],
   "source": [
    "#  Insert into tbname values (1,\"Jay\") => add items in table"
   ]
  },
  {
   "cell_type": "code",
   "execution_count": null,
   "id": "937dda26-289d-4365-b627-a25b5c3481cf",
   "metadata": {},
   "outputs": [],
   "source": [
    "#  select* from name order by name; => whatch data using soreting name "
   ]
  },
  {
   "cell_type": "code",
   "execution_count": 10,
   "id": "5686c43e-b242-4ff5-9c4c-b55bf1db55e8",
   "metadata": {},
   "outputs": [],
   "source": [
    "# update name set name = \"zeel\" where id = 5; => uodate name and any row data"
   ]
  },
  {
   "cell_type": "code",
   "execution_count": null,
   "id": "0c2eae05-7e30-4a34-b76c-8e67f5bae42b",
   "metadata": {},
   "outputs": [],
   "source": [
    "#  truncate table tbname ; => delete only tables data not a table "
   ]
  },
  {
   "cell_type": "code",
   "execution_count": null,
   "id": "c8537eed-5926-4579-8a58-c7b5bb55e0f9",
   "metadata": {},
   "outputs": [],
   "source": [
    "#  delete from tbname where age = \"21\"; => delete row where age is 21 "
   ]
  },
  {
   "cell_type": "code",
   "execution_count": null,
   "id": "a3a98fbd-d598-438e-b37b-da6e78511a87",
   "metadata": {},
   "outputs": [],
   "source": [
    "# alter table name add roll varchar(20) Unique; => Chnage and Add Column"
   ]
  },
  {
   "cell_type": "code",
   "execution_count": 3,
   "id": "ce611588-8c00-4715-a833-4185820714e9",
   "metadata": {},
   "outputs": [],
   "source": [
    "# select distinct id *from table_name where id is not None  # here we get not null id and also using(distinct) we have not repated id "
   ]
  },
  {
   "cell_type": "code",
   "execution_count": 29,
   "id": "85214737-709c-44df-a49a-5110285c2558",
   "metadata": {},
   "outputs": [],
   "source": [
    "#  desc tbname ; => Structure of tbale "
   ]
  },
  {
   "cell_type": "code",
   "execution_count": 25,
   "id": "d7cc8adc-c32f-4837-84b6-65d5e5c9a56d",
   "metadata": {},
   "outputs": [],
   "source": [
    " # select*from name where name like \"A%\"; => deispya data where name starting with A "
   ]
  },
  {
   "cell_type": "markdown",
   "id": "7d13bb2f-0359-4f24-9bab-f29a349be538",
   "metadata": {},
   "source": [
    "## Aggregate functions"
   ]
  },
  {
   "cell_type": "raw",
   "id": "9df96d91-b245-4252-ba49-c762f2fa7023",
   "metadata": {},
   "source": [
    "Aggregate functions in MySQL are used to calculate a set of values and return a single value as a result. \n",
    "COUNT, SUM, AVG, MIN, MAX, FIRST, LAST, and GROUP_CONCAT. \n",
    "Aggregate functions can be used with or without the GROUP BY clause."
   ]
  },
  {
   "cell_type": "code",
   "execution_count": 23,
   "id": "aa9a2f1d-2a06-4256-9270-5cbe83e401f7",
   "metadata": {},
   "outputs": [],
   "source": [
    " # select count(name) as total from name ; => total count of name data and save in table total"
   ]
  },
  {
   "cell_type": "code",
   "execution_count": 24,
   "id": "b871aa9d-1faf-4909-8de0-838b3237aae5",
   "metadata": {},
   "outputs": [],
   "source": [
    "# select count(name) as total from name where name = \"Jay\"; => count of data where name is Jay"
   ]
  },
  {
   "cell_type": "code",
   "execution_count": 26,
   "id": "83d4435d-25de-4207-bdec-096e64324b2c",
   "metadata": {},
   "outputs": [],
   "source": [
    "# select max(id) from name ; => get max an min number of id "
   ]
  },
  {
   "cell_type": "markdown",
   "id": "a825f603-1b32-4118-9225-17f7a369ad4c",
   "metadata": {},
   "source": [
    "# sub query"
   ]
  },
  {
   "cell_type": "code",
   "execution_count": 1,
   "id": "b22c33da-27fe-430d-9824-1d6a3fa24a4d",
   "metadata": {},
   "outputs": [],
   "source": [
    "# koy query ni andar koy query use karva pade tene sub query kevay"
   ]
  },
  {
   "cell_type": "code",
   "execution_count": 2,
   "id": "667dceb0-27d3-4639-ab79-999b5aa0b7f1",
   "metadata": {},
   "outputs": [],
   "source": [
    "# select name,age,(select avg(age)  from table_name) as avg_age from  table_name ;"
   ]
  },
  {
   "cell_type": "markdown",
   "id": "5bfc4486-4fe9-4aab-a72c-2eed9a049b36",
   "metadata": {},
   "source": [
    "## Constrains in mysql"
   ]
  },
  {
   "cell_type": "code",
   "execution_count": 42,
   "id": "0034b054-b11f-4337-bb67-7e3672babe30",
   "metadata": {},
   "outputs": [],
   "source": [
    " # Not Null  unique  default check foreign key primary key"
   ]
  },
  {
   "cell_type": "code",
   "execution_count": 43,
   "id": "1662ea0a-c3e3-4c37-9e89-8e17f0a94461",
   "metadata": {},
   "outputs": [],
   "source": [
    "# not null => column data are not null values ,"
   ]
  },
  {
   "cell_type": "code",
   "execution_count": 44,
   "id": "44942993-a472-4f28-b858-4cd5e07dfc2c",
   "metadata": {},
   "outputs": [],
   "source": [
    "#  unique => evry data are unique and also null value "
   ]
  },
  {
   "cell_type": "code",
   "execution_count": 46,
   "id": "6b5a69d8-b246-4d45-a63c-af1eb474f2f2",
   "metadata": {},
   "outputs": [],
   "source": [
    "# check => if we need to some constrain to inserting data then check option use , if we need only 18 abov age the we use chack (age>18)"
   ]
  },
  {
   "cell_type": "markdown",
   "id": "a7484681-b253-45f0-a0b6-e30ebebd0d51",
   "metadata": {},
   "source": [
    "## Keys"
   ]
  },
  {
   "cell_type": "code",
   "execution_count": 31,
   "id": "a5d67d17-0929-4bd0-b802-bcec3262cd19",
   "metadata": {},
   "outputs": [],
   "source": [
    "# Unique key => evry data are not save , they are null but not same with other collation"
   ]
  },
  {
   "cell_type": "code",
   "execution_count": 32,
   "id": "016feb14-75a9-41cb-a22e-69c44be004bd",
   "metadata": {},
   "outputs": [],
   "source": [
    "# Primary key => They are conatine also unique values but they are not null and also useing primary key we use those data in somewhere"
   ]
  },
  {
   "cell_type": "code",
   "execution_count": 33,
   "id": "6ab1cda5-3095-41ce-869d-16a1f829b0e5",
   "metadata": {},
   "outputs": [],
   "source": [
    "#  Foreign key => we use as as linked key like we link primary key with foreign key and link to gether tables"
   ]
  },
  {
   "cell_type": "code",
   "execution_count": null,
   "id": "4f1c3a19-5055-410a-a1e0-36cae58a44a2",
   "metadata": {},
   "outputs": [],
   "source": []
  },
  {
   "cell_type": "markdown",
   "id": "ac8c27f0-8dfb-48da-b510-a53a5751fdaa",
   "metadata": {},
   "source": [
    "## Joins"
   ]
  },
  {
   "cell_type": "code",
   "execution_count": 34,
   "id": "e2f42ae6-f92b-493b-b9f3-c12cebd9126c",
   "metadata": {},
   "outputs": [],
   "source": [
    "#  Inner Join => only get same data in both tables "
   ]
  },
  {
   "cell_type": "code",
   "execution_count": 36,
   "id": "bba0e5c0-34d0-4a37-9868-054f0c708b9d",
   "metadata": {},
   "outputs": [],
   "source": [
    "# left Outer join => "
   ]
  },
  {
   "cell_type": "code",
   "execution_count": 37,
   "id": "4c263ba4-82f1-4707-b936-78fb5288e036",
   "metadata": {},
   "outputs": [],
   "source": [
    "# Righ outer join => combine  all data of right side table and only  have link data of left side "
   ]
  },
  {
   "cell_type": "code",
   "execution_count": null,
   "id": "43e8f8c2-d90e-404b-96a2-af7959b6d76a",
   "metadata": {},
   "outputs": [],
   "source": [
    "#  Cross Join => All data are cobinate with each other and all posibales are generate"
   ]
  },
  {
   "cell_type": "code",
   "execution_count": 38,
   "id": "b46e5ee6-b79c-4ef0-9974-4aec76d2b0fe",
   "metadata": {},
   "outputs": [],
   "source": [
    "# select name.name,roll.roll from name inner join roll on roll.roll = name.roll; => connect two tables where id is same "
   ]
  },
  {
   "cell_type": "code",
   "execution_count": 39,
   "id": "c2c112e4-fbbd-491c-a484-63f41396072a",
   "metadata": {},
   "outputs": [],
   "source": [
    "# select name.name,roll.roll from name cross join roll; => name darek roll npo sathe cross thase je not null value hoy ena sathe "
   ]
  },
  {
   "cell_type": "code",
   "execution_count": null,
   "id": "a6111574-9c5a-4d90-93df-51af0108561a",
   "metadata": {},
   "outputs": [],
   "source": []
  },
  {
   "cell_type": "markdown",
   "id": "62dd9b23-f767-4163-ad71-2278f2788f73",
   "metadata": {},
   "source": [
    "# dat time Function in MYSQL\n"
   ]
  },
  {
   "cell_type": "code",
   "execution_count": 1,
   "id": "73c02e55-14ac-4523-ad50-886fc5210c81",
   "metadata": {},
   "outputs": [],
   "source": [
    "# select current_timestamp()\n",
    "# select now();"
   ]
  },
  {
   "cell_type": "code",
   "execution_count": 2,
   "id": "8df168e2-fecb-4fa4-b1f3-18219a2eb186",
   "metadata": {},
   "outputs": [],
   "source": [
    "# select year(\"2001/02/05\");\n",
    "# YEAR | MONTH | WEEK | DAY | HOUR | MINUTE | DOW | DOY | (day of week and year)"
   ]
  },
  {
   "cell_type": "markdown",
   "id": "401b37ce-0853-49d2-a033-53e7ec69d83b",
   "metadata": {},
   "source": [
    "## Data base connection with Python"
   ]
  },
  {
   "cell_type": "code",
   "execution_count": 52,
   "id": "10cbfdfd-97a8-4bae-a67d-a97cf05e1166",
   "metadata": {},
   "outputs": [],
   "source": [
    "import mysql.connector"
   ]
  },
  {
   "cell_type": "code",
   "execution_count": 53,
   "id": "67202f20-e550-440f-bccd-7c0a9ed8a51c",
   "metadata": {},
   "outputs": [],
   "source": [
    "cnx = mysql.connector.connect(user='root', password='Root36Jay',\n",
    "                              host='localhost',\n",
    "                              database='jay')\n"
   ]
  },
  {
   "cell_type": "code",
   "execution_count": 54,
   "id": "4379f4d0-fc57-4e46-96e9-14b72028de17",
   "metadata": {},
   "outputs": [],
   "source": [
    "db = cnx.cursor()"
   ]
  },
  {
   "cell_type": "code",
   "execution_count": 55,
   "id": "7d8091bb-62fd-4a53-9b5c-4a80ce42e28c",
   "metadata": {},
   "outputs": [],
   "source": [
    "db.execute(\"show databases;\")\n",
    "dbs = db.fetchall()"
   ]
  },
  {
   "cell_type": "code",
   "execution_count": 56,
   "id": "2cf2b59d-37db-4df4-bf02-d48868f70112",
   "metadata": {},
   "outputs": [
    {
     "data": {
      "text/plain": [
       "[('information_schema',),\n",
       " ('jay',),\n",
       " ('mysql',),\n",
       " ('performance_schema',),\n",
       " ('school',),\n",
       " ('schooltest',),\n",
       " ('sys',),\n",
       " ('test',)]"
      ]
     },
     "execution_count": 56,
     "metadata": {},
     "output_type": "execute_result"
    }
   ],
   "source": [
    "dbs"
   ]
  },
  {
   "cell_type": "code",
   "execution_count": 57,
   "id": "467baffd-2f95-4912-a150-cc2c8039b277",
   "metadata": {},
   "outputs": [],
   "source": [
    "# db.execute(\"show databases;\") => pass eny quaery in execute function "
   ]
  },
  {
   "cell_type": "code",
   "execution_count": 58,
   "id": "9f47a75f-abd3-446b-b48d-c18d7d5328c6",
   "metadata": {},
   "outputs": [],
   "source": [
    "#  if we insert some data then we need commit our data in data base ;"
   ]
  },
  {
   "cell_type": "code",
   "execution_count": null,
   "id": "9b2cf9b6-4e7e-4119-9be0-80201b8ffcf4",
   "metadata": {},
   "outputs": [],
   "source": []
  }
 ],
 "metadata": {
  "kernelspec": {
   "display_name": "Python 3 (ipykernel)",
   "language": "python",
   "name": "python3"
  },
  "language_info": {
   "codemirror_mode": {
    "name": "ipython",
    "version": 3
   },
   "file_extension": ".py",
   "mimetype": "text/x-python",
   "name": "python",
   "nbconvert_exporter": "python",
   "pygments_lexer": "ipython3",
   "version": "3.11.4"
  }
 },
 "nbformat": 4,
 "nbformat_minor": 5
}
